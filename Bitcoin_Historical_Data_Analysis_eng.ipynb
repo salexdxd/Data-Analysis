{
 "cells": [
  {
   "cell_type": "markdown",
   "metadata": {
    "id": "ea62DKx-mSgT"
   },
   "source": [
    "# Bitcoin Historical Data Analysis\n",
    "\n",
    "### TODO - Analyze & Visualize data \n",
    "### About dataset\n",
    "####   - Source Kaggle\n",
    "####   - Historical bitcoin data\n",
    "####   - Can be used to inspect historical bitcoin prices"
   ]
  },
  {
   "cell_type": "markdown",
   "metadata": {
    "id": "c08eX5nRoR-M"
   },
   "source": [
    "### Getting data from Kaggle"
   ]
  },
  {
   "cell_type": "markdown",
   "metadata": {
    "id": "5A4bl7N8sb3J"
   },
   "source": [
    "### About dataset columns - https://www.kaggle.com/mczielinski/bitcoin-historical-data\n",
    "  - Timestamp - Start time of time window (60s window), in Unix time\n",
    "  - Open - Open price at start time window\n",
    "  - High - High price within time window\n",
    "  - Low - Low price within time window\n",
    "  - Close - Close price at end of time window\n",
    "  - Volume_(BTC) - Volume of BTC transacted in this window\n",
    "  - Volume_(Currency) - Volume of corresponding currency transacted in this window\n",
    "  - Weighted_Price - VWAP- Volume Weighted Average Price"
   ]
  },
  {
   "cell_type": "code",
   "execution_count": 57,
   "metadata": {
    "id": "GSj8bFDcohxR"
   },
   "outputs": [
    {
     "name": "stdout",
     "output_type": "stream",
     "text": [
      "Note: you may need to restart the kernel to use updated packages.\n"
     ]
    }
   ],
   "source": [
    "pip install opendatasets --upgrade --quiet"
   ]
  },
  {
   "cell_type": "code",
   "execution_count": 58,
   "metadata": {
    "colab": {
     "base_uri": "https://localhost:8080/"
    },
    "id": "SI4xmi8FmSSe",
    "outputId": "38cbb6e5-023e-478f-83db-89fce6a45a0d"
   },
   "outputs": [
    {
     "name": "stdout",
     "output_type": "stream",
     "text": [
      "Skipping, found downloaded files in \".\\bitcoin-historical-data\" (use force=True to force download)\n"
     ]
    }
   ],
   "source": [
    "import opendatasets as od\n",
    "\n",
    "download_url='https://www.kaggle.com/mczielinski/bitcoin-historical-data'\n",
    "od.download(download_url)"
   ]
  },
  {
   "cell_type": "code",
   "execution_count": 59,
   "metadata": {
    "id": "DEMi6wBtmSQV"
   },
   "outputs": [],
   "source": [
    "data_filename = './bitcoin-historical-data/bitstampUSD_1-min_data_2012-01-01_to_2021-03-31.csv'"
   ]
  },
  {
   "cell_type": "markdown",
   "metadata": {
    "id": "E0Puwf7EpH18"
   },
   "source": [
    "### Reading and cleaning data"
   ]
  },
  {
   "cell_type": "code",
   "execution_count": 60,
   "metadata": {
    "id": "dH7WRY1ZmSOI"
   },
   "outputs": [],
   "source": [
    "import pandas as pd"
   ]
  },
  {
   "cell_type": "code",
   "execution_count": 61,
   "metadata": {
    "id": "j7lPjTEFDU1K"
   },
   "outputs": [],
   "source": [
    "df = pd.read_csv(data_filename)"
   ]
  },
  {
   "cell_type": "code",
   "execution_count": 62,
   "metadata": {
    "colab": {
     "base_uri": "https://localhost:8080/",
     "height": 419
    },
    "id": "GtGhtvUimSLx",
    "outputId": "643416f1-19eb-4923-aa8f-13cc41f6e932"
   },
   "outputs": [
    {
     "data": {
      "text/html": [
       "<div>\n",
       "<style scoped>\n",
       "    .dataframe tbody tr th:only-of-type {\n",
       "        vertical-align: middle;\n",
       "    }\n",
       "\n",
       "    .dataframe tbody tr th {\n",
       "        vertical-align: top;\n",
       "    }\n",
       "\n",
       "    .dataframe thead th {\n",
       "        text-align: right;\n",
       "    }\n",
       "</style>\n",
       "<table border=\"1\" class=\"dataframe\">\n",
       "  <thead>\n",
       "    <tr style=\"text-align: right;\">\n",
       "      <th></th>\n",
       "      <th>Timestamp</th>\n",
       "      <th>Open</th>\n",
       "      <th>High</th>\n",
       "      <th>Low</th>\n",
       "      <th>Close</th>\n",
       "      <th>Volume_(BTC)</th>\n",
       "      <th>Volume_(Currency)</th>\n",
       "      <th>Weighted_Price</th>\n",
       "    </tr>\n",
       "  </thead>\n",
       "  <tbody>\n",
       "    <tr>\n",
       "      <th>0</th>\n",
       "      <td>1325317920</td>\n",
       "      <td>4.39</td>\n",
       "      <td>4.39</td>\n",
       "      <td>4.39</td>\n",
       "      <td>4.39</td>\n",
       "      <td>0.455581</td>\n",
       "      <td>2.000000</td>\n",
       "      <td>4.390000</td>\n",
       "    </tr>\n",
       "    <tr>\n",
       "      <th>1</th>\n",
       "      <td>1325317980</td>\n",
       "      <td>NaN</td>\n",
       "      <td>NaN</td>\n",
       "      <td>NaN</td>\n",
       "      <td>NaN</td>\n",
       "      <td>NaN</td>\n",
       "      <td>NaN</td>\n",
       "      <td>NaN</td>\n",
       "    </tr>\n",
       "    <tr>\n",
       "      <th>2</th>\n",
       "      <td>1325318040</td>\n",
       "      <td>NaN</td>\n",
       "      <td>NaN</td>\n",
       "      <td>NaN</td>\n",
       "      <td>NaN</td>\n",
       "      <td>NaN</td>\n",
       "      <td>NaN</td>\n",
       "      <td>NaN</td>\n",
       "    </tr>\n",
       "    <tr>\n",
       "      <th>3</th>\n",
       "      <td>1325318100</td>\n",
       "      <td>NaN</td>\n",
       "      <td>NaN</td>\n",
       "      <td>NaN</td>\n",
       "      <td>NaN</td>\n",
       "      <td>NaN</td>\n",
       "      <td>NaN</td>\n",
       "      <td>NaN</td>\n",
       "    </tr>\n",
       "    <tr>\n",
       "      <th>4</th>\n",
       "      <td>1325318160</td>\n",
       "      <td>NaN</td>\n",
       "      <td>NaN</td>\n",
       "      <td>NaN</td>\n",
       "      <td>NaN</td>\n",
       "      <td>NaN</td>\n",
       "      <td>NaN</td>\n",
       "      <td>NaN</td>\n",
       "    </tr>\n",
       "    <tr>\n",
       "      <th>...</th>\n",
       "      <td>...</td>\n",
       "      <td>...</td>\n",
       "      <td>...</td>\n",
       "      <td>...</td>\n",
       "      <td>...</td>\n",
       "      <td>...</td>\n",
       "      <td>...</td>\n",
       "      <td>...</td>\n",
       "    </tr>\n",
       "    <tr>\n",
       "      <th>4857372</th>\n",
       "      <td>1617148560</td>\n",
       "      <td>58714.31</td>\n",
       "      <td>58714.31</td>\n",
       "      <td>58686.00</td>\n",
       "      <td>58686.00</td>\n",
       "      <td>1.384487</td>\n",
       "      <td>81259.372187</td>\n",
       "      <td>58692.753339</td>\n",
       "    </tr>\n",
       "    <tr>\n",
       "      <th>4857373</th>\n",
       "      <td>1617148620</td>\n",
       "      <td>58683.97</td>\n",
       "      <td>58693.43</td>\n",
       "      <td>58683.97</td>\n",
       "      <td>58685.81</td>\n",
       "      <td>7.294848</td>\n",
       "      <td>428158.146640</td>\n",
       "      <td>58693.226508</td>\n",
       "    </tr>\n",
       "    <tr>\n",
       "      <th>4857374</th>\n",
       "      <td>1617148680</td>\n",
       "      <td>58693.43</td>\n",
       "      <td>58723.84</td>\n",
       "      <td>58693.43</td>\n",
       "      <td>58723.84</td>\n",
       "      <td>1.705682</td>\n",
       "      <td>100117.070370</td>\n",
       "      <td>58696.198496</td>\n",
       "    </tr>\n",
       "    <tr>\n",
       "      <th>4857375</th>\n",
       "      <td>1617148740</td>\n",
       "      <td>58742.18</td>\n",
       "      <td>58770.38</td>\n",
       "      <td>58742.18</td>\n",
       "      <td>58760.59</td>\n",
       "      <td>0.720415</td>\n",
       "      <td>42332.958633</td>\n",
       "      <td>58761.866202</td>\n",
       "    </tr>\n",
       "    <tr>\n",
       "      <th>4857376</th>\n",
       "      <td>1617148800</td>\n",
       "      <td>58767.75</td>\n",
       "      <td>58778.18</td>\n",
       "      <td>58755.97</td>\n",
       "      <td>58778.18</td>\n",
       "      <td>2.712831</td>\n",
       "      <td>159417.751000</td>\n",
       "      <td>58764.349363</td>\n",
       "    </tr>\n",
       "  </tbody>\n",
       "</table>\n",
       "<p>4857377 rows × 8 columns</p>\n",
       "</div>"
      ],
      "text/plain": [
       "          Timestamp      Open      High       Low     Close  Volume_(BTC)  \\\n",
       "0        1325317920      4.39      4.39      4.39      4.39      0.455581   \n",
       "1        1325317980       NaN       NaN       NaN       NaN           NaN   \n",
       "2        1325318040       NaN       NaN       NaN       NaN           NaN   \n",
       "3        1325318100       NaN       NaN       NaN       NaN           NaN   \n",
       "4        1325318160       NaN       NaN       NaN       NaN           NaN   \n",
       "...             ...       ...       ...       ...       ...           ...   \n",
       "4857372  1617148560  58714.31  58714.31  58686.00  58686.00      1.384487   \n",
       "4857373  1617148620  58683.97  58693.43  58683.97  58685.81      7.294848   \n",
       "4857374  1617148680  58693.43  58723.84  58693.43  58723.84      1.705682   \n",
       "4857375  1617148740  58742.18  58770.38  58742.18  58760.59      0.720415   \n",
       "4857376  1617148800  58767.75  58778.18  58755.97  58778.18      2.712831   \n",
       "\n",
       "         Volume_(Currency)  Weighted_Price  \n",
       "0                 2.000000        4.390000  \n",
       "1                      NaN             NaN  \n",
       "2                      NaN             NaN  \n",
       "3                      NaN             NaN  \n",
       "4                      NaN             NaN  \n",
       "...                    ...             ...  \n",
       "4857372       81259.372187    58692.753339  \n",
       "4857373      428158.146640    58693.226508  \n",
       "4857374      100117.070370    58696.198496  \n",
       "4857375       42332.958633    58761.866202  \n",
       "4857376      159417.751000    58764.349363  \n",
       "\n",
       "[4857377 rows x 8 columns]"
      ]
     },
     "execution_count": 62,
     "metadata": {},
     "output_type": "execute_result"
    }
   ],
   "source": [
    "df"
   ]
  },
  {
   "cell_type": "markdown",
   "metadata": {
    "id": "jmmsO1x_tWKC"
   },
   "source": [
    "#### Number of NaN values"
   ]
  },
  {
   "cell_type": "code",
   "execution_count": 63,
   "metadata": {
    "id": "HRDBhLllmSJU"
   },
   "outputs": [],
   "source": [
    "missing_value_percentages = df.isna().sum().sort_values(ascending=False) / len(df)\n",
    "miss = missing_value_percentages[missing_value_percentages != 0]"
   ]
  },
  {
   "cell_type": "code",
   "execution_count": 64,
   "metadata": {
    "id": "AV5orD63Vj9f"
   },
   "outputs": [
    {
     "data": {
      "text/plain": [
       "Open                 0.256025\n",
       "High                 0.256025\n",
       "Low                  0.256025\n",
       "Close                0.256025\n",
       "Volume_(BTC)         0.256025\n",
       "Volume_(Currency)    0.256025\n",
       "Weighted_Price       0.256025\n",
       "Timestamp            0.000000\n",
       "dtype: float64"
      ]
     },
     "execution_count": 64,
     "metadata": {},
     "output_type": "execute_result"
    }
   ],
   "source": [
    "missing_value_percentages"
   ]
  },
  {
   "cell_type": "markdown",
   "metadata": {
    "colab": {
     "base_uri": "https://localhost:8080/"
    },
    "id": "IPUi7BVfr8Y3",
    "outputId": "46481546-8220-4796-d39e-1a72a3f74963"
   },
   "source": [
    "##### All columns except for Timestamp are missing ~25% of values."
   ]
  },
  {
   "cell_type": "code",
   "execution_count": 65,
   "metadata": {
    "colab": {
     "base_uri": "https://localhost:8080/"
    },
    "id": "BtZvfGkftx3o",
    "outputId": "1d639f3f-58fa-42c0-a129-aad6836d629e"
   },
   "outputs": [
    {
     "data": {
      "text/plain": [
       "Open                 0.256025\n",
       "High                 0.256025\n",
       "Low                  0.256025\n",
       "Close                0.256025\n",
       "Volume_(BTC)         0.256025\n",
       "Volume_(Currency)    0.256025\n",
       "Weighted_Price       0.256025\n",
       "dtype: float64"
      ]
     },
     "execution_count": 65,
     "metadata": {},
     "output_type": "execute_result"
    }
   ],
   "source": [
    "miss"
   ]
  },
  {
   "cell_type": "code",
   "execution_count": 66,
   "metadata": {
    "colab": {
     "base_uri": "https://localhost:8080/",
     "height": 282
    },
    "id": "txjoNYpbtx1Q",
    "outputId": "17f3d737-c1de-4a90-8e87-f3270b36c1ee"
   },
   "outputs": [
    {
     "data": {
      "text/plain": [
       "<AxesSubplot:>"
      ]
     },
     "execution_count": 66,
     "metadata": {},
     "output_type": "execute_result"
    },
    {
     "data": {
      "image/png": "[encoded data removed]",
      "text/plain": [
       "<Figure size 432x288 with 1 Axes>"
      ]
     },
     "metadata": {
      "needs_background": "light"
     },
     "output_type": "display_data"
    }
   ],
   "source": [
    "miss.plot(kind='barh')"
   ]
  },
  {
   "cell_type": "code",
   "execution_count": 67,
   "metadata": {
    "colab": {
     "base_uri": "https://localhost:8080/"
    },
    "id": "0WobceN4txy8",
    "outputId": "9b763e48-e112-4d93-ec3d-14a66e91975a"
   },
   "outputs": [
    {
     "data": {
      "text/plain": [
       "True"
      ]
     },
     "execution_count": 67,
     "metadata": {},
     "output_type": "execute_result"
    }
   ],
   "source": [
    "checknan = df.isnull().values.any()\n",
    "checknan"
   ]
  },
  {
   "cell_type": "markdown",
   "metadata": {},
   "source": [
    "#### Dropping all rows that have NaN Values."
   ]
  },
  {
   "cell_type": "code",
   "execution_count": 68,
   "metadata": {
    "colab": {
     "base_uri": "https://localhost:8080/",
     "height": 419
    },
    "id": "Luet5nRotxxK",
    "outputId": "13d402ca-4cd0-4c93-924f-3ba673c2c560"
   },
   "outputs": [
    {
     "data": {
      "text/html": [
       "<div>\n",
       "<style scoped>\n",
       "    .dataframe tbody tr th:only-of-type {\n",
       "        vertical-align: middle;\n",
       "    }\n",
       "\n",
       "    .dataframe tbody tr th {\n",
       "        vertical-align: top;\n",
       "    }\n",
       "\n",
       "    .dataframe thead th {\n",
       "        text-align: right;\n",
       "    }\n",
       "</style>\n",
       "<table border=\"1\" class=\"dataframe\">\n",
       "  <thead>\n",
       "    <tr style=\"text-align: right;\">\n",
       "      <th></th>\n",
       "      <th>Timestamp</th>\n",
       "      <th>Open</th>\n",
       "      <th>High</th>\n",
       "      <th>Low</th>\n",
       "      <th>Close</th>\n",
       "      <th>Volume_(BTC)</th>\n",
       "      <th>Volume_(Currency)</th>\n",
       "      <th>Weighted_Price</th>\n",
       "    </tr>\n",
       "  </thead>\n",
       "  <tbody>\n",
       "    <tr>\n",
       "      <th>0</th>\n",
       "      <td>1325317920</td>\n",
       "      <td>4.39</td>\n",
       "      <td>4.39</td>\n",
       "      <td>4.39</td>\n",
       "      <td>4.39</td>\n",
       "      <td>0.455581</td>\n",
       "      <td>2.000000</td>\n",
       "      <td>4.390000</td>\n",
       "    </tr>\n",
       "    <tr>\n",
       "      <th>478</th>\n",
       "      <td>1325346600</td>\n",
       "      <td>4.39</td>\n",
       "      <td>4.39</td>\n",
       "      <td>4.39</td>\n",
       "      <td>4.39</td>\n",
       "      <td>48.000000</td>\n",
       "      <td>210.720000</td>\n",
       "      <td>4.390000</td>\n",
       "    </tr>\n",
       "    <tr>\n",
       "      <th>547</th>\n",
       "      <td>1325350740</td>\n",
       "      <td>4.50</td>\n",
       "      <td>4.57</td>\n",
       "      <td>4.50</td>\n",
       "      <td>4.57</td>\n",
       "      <td>37.862297</td>\n",
       "      <td>171.380338</td>\n",
       "      <td>4.526411</td>\n",
       "    </tr>\n",
       "    <tr>\n",
       "      <th>548</th>\n",
       "      <td>1325350800</td>\n",
       "      <td>4.58</td>\n",
       "      <td>4.58</td>\n",
       "      <td>4.58</td>\n",
       "      <td>4.58</td>\n",
       "      <td>9.000000</td>\n",
       "      <td>41.220000</td>\n",
       "      <td>4.580000</td>\n",
       "    </tr>\n",
       "    <tr>\n",
       "      <th>1224</th>\n",
       "      <td>1325391360</td>\n",
       "      <td>4.58</td>\n",
       "      <td>4.58</td>\n",
       "      <td>4.58</td>\n",
       "      <td>4.58</td>\n",
       "      <td>1.502000</td>\n",
       "      <td>6.879160</td>\n",
       "      <td>4.580000</td>\n",
       "    </tr>\n",
       "    <tr>\n",
       "      <th>...</th>\n",
       "      <td>...</td>\n",
       "      <td>...</td>\n",
       "      <td>...</td>\n",
       "      <td>...</td>\n",
       "      <td>...</td>\n",
       "      <td>...</td>\n",
       "      <td>...</td>\n",
       "      <td>...</td>\n",
       "    </tr>\n",
       "    <tr>\n",
       "      <th>4857372</th>\n",
       "      <td>1617148560</td>\n",
       "      <td>58714.31</td>\n",
       "      <td>58714.31</td>\n",
       "      <td>58686.00</td>\n",
       "      <td>58686.00</td>\n",
       "      <td>1.384487</td>\n",
       "      <td>81259.372187</td>\n",
       "      <td>58692.753339</td>\n",
       "    </tr>\n",
       "    <tr>\n",
       "      <th>4857373</th>\n",
       "      <td>1617148620</td>\n",
       "      <td>58683.97</td>\n",
       "      <td>58693.43</td>\n",
       "      <td>58683.97</td>\n",
       "      <td>58685.81</td>\n",
       "      <td>7.294848</td>\n",
       "      <td>428158.146640</td>\n",
       "      <td>58693.226508</td>\n",
       "    </tr>\n",
       "    <tr>\n",
       "      <th>4857374</th>\n",
       "      <td>1617148680</td>\n",
       "      <td>58693.43</td>\n",
       "      <td>58723.84</td>\n",
       "      <td>58693.43</td>\n",
       "      <td>58723.84</td>\n",
       "      <td>1.705682</td>\n",
       "      <td>100117.070370</td>\n",
       "      <td>58696.198496</td>\n",
       "    </tr>\n",
       "    <tr>\n",
       "      <th>4857375</th>\n",
       "      <td>1617148740</td>\n",
       "      <td>58742.18</td>\n",
       "      <td>58770.38</td>\n",
       "      <td>58742.18</td>\n",
       "      <td>58760.59</td>\n",
       "      <td>0.720415</td>\n",
       "      <td>42332.958633</td>\n",
       "      <td>58761.866202</td>\n",
       "    </tr>\n",
       "    <tr>\n",
       "      <th>4857376</th>\n",
       "      <td>1617148800</td>\n",
       "      <td>58767.75</td>\n",
       "      <td>58778.18</td>\n",
       "      <td>58755.97</td>\n",
       "      <td>58778.18</td>\n",
       "      <td>2.712831</td>\n",
       "      <td>159417.751000</td>\n",
       "      <td>58764.349363</td>\n",
       "    </tr>\n",
       "  </tbody>\n",
       "</table>\n",
       "<p>3613769 rows × 8 columns</p>\n",
       "</div>"
      ],
      "text/plain": [
       "          Timestamp      Open      High       Low     Close  Volume_(BTC)  \\\n",
       "0        1325317920      4.39      4.39      4.39      4.39      0.455581   \n",
       "478      1325346600      4.39      4.39      4.39      4.39     48.000000   \n",
       "547      1325350740      4.50      4.57      4.50      4.57     37.862297   \n",
       "548      1325350800      4.58      4.58      4.58      4.58      9.000000   \n",
       "1224     1325391360      4.58      4.58      4.58      4.58      1.502000   \n",
       "...             ...       ...       ...       ...       ...           ...   \n",
       "4857372  1617148560  58714.31  58714.31  58686.00  58686.00      1.384487   \n",
       "4857373  1617148620  58683.97  58693.43  58683.97  58685.81      7.294848   \n",
       "4857374  1617148680  58693.43  58723.84  58693.43  58723.84      1.705682   \n",
       "4857375  1617148740  58742.18  58770.38  58742.18  58760.59      0.720415   \n",
       "4857376  1617148800  58767.75  58778.18  58755.97  58778.18      2.712831   \n",
       "\n",
       "         Volume_(Currency)  Weighted_Price  \n",
       "0                 2.000000        4.390000  \n",
       "478             210.720000        4.390000  \n",
       "547             171.380338        4.526411  \n",
       "548              41.220000        4.580000  \n",
       "1224              6.879160        4.580000  \n",
       "...                    ...             ...  \n",
       "4857372       81259.372187    58692.753339  \n",
       "4857373      428158.146640    58693.226508  \n",
       "4857374      100117.070370    58696.198496  \n",
       "4857375       42332.958633    58761.866202  \n",
       "4857376      159417.751000    58764.349363  \n",
       "\n",
       "[3613769 rows x 8 columns]"
      ]
     },
     "execution_count": 68,
     "metadata": {},
     "output_type": "execute_result"
    }
   ],
   "source": [
    "df = df.dropna(how='any')\n",
    "df"
   ]
  },
  {
   "cell_type": "markdown",
   "metadata": {},
   "source": [
    "#### Checking if dataframe has any NaN values."
   ]
  },
  {
   "cell_type": "code",
   "execution_count": 69,
   "metadata": {
    "colab": {
     "base_uri": "https://localhost:8080/"
    },
    "id": "RGiKOS3PwUZo",
    "outputId": "daf05acc-cedf-4d5f-88dc-8013422ef937"
   },
   "outputs": [
    {
     "data": {
      "text/plain": [
       "False"
      ]
     },
     "execution_count": 69,
     "metadata": {},
     "output_type": "execute_result"
    }
   ],
   "source": [
    "checknan2 = df.isna().values.any()\n",
    "checknan2"
   ]
  },
  {
   "cell_type": "code",
   "execution_count": 70,
   "metadata": {
    "colab": {
     "base_uri": "https://localhost:8080/"
    },
    "id": "uC3LVLRB7OWY",
    "outputId": "4416f0eb-db4b-49a8-8d77-30d0348f3c00"
   },
   "outputs": [
    {
     "data": {
      "text/plain": [
       "3613769"
      ]
     },
     "execution_count": 70,
     "metadata": {},
     "output_type": "execute_result"
    }
   ],
   "source": [
    "len(df.High)"
   ]
  },
  {
   "cell_type": "code",
   "execution_count": 71,
   "metadata": {
    "id": "01_C98GFz7p5"
   },
   "outputs": [],
   "source": [
    "from datetime import datetime as dt"
   ]
  },
  {
   "cell_type": "code",
   "execution_count": 72,
   "metadata": {
    "id": "RdI2YzzfwsmY"
   },
   "outputs": [],
   "source": [
    "import matplotlib.pyplot as plt"
   ]
  },
  {
   "cell_type": "code",
   "execution_count": 73,
   "metadata": {
    "id": "I_40DHbpwski"
   },
   "outputs": [],
   "source": [
    "import numpy as np"
   ]
  },
  {
   "cell_type": "markdown",
   "metadata": {},
   "source": [
    "##### Converting timestamp to datetime type"
   ]
  },
  {
   "cell_type": "code",
   "execution_count": 74,
   "metadata": {},
   "outputs": [
    {
     "name": "stdout",
     "output_type": "stream",
     "text": [
      "<class 'pandas.core.frame.DataFrame'>\n",
      "Int64Index: 3613769 entries, 0 to 4857376\n",
      "Data columns (total 8 columns):\n",
      " #   Column             Dtype  \n",
      "---  ------             -----  \n",
      " 0   Timestamp          int64  \n",
      " 1   Open               float64\n",
      " 2   High               float64\n",
      " 3   Low                float64\n",
      " 4   Close              float64\n",
      " 5   Volume_(BTC)       float64\n",
      " 6   Volume_(Currency)  float64\n",
      " 7   Weighted_Price     float64\n",
      "dtypes: float64(7), int64(1)\n",
      "memory usage: 248.1 MB\n"
     ]
    }
   ],
   "source": [
    "df.info()"
   ]
  },
  {
   "cell_type": "code",
   "execution_count": 75,
   "metadata": {},
   "outputs": [
    {
     "data": {
      "text/plain": [
       "0          1325317920\n",
       "478        1325346600\n",
       "547        1325350740\n",
       "548        1325350800\n",
       "1224       1325391360\n",
       "              ...    \n",
       "4857372    1617148560\n",
       "4857373    1617148620\n",
       "4857374    1617148680\n",
       "4857375    1617148740\n",
       "4857376    1617148800\n",
       "Name: Timestamp, Length: 3613769, dtype: int64"
      ]
     },
     "execution_count": 75,
     "metadata": {},
     "output_type": "execute_result"
    }
   ],
   "source": [
    "df.Timestamp"
   ]
  },
  {
   "cell_type": "code",
   "execution_count": 76,
   "metadata": {},
   "outputs": [
    {
     "name": "stderr",
     "output_type": "stream",
     "text": [
      "D:\\anaconda\\lib\\site-packages\\pandas\\core\\generic.py:5494: SettingWithCopyWarning:\n",
      "\n",
      "\n",
      "A value is trying to be set on a copy of a slice from a DataFrame.\n",
      "Try using .loc[row_indexer,col_indexer] = value instead\n",
      "\n",
      "See the caveats in the documentation: https://pandas.pydata.org/pandas-docs/stable/user_guide/indexing.html#returning-a-view-versus-a-copy\n",
      "\n"
     ]
    },
    {
     "data": {
      "text/html": [
       "<div>\n",
       "<style scoped>\n",
       "    .dataframe tbody tr th:only-of-type {\n",
       "        vertical-align: middle;\n",
       "    }\n",
       "\n",
       "    .dataframe tbody tr th {\n",
       "        vertical-align: top;\n",
       "    }\n",
       "\n",
       "    .dataframe thead th {\n",
       "        text-align: right;\n",
       "    }\n",
       "</style>\n",
       "<table border=\"1\" class=\"dataframe\">\n",
       "  <thead>\n",
       "    <tr style=\"text-align: right;\">\n",
       "      <th></th>\n",
       "      <th>Timestamp</th>\n",
       "      <th>Open</th>\n",
       "      <th>High</th>\n",
       "      <th>Low</th>\n",
       "      <th>Close</th>\n",
       "      <th>Volume_(BTC)</th>\n",
       "      <th>Volume_(Currency)</th>\n",
       "      <th>Weighted_Price</th>\n",
       "    </tr>\n",
       "  </thead>\n",
       "  <tbody>\n",
       "    <tr>\n",
       "      <th>0</th>\n",
       "      <td>2011-12-31 07:52:00</td>\n",
       "      <td>4.39</td>\n",
       "      <td>4.39</td>\n",
       "      <td>4.39</td>\n",
       "      <td>4.39</td>\n",
       "      <td>0.455581</td>\n",
       "      <td>2.000000</td>\n",
       "      <td>4.390000</td>\n",
       "    </tr>\n",
       "    <tr>\n",
       "      <th>478</th>\n",
       "      <td>2011-12-31 15:50:00</td>\n",
       "      <td>4.39</td>\n",
       "      <td>4.39</td>\n",
       "      <td>4.39</td>\n",
       "      <td>4.39</td>\n",
       "      <td>48.000000</td>\n",
       "      <td>210.720000</td>\n",
       "      <td>4.390000</td>\n",
       "    </tr>\n",
       "    <tr>\n",
       "      <th>547</th>\n",
       "      <td>2011-12-31 16:59:00</td>\n",
       "      <td>4.50</td>\n",
       "      <td>4.57</td>\n",
       "      <td>4.50</td>\n",
       "      <td>4.57</td>\n",
       "      <td>37.862297</td>\n",
       "      <td>171.380338</td>\n",
       "      <td>4.526411</td>\n",
       "    </tr>\n",
       "    <tr>\n",
       "      <th>548</th>\n",
       "      <td>2011-12-31 17:00:00</td>\n",
       "      <td>4.58</td>\n",
       "      <td>4.58</td>\n",
       "      <td>4.58</td>\n",
       "      <td>4.58</td>\n",
       "      <td>9.000000</td>\n",
       "      <td>41.220000</td>\n",
       "      <td>4.580000</td>\n",
       "    </tr>\n",
       "    <tr>\n",
       "      <th>1224</th>\n",
       "      <td>2012-01-01 04:16:00</td>\n",
       "      <td>4.58</td>\n",
       "      <td>4.58</td>\n",
       "      <td>4.58</td>\n",
       "      <td>4.58</td>\n",
       "      <td>1.502000</td>\n",
       "      <td>6.879160</td>\n",
       "      <td>4.580000</td>\n",
       "    </tr>\n",
       "    <tr>\n",
       "      <th>...</th>\n",
       "      <td>...</td>\n",
       "      <td>...</td>\n",
       "      <td>...</td>\n",
       "      <td>...</td>\n",
       "      <td>...</td>\n",
       "      <td>...</td>\n",
       "      <td>...</td>\n",
       "      <td>...</td>\n",
       "    </tr>\n",
       "    <tr>\n",
       "      <th>4857372</th>\n",
       "      <td>2021-03-30 23:56:00</td>\n",
       "      <td>58714.31</td>\n",
       "      <td>58714.31</td>\n",
       "      <td>58686.00</td>\n",
       "      <td>58686.00</td>\n",
       "      <td>1.384487</td>\n",
       "      <td>81259.372187</td>\n",
       "      <td>58692.753339</td>\n",
       "    </tr>\n",
       "    <tr>\n",
       "      <th>4857373</th>\n",
       "      <td>2021-03-30 23:57:00</td>\n",
       "      <td>58683.97</td>\n",
       "      <td>58693.43</td>\n",
       "      <td>58683.97</td>\n",
       "      <td>58685.81</td>\n",
       "      <td>7.294848</td>\n",
       "      <td>428158.146640</td>\n",
       "      <td>58693.226508</td>\n",
       "    </tr>\n",
       "    <tr>\n",
       "      <th>4857374</th>\n",
       "      <td>2021-03-30 23:58:00</td>\n",
       "      <td>58693.43</td>\n",
       "      <td>58723.84</td>\n",
       "      <td>58693.43</td>\n",
       "      <td>58723.84</td>\n",
       "      <td>1.705682</td>\n",
       "      <td>100117.070370</td>\n",
       "      <td>58696.198496</td>\n",
       "    </tr>\n",
       "    <tr>\n",
       "      <th>4857375</th>\n",
       "      <td>2021-03-30 23:59:00</td>\n",
       "      <td>58742.18</td>\n",
       "      <td>58770.38</td>\n",
       "      <td>58742.18</td>\n",
       "      <td>58760.59</td>\n",
       "      <td>0.720415</td>\n",
       "      <td>42332.958633</td>\n",
       "      <td>58761.866202</td>\n",
       "    </tr>\n",
       "    <tr>\n",
       "      <th>4857376</th>\n",
       "      <td>2021-03-31 00:00:00</td>\n",
       "      <td>58767.75</td>\n",
       "      <td>58778.18</td>\n",
       "      <td>58755.97</td>\n",
       "      <td>58778.18</td>\n",
       "      <td>2.712831</td>\n",
       "      <td>159417.751000</td>\n",
       "      <td>58764.349363</td>\n",
       "    </tr>\n",
       "  </tbody>\n",
       "</table>\n",
       "<p>3613769 rows × 8 columns</p>\n",
       "</div>"
      ],
      "text/plain": [
       "                  Timestamp      Open      High       Low     Close  \\\n",
       "0       2011-12-31 07:52:00      4.39      4.39      4.39      4.39   \n",
       "478     2011-12-31 15:50:00      4.39      4.39      4.39      4.39   \n",
       "547     2011-12-31 16:59:00      4.50      4.57      4.50      4.57   \n",
       "548     2011-12-31 17:00:00      4.58      4.58      4.58      4.58   \n",
       "1224    2012-01-01 04:16:00      4.58      4.58      4.58      4.58   \n",
       "...                     ...       ...       ...       ...       ...   \n",
       "4857372 2021-03-30 23:56:00  58714.31  58714.31  58686.00  58686.00   \n",
       "4857373 2021-03-30 23:57:00  58683.97  58693.43  58683.97  58685.81   \n",
       "4857374 2021-03-30 23:58:00  58693.43  58723.84  58693.43  58723.84   \n",
       "4857375 2021-03-30 23:59:00  58742.18  58770.38  58742.18  58760.59   \n",
       "4857376 2021-03-31 00:00:00  58767.75  58778.18  58755.97  58778.18   \n",
       "\n",
       "         Volume_(BTC)  Volume_(Currency)  Weighted_Price  \n",
       "0            0.455581           2.000000        4.390000  \n",
       "478         48.000000         210.720000        4.390000  \n",
       "547         37.862297         171.380338        4.526411  \n",
       "548          9.000000          41.220000        4.580000  \n",
       "1224         1.502000           6.879160        4.580000  \n",
       "...               ...                ...             ...  \n",
       "4857372      1.384487       81259.372187    58692.753339  \n",
       "4857373      7.294848      428158.146640    58693.226508  \n",
       "4857374      1.705682      100117.070370    58696.198496  \n",
       "4857375      0.720415       42332.958633    58761.866202  \n",
       "4857376      2.712831      159417.751000    58764.349363  \n",
       "\n",
       "[3613769 rows x 8 columns]"
      ]
     },
     "execution_count": 76,
     "metadata": {},
     "output_type": "execute_result"
    }
   ],
   "source": [
    "df_date = pd.to_datetime(df.Timestamp, unit='s')\n",
    "\n",
    "df.Timestamp = df_date\n",
    "df"
   ]
  },
  {
   "cell_type": "code",
   "execution_count": 77,
   "metadata": {},
   "outputs": [
    {
     "data": {
      "text/plain": [
       "0         2011-12-31 07:52:00\n",
       "478       2011-12-31 15:50:00\n",
       "547       2011-12-31 16:59:00\n",
       "548       2011-12-31 17:00:00\n",
       "1224      2012-01-01 04:16:00\n",
       "                  ...        \n",
       "4857372   2021-03-30 23:56:00\n",
       "4857373   2021-03-30 23:57:00\n",
       "4857374   2021-03-30 23:58:00\n",
       "4857375   2021-03-30 23:59:00\n",
       "4857376   2021-03-31 00:00:00\n",
       "Name: Timestamp, Length: 3613769, dtype: datetime64[ns]"
      ]
     },
     "execution_count": 77,
     "metadata": {},
     "output_type": "execute_result"
    }
   ],
   "source": [
    "df['Timestamp']"
   ]
  },
  {
   "cell_type": "markdown",
   "metadata": {},
   "source": [
    "##### Renaming Timestamp column to Date"
   ]
  },
  {
   "cell_type": "code",
   "execution_count": null,
   "metadata": {},
   "outputs": [],
   "source": []
  },
  {
   "cell_type": "code",
   "execution_count": 78,
   "metadata": {},
   "outputs": [
    {
     "name": "stderr",
     "output_type": "stream",
     "text": [
      "D:\\anaconda\\lib\\site-packages\\pandas\\core\\frame.py:4441: SettingWithCopyWarning:\n",
      "\n",
      "\n",
      "A value is trying to be set on a copy of a slice from a DataFrame\n",
      "\n",
      "See the caveats in the documentation: https://pandas.pydata.org/pandas-docs/stable/user_guide/indexing.html#returning-a-view-versus-a-copy\n",
      "\n"
     ]
    }
   ],
   "source": [
    "df.rename(columns={'Timestamp':'Date'}, inplace=True)"
   ]
  },
  {
   "cell_type": "code",
   "execution_count": 79,
   "metadata": {},
   "outputs": [
    {
     "data": {
      "text/html": [
       "<div>\n",
       "<style scoped>\n",
       "    .dataframe tbody tr th:only-of-type {\n",
       "        vertical-align: middle;\n",
       "    }\n",
       "\n",
       "    .dataframe tbody tr th {\n",
       "        vertical-align: top;\n",
       "    }\n",
       "\n",
       "    .dataframe thead th {\n",
       "        text-align: right;\n",
       "    }\n",
       "</style>\n",
       "<table border=\"1\" class=\"dataframe\">\n",
       "  <thead>\n",
       "    <tr style=\"text-align: right;\">\n",
       "      <th></th>\n",
       "      <th>Date</th>\n",
       "      <th>Open</th>\n",
       "      <th>High</th>\n",
       "      <th>Low</th>\n",
       "      <th>Close</th>\n",
       "      <th>Volume_(BTC)</th>\n",
       "      <th>Volume_(Currency)</th>\n",
       "      <th>Weighted_Price</th>\n",
       "    </tr>\n",
       "  </thead>\n",
       "  <tbody>\n",
       "    <tr>\n",
       "      <th>0</th>\n",
       "      <td>2011-12-31 07:52:00</td>\n",
       "      <td>4.39</td>\n",
       "      <td>4.39</td>\n",
       "      <td>4.39</td>\n",
       "      <td>4.39</td>\n",
       "      <td>0.455581</td>\n",
       "      <td>2.000000</td>\n",
       "      <td>4.390000</td>\n",
       "    </tr>\n",
       "    <tr>\n",
       "      <th>478</th>\n",
       "      <td>2011-12-31 15:50:00</td>\n",
       "      <td>4.39</td>\n",
       "      <td>4.39</td>\n",
       "      <td>4.39</td>\n",
       "      <td>4.39</td>\n",
       "      <td>48.000000</td>\n",
       "      <td>210.720000</td>\n",
       "      <td>4.390000</td>\n",
       "    </tr>\n",
       "    <tr>\n",
       "      <th>547</th>\n",
       "      <td>2011-12-31 16:59:00</td>\n",
       "      <td>4.50</td>\n",
       "      <td>4.57</td>\n",
       "      <td>4.50</td>\n",
       "      <td>4.57</td>\n",
       "      <td>37.862297</td>\n",
       "      <td>171.380338</td>\n",
       "      <td>4.526411</td>\n",
       "    </tr>\n",
       "    <tr>\n",
       "      <th>548</th>\n",
       "      <td>2011-12-31 17:00:00</td>\n",
       "      <td>4.58</td>\n",
       "      <td>4.58</td>\n",
       "      <td>4.58</td>\n",
       "      <td>4.58</td>\n",
       "      <td>9.000000</td>\n",
       "      <td>41.220000</td>\n",
       "      <td>4.580000</td>\n",
       "    </tr>\n",
       "    <tr>\n",
       "      <th>1224</th>\n",
       "      <td>2012-01-01 04:16:00</td>\n",
       "      <td>4.58</td>\n",
       "      <td>4.58</td>\n",
       "      <td>4.58</td>\n",
       "      <td>4.58</td>\n",
       "      <td>1.502000</td>\n",
       "      <td>6.879160</td>\n",
       "      <td>4.580000</td>\n",
       "    </tr>\n",
       "    <tr>\n",
       "      <th>...</th>\n",
       "      <td>...</td>\n",
       "      <td>...</td>\n",
       "      <td>...</td>\n",
       "      <td>...</td>\n",
       "      <td>...</td>\n",
       "      <td>...</td>\n",
       "      <td>...</td>\n",
       "      <td>...</td>\n",
       "    </tr>\n",
       "    <tr>\n",
       "      <th>4857372</th>\n",
       "      <td>2021-03-30 23:56:00</td>\n",
       "      <td>58714.31</td>\n",
       "      <td>58714.31</td>\n",
       "      <td>58686.00</td>\n",
       "      <td>58686.00</td>\n",
       "      <td>1.384487</td>\n",
       "      <td>81259.372187</td>\n",
       "      <td>58692.753339</td>\n",
       "    </tr>\n",
       "    <tr>\n",
       "      <th>4857373</th>\n",
       "      <td>2021-03-30 23:57:00</td>\n",
       "      <td>58683.97</td>\n",
       "      <td>58693.43</td>\n",
       "      <td>58683.97</td>\n",
       "      <td>58685.81</td>\n",
       "      <td>7.294848</td>\n",
       "      <td>428158.146640</td>\n",
       "      <td>58693.226508</td>\n",
       "    </tr>\n",
       "    <tr>\n",
       "      <th>4857374</th>\n",
       "      <td>2021-03-30 23:58:00</td>\n",
       "      <td>58693.43</td>\n",
       "      <td>58723.84</td>\n",
       "      <td>58693.43</td>\n",
       "      <td>58723.84</td>\n",
       "      <td>1.705682</td>\n",
       "      <td>100117.070370</td>\n",
       "      <td>58696.198496</td>\n",
       "    </tr>\n",
       "    <tr>\n",
       "      <th>4857375</th>\n",
       "      <td>2021-03-30 23:59:00</td>\n",
       "      <td>58742.18</td>\n",
       "      <td>58770.38</td>\n",
       "      <td>58742.18</td>\n",
       "      <td>58760.59</td>\n",
       "      <td>0.720415</td>\n",
       "      <td>42332.958633</td>\n",
       "      <td>58761.866202</td>\n",
       "    </tr>\n",
       "    <tr>\n",
       "      <th>4857376</th>\n",
       "      <td>2021-03-31 00:00:00</td>\n",
       "      <td>58767.75</td>\n",
       "      <td>58778.18</td>\n",
       "      <td>58755.97</td>\n",
       "      <td>58778.18</td>\n",
       "      <td>2.712831</td>\n",
       "      <td>159417.751000</td>\n",
       "      <td>58764.349363</td>\n",
       "    </tr>\n",
       "  </tbody>\n",
       "</table>\n",
       "<p>3613769 rows × 8 columns</p>\n",
       "</div>"
      ],
      "text/plain": [
       "                       Date      Open      High       Low     Close  \\\n",
       "0       2011-12-31 07:52:00      4.39      4.39      4.39      4.39   \n",
       "478     2011-12-31 15:50:00      4.39      4.39      4.39      4.39   \n",
       "547     2011-12-31 16:59:00      4.50      4.57      4.50      4.57   \n",
       "548     2011-12-31 17:00:00      4.58      4.58      4.58      4.58   \n",
       "1224    2012-01-01 04:16:00      4.58      4.58      4.58      4.58   \n",
       "...                     ...       ...       ...       ...       ...   \n",
       "4857372 2021-03-30 23:56:00  58714.31  58714.31  58686.00  58686.00   \n",
       "4857373 2021-03-30 23:57:00  58683.97  58693.43  58683.97  58685.81   \n",
       "4857374 2021-03-30 23:58:00  58693.43  58723.84  58693.43  58723.84   \n",
       "4857375 2021-03-30 23:59:00  58742.18  58770.38  58742.18  58760.59   \n",
       "4857376 2021-03-31 00:00:00  58767.75  58778.18  58755.97  58778.18   \n",
       "\n",
       "         Volume_(BTC)  Volume_(Currency)  Weighted_Price  \n",
       "0            0.455581           2.000000        4.390000  \n",
       "478         48.000000         210.720000        4.390000  \n",
       "547         37.862297         171.380338        4.526411  \n",
       "548          9.000000          41.220000        4.580000  \n",
       "1224         1.502000           6.879160        4.580000  \n",
       "...               ...                ...             ...  \n",
       "4857372      1.384487       81259.372187    58692.753339  \n",
       "4857373      7.294848      428158.146640    58693.226508  \n",
       "4857374      1.705682      100117.070370    58696.198496  \n",
       "4857375      0.720415       42332.958633    58761.866202  \n",
       "4857376      2.712831      159417.751000    58764.349363  \n",
       "\n",
       "[3613769 rows x 8 columns]"
      ]
     },
     "execution_count": 79,
     "metadata": {},
     "output_type": "execute_result"
    }
   ],
   "source": [
    "df"
   ]
  },
  {
   "cell_type": "code",
   "execution_count": 80,
   "metadata": {
    "colab": {
     "base_uri": "https://localhost:8080/"
    },
    "id": "cWKGjj1I5kgt",
    "outputId": "8e4dc0fb-964c-42ab-9013-3b06ccdf5da2"
   },
   "outputs": [
    {
     "data": {
      "text/plain": [
       "3613769"
      ]
     },
     "execution_count": 80,
     "metadata": {},
     "output_type": "execute_result"
    }
   ],
   "source": [
    "len(df.Date)"
   ]
  },
  {
   "cell_type": "code",
   "execution_count": 81,
   "metadata": {
    "colab": {
     "base_uri": "https://localhost:8080/"
    },
    "id": "V5TL6aBOmSHI",
    "outputId": "c66886da-2332-4cd9-bded-c4516c8657ce"
   },
   "outputs": [
    {
     "data": {
      "text/plain": [
       "3613769"
      ]
     },
     "execution_count": 81,
     "metadata": {},
     "output_type": "execute_result"
    }
   ],
   "source": [
    "len(df.Open)"
   ]
  },
  {
   "cell_type": "code",
   "execution_count": 82,
   "metadata": {
    "colab": {
     "base_uri": "https://localhost:8080/",
     "height": 297
    },
    "id": "AZ0A4Z1ImSEh",
    "outputId": "cb140488-042f-4230-a9f2-425c8bbb864a"
   },
   "outputs": [
    {
     "data": {
      "text/html": [
       "<div>\n",
       "<style scoped>\n",
       "    .dataframe tbody tr th:only-of-type {\n",
       "        vertical-align: middle;\n",
       "    }\n",
       "\n",
       "    .dataframe tbody tr th {\n",
       "        vertical-align: top;\n",
       "    }\n",
       "\n",
       "    .dataframe thead th {\n",
       "        text-align: right;\n",
       "    }\n",
       "</style>\n",
       "<table border=\"1\" class=\"dataframe\">\n",
       "  <thead>\n",
       "    <tr style=\"text-align: right;\">\n",
       "      <th></th>\n",
       "      <th>Open</th>\n",
       "      <th>High</th>\n",
       "      <th>Low</th>\n",
       "      <th>Close</th>\n",
       "      <th>Volume_(BTC)</th>\n",
       "      <th>Volume_(Currency)</th>\n",
       "      <th>Weighted_Price</th>\n",
       "    </tr>\n",
       "  </thead>\n",
       "  <tbody>\n",
       "    <tr>\n",
       "      <th>count</th>\n",
       "      <td>3.613769e+06</td>\n",
       "      <td>3.613769e+06</td>\n",
       "      <td>3.613769e+06</td>\n",
       "      <td>3.613769e+06</td>\n",
       "      <td>3.613769e+06</td>\n",
       "      <td>3.613769e+06</td>\n",
       "      <td>3.613769e+06</td>\n",
       "    </tr>\n",
       "    <tr>\n",
       "      <th>mean</th>\n",
       "      <td>6.009024e+03</td>\n",
       "      <td>6.013357e+03</td>\n",
       "      <td>6.004488e+03</td>\n",
       "      <td>6.009014e+03</td>\n",
       "      <td>9.323249e+00</td>\n",
       "      <td>4.176284e+04</td>\n",
       "      <td>6.008935e+03</td>\n",
       "    </tr>\n",
       "    <tr>\n",
       "      <th>std</th>\n",
       "      <td>8.996247e+03</td>\n",
       "      <td>9.003521e+03</td>\n",
       "      <td>8.988778e+03</td>\n",
       "      <td>8.996360e+03</td>\n",
       "      <td>3.054989e+01</td>\n",
       "      <td>1.518248e+05</td>\n",
       "      <td>8.995992e+03</td>\n",
       "    </tr>\n",
       "    <tr>\n",
       "      <th>min</th>\n",
       "      <td>3.800000e+00</td>\n",
       "      <td>3.800000e+00</td>\n",
       "      <td>1.500000e+00</td>\n",
       "      <td>1.500000e+00</td>\n",
       "      <td>0.000000e+00</td>\n",
       "      <td>0.000000e+00</td>\n",
       "      <td>3.800000e+00</td>\n",
       "    </tr>\n",
       "    <tr>\n",
       "      <th>25%</th>\n",
       "      <td>4.438600e+02</td>\n",
       "      <td>4.440000e+02</td>\n",
       "      <td>4.435200e+02</td>\n",
       "      <td>4.438600e+02</td>\n",
       "      <td>4.097759e-01</td>\n",
       "      <td>4.521422e+02</td>\n",
       "      <td>4.438306e+02</td>\n",
       "    </tr>\n",
       "    <tr>\n",
       "      <th>50%</th>\n",
       "      <td>3.596970e+03</td>\n",
       "      <td>3.598190e+03</td>\n",
       "      <td>3.595620e+03</td>\n",
       "      <td>3.597000e+03</td>\n",
       "      <td>1.979811e+00</td>\n",
       "      <td>3.810124e+03</td>\n",
       "      <td>3.596804e+03</td>\n",
       "    </tr>\n",
       "    <tr>\n",
       "      <th>75%</th>\n",
       "      <td>8.627270e+03</td>\n",
       "      <td>8.632980e+03</td>\n",
       "      <td>8.621090e+03</td>\n",
       "      <td>8.627160e+03</td>\n",
       "      <td>7.278216e+00</td>\n",
       "      <td>2.569821e+04</td>\n",
       "      <td>8.627637e+03</td>\n",
       "    </tr>\n",
       "    <tr>\n",
       "      <th>max</th>\n",
       "      <td>6.176356e+04</td>\n",
       "      <td>6.178183e+04</td>\n",
       "      <td>6.167355e+04</td>\n",
       "      <td>6.178180e+04</td>\n",
       "      <td>5.853852e+03</td>\n",
       "      <td>1.390067e+07</td>\n",
       "      <td>6.171621e+04</td>\n",
       "    </tr>\n",
       "  </tbody>\n",
       "</table>\n",
       "</div>"
      ],
      "text/plain": [
       "               Open          High           Low         Close  Volume_(BTC)  \\\n",
       "count  3.613769e+06  3.613769e+06  3.613769e+06  3.613769e+06  3.613769e+06   \n",
       "mean   6.009024e+03  6.013357e+03  6.004488e+03  6.009014e+03  9.323249e+00   \n",
       "std    8.996247e+03  9.003521e+03  8.988778e+03  8.996360e+03  3.054989e+01   \n",
       "min    3.800000e+00  3.800000e+00  1.500000e+00  1.500000e+00  0.000000e+00   \n",
       "25%    4.438600e+02  4.440000e+02  4.435200e+02  4.438600e+02  4.097759e-01   \n",
       "50%    3.596970e+03  3.598190e+03  3.595620e+03  3.597000e+03  1.979811e+00   \n",
       "75%    8.627270e+03  8.632980e+03  8.621090e+03  8.627160e+03  7.278216e+00   \n",
       "max    6.176356e+04  6.178183e+04  6.167355e+04  6.178180e+04  5.853852e+03   \n",
       "\n",
       "       Volume_(Currency)  Weighted_Price  \n",
       "count       3.613769e+06    3.613769e+06  \n",
       "mean        4.176284e+04    6.008935e+03  \n",
       "std         1.518248e+05    8.995992e+03  \n",
       "min         0.000000e+00    3.800000e+00  \n",
       "25%         4.521422e+02    4.438306e+02  \n",
       "50%         3.810124e+03    3.596804e+03  \n",
       "75%         2.569821e+04    8.627637e+03  \n",
       "max         1.390067e+07    6.171621e+04  "
      ]
     },
     "execution_count": 82,
     "metadata": {},
     "output_type": "execute_result"
    }
   ],
   "source": [
    "df.describe()"
   ]
  },
  {
   "cell_type": "code",
   "execution_count": 83,
   "metadata": {
    "colab": {
     "base_uri": "https://localhost:8080/"
    },
    "id": "BbcZHcz9mSBs",
    "outputId": "07e99706-e706-4207-ec07-178bd6bf9a59",
    "scrolled": true
   },
   "outputs": [
    {
     "name": "stdout",
     "output_type": "stream",
     "text": [
      "<class 'pandas.core.frame.DataFrame'>\n",
      "Int64Index: 3613769 entries, 0 to 4857376\n",
      "Data columns (total 8 columns):\n",
      " #   Column             Dtype         \n",
      "---  ------             -----         \n",
      " 0   Date               datetime64[ns]\n",
      " 1   Open               float64       \n",
      " 2   High               float64       \n",
      " 3   Low                float64       \n",
      " 4   Close              float64       \n",
      " 5   Volume_(BTC)       float64       \n",
      " 6   Volume_(Currency)  float64       \n",
      " 7   Weighted_Price     float64       \n",
      "dtypes: datetime64[ns](1), float64(7)\n",
      "memory usage: 248.1 MB\n"
     ]
    }
   ],
   "source": [
    "df.info()"
   ]
  },
  {
   "cell_type": "markdown",
   "metadata": {},
   "source": []
  },
  {
   "cell_type": "code",
   "execution_count": 84,
   "metadata": {},
   "outputs": [
    {
     "data": {
      "text/html": [
       "<div>\n",
       "<style scoped>\n",
       "    .dataframe tbody tr th:only-of-type {\n",
       "        vertical-align: middle;\n",
       "    }\n",
       "\n",
       "    .dataframe tbody tr th {\n",
       "        vertical-align: top;\n",
       "    }\n",
       "\n",
       "    .dataframe thead th {\n",
       "        text-align: right;\n",
       "    }\n",
       "</style>\n",
       "<table border=\"1\" class=\"dataframe\">\n",
       "  <thead>\n",
       "    <tr style=\"text-align: right;\">\n",
       "      <th></th>\n",
       "      <th>Date</th>\n",
       "      <th>Open</th>\n",
       "      <th>High</th>\n",
       "      <th>Low</th>\n",
       "      <th>Close</th>\n",
       "      <th>Volume_(BTC)</th>\n",
       "      <th>Volume_(Currency)</th>\n",
       "      <th>Weighted_Price</th>\n",
       "    </tr>\n",
       "  </thead>\n",
       "  <tbody>\n",
       "    <tr>\n",
       "      <th>0</th>\n",
       "      <td>2011-12-31 07:52:00</td>\n",
       "      <td>4.39</td>\n",
       "      <td>4.39</td>\n",
       "      <td>4.39</td>\n",
       "      <td>4.39</td>\n",
       "      <td>0.455581</td>\n",
       "      <td>2.000000</td>\n",
       "      <td>4.390000</td>\n",
       "    </tr>\n",
       "    <tr>\n",
       "      <th>478</th>\n",
       "      <td>2011-12-31 15:50:00</td>\n",
       "      <td>4.39</td>\n",
       "      <td>4.39</td>\n",
       "      <td>4.39</td>\n",
       "      <td>4.39</td>\n",
       "      <td>48.000000</td>\n",
       "      <td>210.720000</td>\n",
       "      <td>4.390000</td>\n",
       "    </tr>\n",
       "    <tr>\n",
       "      <th>547</th>\n",
       "      <td>2011-12-31 16:59:00</td>\n",
       "      <td>4.50</td>\n",
       "      <td>4.57</td>\n",
       "      <td>4.50</td>\n",
       "      <td>4.57</td>\n",
       "      <td>37.862297</td>\n",
       "      <td>171.380338</td>\n",
       "      <td>4.526411</td>\n",
       "    </tr>\n",
       "    <tr>\n",
       "      <th>548</th>\n",
       "      <td>2011-12-31 17:00:00</td>\n",
       "      <td>4.58</td>\n",
       "      <td>4.58</td>\n",
       "      <td>4.58</td>\n",
       "      <td>4.58</td>\n",
       "      <td>9.000000</td>\n",
       "      <td>41.220000</td>\n",
       "      <td>4.580000</td>\n",
       "    </tr>\n",
       "    <tr>\n",
       "      <th>1224</th>\n",
       "      <td>2012-01-01 04:16:00</td>\n",
       "      <td>4.58</td>\n",
       "      <td>4.58</td>\n",
       "      <td>4.58</td>\n",
       "      <td>4.58</td>\n",
       "      <td>1.502000</td>\n",
       "      <td>6.879160</td>\n",
       "      <td>4.580000</td>\n",
       "    </tr>\n",
       "    <tr>\n",
       "      <th>...</th>\n",
       "      <td>...</td>\n",
       "      <td>...</td>\n",
       "      <td>...</td>\n",
       "      <td>...</td>\n",
       "      <td>...</td>\n",
       "      <td>...</td>\n",
       "      <td>...</td>\n",
       "      <td>...</td>\n",
       "    </tr>\n",
       "    <tr>\n",
       "      <th>4857372</th>\n",
       "      <td>2021-03-30 23:56:00</td>\n",
       "      <td>58714.31</td>\n",
       "      <td>58714.31</td>\n",
       "      <td>58686.00</td>\n",
       "      <td>58686.00</td>\n",
       "      <td>1.384487</td>\n",
       "      <td>81259.372187</td>\n",
       "      <td>58692.753339</td>\n",
       "    </tr>\n",
       "    <tr>\n",
       "      <th>4857373</th>\n",
       "      <td>2021-03-30 23:57:00</td>\n",
       "      <td>58683.97</td>\n",
       "      <td>58693.43</td>\n",
       "      <td>58683.97</td>\n",
       "      <td>58685.81</td>\n",
       "      <td>7.294848</td>\n",
       "      <td>428158.146640</td>\n",
       "      <td>58693.226508</td>\n",
       "    </tr>\n",
       "    <tr>\n",
       "      <th>4857374</th>\n",
       "      <td>2021-03-30 23:58:00</td>\n",
       "      <td>58693.43</td>\n",
       "      <td>58723.84</td>\n",
       "      <td>58693.43</td>\n",
       "      <td>58723.84</td>\n",
       "      <td>1.705682</td>\n",
       "      <td>100117.070370</td>\n",
       "      <td>58696.198496</td>\n",
       "    </tr>\n",
       "    <tr>\n",
       "      <th>4857375</th>\n",
       "      <td>2021-03-30 23:59:00</td>\n",
       "      <td>58742.18</td>\n",
       "      <td>58770.38</td>\n",
       "      <td>58742.18</td>\n",
       "      <td>58760.59</td>\n",
       "      <td>0.720415</td>\n",
       "      <td>42332.958633</td>\n",
       "      <td>58761.866202</td>\n",
       "    </tr>\n",
       "    <tr>\n",
       "      <th>4857376</th>\n",
       "      <td>2021-03-31 00:00:00</td>\n",
       "      <td>58767.75</td>\n",
       "      <td>58778.18</td>\n",
       "      <td>58755.97</td>\n",
       "      <td>58778.18</td>\n",
       "      <td>2.712831</td>\n",
       "      <td>159417.751000</td>\n",
       "      <td>58764.349363</td>\n",
       "    </tr>\n",
       "  </tbody>\n",
       "</table>\n",
       "<p>3613769 rows × 8 columns</p>\n",
       "</div>"
      ],
      "text/plain": [
       "                       Date      Open      High       Low     Close  \\\n",
       "0       2011-12-31 07:52:00      4.39      4.39      4.39      4.39   \n",
       "478     2011-12-31 15:50:00      4.39      4.39      4.39      4.39   \n",
       "547     2011-12-31 16:59:00      4.50      4.57      4.50      4.57   \n",
       "548     2011-12-31 17:00:00      4.58      4.58      4.58      4.58   \n",
       "1224    2012-01-01 04:16:00      4.58      4.58      4.58      4.58   \n",
       "...                     ...       ...       ...       ...       ...   \n",
       "4857372 2021-03-30 23:56:00  58714.31  58714.31  58686.00  58686.00   \n",
       "4857373 2021-03-30 23:57:00  58683.97  58693.43  58683.97  58685.81   \n",
       "4857374 2021-03-30 23:58:00  58693.43  58723.84  58693.43  58723.84   \n",
       "4857375 2021-03-30 23:59:00  58742.18  58770.38  58742.18  58760.59   \n",
       "4857376 2021-03-31 00:00:00  58767.75  58778.18  58755.97  58778.18   \n",
       "\n",
       "         Volume_(BTC)  Volume_(Currency)  Weighted_Price  \n",
       "0            0.455581           2.000000        4.390000  \n",
       "478         48.000000         210.720000        4.390000  \n",
       "547         37.862297         171.380338        4.526411  \n",
       "548          9.000000          41.220000        4.580000  \n",
       "1224         1.502000           6.879160        4.580000  \n",
       "...               ...                ...             ...  \n",
       "4857372      1.384487       81259.372187    58692.753339  \n",
       "4857373      7.294848      428158.146640    58693.226508  \n",
       "4857374      1.705682      100117.070370    58696.198496  \n",
       "4857375      0.720415       42332.958633    58761.866202  \n",
       "4857376      2.712831      159417.751000    58764.349363  \n",
       "\n",
       "[3613769 rows x 8 columns]"
      ]
     },
     "execution_count": 84,
     "metadata": {},
     "output_type": "execute_result"
    }
   ],
   "source": [
    "df"
   ]
  },
  {
   "cell_type": "markdown",
   "metadata": {},
   "source": [
    "#### Reducing number of decimals of 'Volume_(BTC)', 'Volume_(Currency)', 'Weighted_Price' columns to 2"
   ]
  },
  {
   "cell_type": "code",
   "execution_count": 85,
   "metadata": {},
   "outputs": [
    {
     "name": "stderr",
     "output_type": "stream",
     "text": [
      "D:\\anaconda\\lib\\site-packages\\pandas\\core\\frame.py:3191: SettingWithCopyWarning:\n",
      "\n",
      "\n",
      "A value is trying to be set on a copy of a slice from a DataFrame.\n",
      "Try using .loc[row_indexer,col_indexer] = value instead\n",
      "\n",
      "See the caveats in the documentation: https://pandas.pydata.org/pandas-docs/stable/user_guide/indexing.html#returning-a-view-versus-a-copy\n",
      "\n"
     ]
    }
   ],
   "source": [
    "columns_round = ['Volume_(BTC)', 'Volume_(Currency)', 'Weighted_Price']\n",
    "\n",
    "df[columns_round] = df.loc[:,columns_round].round(decimals = 2)"
   ]
  },
  {
   "cell_type": "code",
   "execution_count": 86,
   "metadata": {},
   "outputs": [
    {
     "data": {
      "text/html": [
       "<div>\n",
       "<style scoped>\n",
       "    .dataframe tbody tr th:only-of-type {\n",
       "        vertical-align: middle;\n",
       "    }\n",
       "\n",
       "    .dataframe tbody tr th {\n",
       "        vertical-align: top;\n",
       "    }\n",
       "\n",
       "    .dataframe thead th {\n",
       "        text-align: right;\n",
       "    }\n",
       "</style>\n",
       "<table border=\"1\" class=\"dataframe\">\n",
       "  <thead>\n",
       "    <tr style=\"text-align: right;\">\n",
       "      <th></th>\n",
       "      <th>Date</th>\n",
       "      <th>Open</th>\n",
       "      <th>High</th>\n",
       "      <th>Low</th>\n",
       "      <th>Close</th>\n",
       "      <th>Volume_(BTC)</th>\n",
       "      <th>Volume_(Currency)</th>\n",
       "      <th>Weighted_Price</th>\n",
       "    </tr>\n",
       "  </thead>\n",
       "  <tbody>\n",
       "    <tr>\n",
       "      <th>0</th>\n",
       "      <td>2011-12-31 07:52:00</td>\n",
       "      <td>4.39</td>\n",
       "      <td>4.39</td>\n",
       "      <td>4.39</td>\n",
       "      <td>4.39</td>\n",
       "      <td>0.46</td>\n",
       "      <td>2.00</td>\n",
       "      <td>4.39</td>\n",
       "    </tr>\n",
       "    <tr>\n",
       "      <th>478</th>\n",
       "      <td>2011-12-31 15:50:00</td>\n",
       "      <td>4.39</td>\n",
       "      <td>4.39</td>\n",
       "      <td>4.39</td>\n",
       "      <td>4.39</td>\n",
       "      <td>48.00</td>\n",
       "      <td>210.72</td>\n",
       "      <td>4.39</td>\n",
       "    </tr>\n",
       "    <tr>\n",
       "      <th>547</th>\n",
       "      <td>2011-12-31 16:59:00</td>\n",
       "      <td>4.50</td>\n",
       "      <td>4.57</td>\n",
       "      <td>4.50</td>\n",
       "      <td>4.57</td>\n",
       "      <td>37.86</td>\n",
       "      <td>171.38</td>\n",
       "      <td>4.53</td>\n",
       "    </tr>\n",
       "    <tr>\n",
       "      <th>548</th>\n",
       "      <td>2011-12-31 17:00:00</td>\n",
       "      <td>4.58</td>\n",
       "      <td>4.58</td>\n",
       "      <td>4.58</td>\n",
       "      <td>4.58</td>\n",
       "      <td>9.00</td>\n",
       "      <td>41.22</td>\n",
       "      <td>4.58</td>\n",
       "    </tr>\n",
       "    <tr>\n",
       "      <th>1224</th>\n",
       "      <td>2012-01-01 04:16:00</td>\n",
       "      <td>4.58</td>\n",
       "      <td>4.58</td>\n",
       "      <td>4.58</td>\n",
       "      <td>4.58</td>\n",
       "      <td>1.50</td>\n",
       "      <td>6.88</td>\n",
       "      <td>4.58</td>\n",
       "    </tr>\n",
       "    <tr>\n",
       "      <th>...</th>\n",
       "      <td>...</td>\n",
       "      <td>...</td>\n",
       "      <td>...</td>\n",
       "      <td>...</td>\n",
       "      <td>...</td>\n",
       "      <td>...</td>\n",
       "      <td>...</td>\n",
       "      <td>...</td>\n",
       "    </tr>\n",
       "    <tr>\n",
       "      <th>4857372</th>\n",
       "      <td>2021-03-30 23:56:00</td>\n",
       "      <td>58714.31</td>\n",
       "      <td>58714.31</td>\n",
       "      <td>58686.00</td>\n",
       "      <td>58686.00</td>\n",
       "      <td>1.38</td>\n",
       "      <td>81259.37</td>\n",
       "      <td>58692.75</td>\n",
       "    </tr>\n",
       "    <tr>\n",
       "      <th>4857373</th>\n",
       "      <td>2021-03-30 23:57:00</td>\n",
       "      <td>58683.97</td>\n",
       "      <td>58693.43</td>\n",
       "      <td>58683.97</td>\n",
       "      <td>58685.81</td>\n",
       "      <td>7.29</td>\n",
       "      <td>428158.15</td>\n",
       "      <td>58693.23</td>\n",
       "    </tr>\n",
       "    <tr>\n",
       "      <th>4857374</th>\n",
       "      <td>2021-03-30 23:58:00</td>\n",
       "      <td>58693.43</td>\n",
       "      <td>58723.84</td>\n",
       "      <td>58693.43</td>\n",
       "      <td>58723.84</td>\n",
       "      <td>1.71</td>\n",
       "      <td>100117.07</td>\n",
       "      <td>58696.20</td>\n",
       "    </tr>\n",
       "    <tr>\n",
       "      <th>4857375</th>\n",
       "      <td>2021-03-30 23:59:00</td>\n",
       "      <td>58742.18</td>\n",
       "      <td>58770.38</td>\n",
       "      <td>58742.18</td>\n",
       "      <td>58760.59</td>\n",
       "      <td>0.72</td>\n",
       "      <td>42332.96</td>\n",
       "      <td>58761.87</td>\n",
       "    </tr>\n",
       "    <tr>\n",
       "      <th>4857376</th>\n",
       "      <td>2021-03-31 00:00:00</td>\n",
       "      <td>58767.75</td>\n",
       "      <td>58778.18</td>\n",
       "      <td>58755.97</td>\n",
       "      <td>58778.18</td>\n",
       "      <td>2.71</td>\n",
       "      <td>159417.75</td>\n",
       "      <td>58764.35</td>\n",
       "    </tr>\n",
       "  </tbody>\n",
       "</table>\n",
       "<p>3613769 rows × 8 columns</p>\n",
       "</div>"
      ],
      "text/plain": [
       "                       Date      Open      High       Low     Close  \\\n",
       "0       2011-12-31 07:52:00      4.39      4.39      4.39      4.39   \n",
       "478     2011-12-31 15:50:00      4.39      4.39      4.39      4.39   \n",
       "547     2011-12-31 16:59:00      4.50      4.57      4.50      4.57   \n",
       "548     2011-12-31 17:00:00      4.58      4.58      4.58      4.58   \n",
       "1224    2012-01-01 04:16:00      4.58      4.58      4.58      4.58   \n",
       "...                     ...       ...       ...       ...       ...   \n",
       "4857372 2021-03-30 23:56:00  58714.31  58714.31  58686.00  58686.00   \n",
       "4857373 2021-03-30 23:57:00  58683.97  58693.43  58683.97  58685.81   \n",
       "4857374 2021-03-30 23:58:00  58693.43  58723.84  58693.43  58723.84   \n",
       "4857375 2021-03-30 23:59:00  58742.18  58770.38  58742.18  58760.59   \n",
       "4857376 2021-03-31 00:00:00  58767.75  58778.18  58755.97  58778.18   \n",
       "\n",
       "         Volume_(BTC)  Volume_(Currency)  Weighted_Price  \n",
       "0                0.46               2.00            4.39  \n",
       "478             48.00             210.72            4.39  \n",
       "547             37.86             171.38            4.53  \n",
       "548              9.00              41.22            4.58  \n",
       "1224             1.50               6.88            4.58  \n",
       "...               ...                ...             ...  \n",
       "4857372          1.38           81259.37        58692.75  \n",
       "4857373          7.29          428158.15        58693.23  \n",
       "4857374          1.71          100117.07        58696.20  \n",
       "4857375          0.72           42332.96        58761.87  \n",
       "4857376          2.71          159417.75        58764.35  \n",
       "\n",
       "[3613769 rows x 8 columns]"
      ]
     },
     "execution_count": 86,
     "metadata": {},
     "output_type": "execute_result"
    }
   ],
   "source": [
    "df"
   ]
  },
  {
   "cell_type": "markdown",
   "metadata": {},
   "source": [
    "#### Extracting Year, Month and date separately for easier analysis"
   ]
  },
  {
   "cell_type": "code",
   "execution_count": 87,
   "metadata": {},
   "outputs": [
    {
     "name": "stderr",
     "output_type": "stream",
     "text": [
      "<ipython-input-87-49a1dff8274c>:1: SettingWithCopyWarning:\n",
      "\n",
      "\n",
      "A value is trying to be set on a copy of a slice from a DataFrame.\n",
      "Try using .loc[row_indexer,col_indexer] = value instead\n",
      "\n",
      "See the caveats in the documentation: https://pandas.pydata.org/pandas-docs/stable/user_guide/indexing.html#returning-a-view-versus-a-copy\n",
      "\n",
      "<ipython-input-87-49a1dff8274c>:2: SettingWithCopyWarning:\n",
      "\n",
      "\n",
      "A value is trying to be set on a copy of a slice from a DataFrame.\n",
      "Try using .loc[row_indexer,col_indexer] = value instead\n",
      "\n",
      "See the caveats in the documentation: https://pandas.pydata.org/pandas-docs/stable/user_guide/indexing.html#returning-a-view-versus-a-copy\n",
      "\n",
      "<ipython-input-87-49a1dff8274c>:3: SettingWithCopyWarning:\n",
      "\n",
      "\n",
      "A value is trying to be set on a copy of a slice from a DataFrame.\n",
      "Try using .loc[row_indexer,col_indexer] = value instead\n",
      "\n",
      "See the caveats in the documentation: https://pandas.pydata.org/pandas-docs/stable/user_guide/indexing.html#returning-a-view-versus-a-copy\n",
      "\n"
     ]
    }
   ],
   "source": [
    "df['Year'] = df.loc[:, 'Date'].dt.year\n",
    "df['Month'] = df.loc[:, 'Date'].dt.month\n",
    "df['Day'] = df.loc[:, 'Date'].dt.day"
   ]
  },
  {
   "cell_type": "markdown",
   "metadata": {},
   "source": [
    "#### Displaying BTC Volume for the highest price"
   ]
  },
  {
   "cell_type": "code",
   "execution_count": 88,
   "metadata": {},
   "outputs": [
    {
     "data": {
      "text/html": [
       "<div>\n",
       "<style scoped>\n",
       "    .dataframe tbody tr th:only-of-type {\n",
       "        vertical-align: middle;\n",
       "    }\n",
       "\n",
       "    .dataframe tbody tr th {\n",
       "        vertical-align: top;\n",
       "    }\n",
       "\n",
       "    .dataframe thead th {\n",
       "        text-align: right;\n",
       "    }\n",
       "</style>\n",
       "<table border=\"1\" class=\"dataframe\">\n",
       "  <thead>\n",
       "    <tr style=\"text-align: right;\">\n",
       "      <th></th>\n",
       "      <th>High</th>\n",
       "      <th>Volume_(BTC)</th>\n",
       "    </tr>\n",
       "  </thead>\n",
       "  <tbody>\n",
       "    <tr>\n",
       "      <th>4832698</th>\n",
       "      <td>61781.83</td>\n",
       "      <td>2.46</td>\n",
       "    </tr>\n",
       "  </tbody>\n",
       "</table>\n",
       "</div>"
      ],
      "text/plain": [
       "             High  Volume_(BTC)\n",
       "4832698  61781.83          2.46"
      ]
     },
     "execution_count": 88,
     "metadata": {},
     "output_type": "execute_result"
    }
   ],
   "source": [
    "tmp = df[['High', 'Volume_(BTC)']].sort_values(['High', 'Volume_(BTC)'], ascending=False)\n",
    "tmp.iloc[[0]]"
   ]
  },
  {
   "cell_type": "markdown",
   "metadata": {},
   "source": [
    "#### All values grouped by month"
   ]
  },
  {
   "cell_type": "code",
   "execution_count": 89,
   "metadata": {
    "scrolled": true
   },
   "outputs": [
    {
     "data": {
      "text/html": [
       "<div>\n",
       "<style scoped>\n",
       "    .dataframe tbody tr th:only-of-type {\n",
       "        vertical-align: middle;\n",
       "    }\n",
       "\n",
       "    .dataframe tbody tr th {\n",
       "        vertical-align: top;\n",
       "    }\n",
       "\n",
       "    .dataframe thead th {\n",
       "        text-align: right;\n",
       "    }\n",
       "</style>\n",
       "<table border=\"1\" class=\"dataframe\">\n",
       "  <thead>\n",
       "    <tr style=\"text-align: right;\">\n",
       "      <th></th>\n",
       "      <th>Open</th>\n",
       "      <th>High</th>\n",
       "      <th>Low</th>\n",
       "      <th>Close</th>\n",
       "      <th>Volume_(BTC)</th>\n",
       "      <th>Volume_(Currency)</th>\n",
       "      <th>Weighted_Price</th>\n",
       "      <th>Year</th>\n",
       "      <th>Day</th>\n",
       "    </tr>\n",
       "    <tr>\n",
       "      <th>Month</th>\n",
       "      <th></th>\n",
       "      <th></th>\n",
       "      <th></th>\n",
       "      <th></th>\n",
       "      <th></th>\n",
       "      <th></th>\n",
       "      <th></th>\n",
       "      <th></th>\n",
       "      <th></th>\n",
       "    </tr>\n",
       "  </thead>\n",
       "  <tbody>\n",
       "    <tr>\n",
       "      <th>1</th>\n",
       "      <td>13511.542034</td>\n",
       "      <td>13506.870276</td>\n",
       "      <td>13393.976179</td>\n",
       "      <td>13612.685967</td>\n",
       "      <td>96.596211</td>\n",
       "      <td>91868.089217</td>\n",
       "      <td>13256.843245</td>\n",
       "      <td>2016.5</td>\n",
       "      <td>16.0</td>\n",
       "    </tr>\n",
       "    <tr>\n",
       "      <th>2</th>\n",
       "      <td>15782.119969</td>\n",
       "      <td>16030.102266</td>\n",
       "      <td>15795.157228</td>\n",
       "      <td>15958.271466</td>\n",
       "      <td>98.415057</td>\n",
       "      <td>78006.056264</td>\n",
       "      <td>15065.524006</td>\n",
       "      <td>2016.5</td>\n",
       "      <td>15.0</td>\n",
       "    </tr>\n",
       "    <tr>\n",
       "      <th>3</th>\n",
       "      <td>16981.912439</td>\n",
       "      <td>17205.435682</td>\n",
       "      <td>17016.587297</td>\n",
       "      <td>17090.778108</td>\n",
       "      <td>86.794391</td>\n",
       "      <td>63861.726696</td>\n",
       "      <td>16331.878190</td>\n",
       "      <td>2016.5</td>\n",
       "      <td>16.0</td>\n",
       "    </tr>\n",
       "    <tr>\n",
       "      <th>4</th>\n",
       "      <td>5135.018102</td>\n",
       "      <td>5128.988142</td>\n",
       "      <td>5124.184008</td>\n",
       "      <td>5175.018088</td>\n",
       "      <td>81.519935</td>\n",
       "      <td>32371.956943</td>\n",
       "      <td>5070.352190</td>\n",
       "      <td>2016.0</td>\n",
       "      <td>15.5</td>\n",
       "    </tr>\n",
       "    <tr>\n",
       "      <th>5</th>\n",
       "      <td>6227.180679</td>\n",
       "      <td>6280.815379</td>\n",
       "      <td>6233.192845</td>\n",
       "      <td>6267.484859</td>\n",
       "      <td>75.545739</td>\n",
       "      <td>42414.971341</td>\n",
       "      <td>6101.807992</td>\n",
       "      <td>2016.0</td>\n",
       "      <td>16.0</td>\n",
       "    </tr>\n",
       "    <tr>\n",
       "      <th>6</th>\n",
       "      <td>6305.041952</td>\n",
       "      <td>6316.812072</td>\n",
       "      <td>6297.891376</td>\n",
       "      <td>6341.631097</td>\n",
       "      <td>78.965539</td>\n",
       "      <td>37083.928803</td>\n",
       "      <td>6231.567041</td>\n",
       "      <td>2016.0</td>\n",
       "      <td>15.5</td>\n",
       "    </tr>\n",
       "    <tr>\n",
       "      <th>7</th>\n",
       "      <td>6925.901283</td>\n",
       "      <td>6920.774511</td>\n",
       "      <td>6907.289905</td>\n",
       "      <td>6938.060660</td>\n",
       "      <td>80.634525</td>\n",
       "      <td>39468.825457</td>\n",
       "      <td>6820.400384</td>\n",
       "      <td>2016.0</td>\n",
       "      <td>16.0</td>\n",
       "    </tr>\n",
       "    <tr>\n",
       "      <th>8</th>\n",
       "      <td>7276.331883</td>\n",
       "      <td>7305.319798</td>\n",
       "      <td>7225.835257</td>\n",
       "      <td>7289.375201</td>\n",
       "      <td>82.023775</td>\n",
       "      <td>35237.180112</td>\n",
       "      <td>7147.096006</td>\n",
       "      <td>2016.0</td>\n",
       "      <td>16.0</td>\n",
       "    </tr>\n",
       "    <tr>\n",
       "      <th>9</th>\n",
       "      <td>6995.863626</td>\n",
       "      <td>7027.845752</td>\n",
       "      <td>6969.961357</td>\n",
       "      <td>7006.225800</td>\n",
       "      <td>85.266992</td>\n",
       "      <td>34188.033650</td>\n",
       "      <td>6903.066211</td>\n",
       "      <td>2016.0</td>\n",
       "      <td>15.5</td>\n",
       "    </tr>\n",
       "    <tr>\n",
       "      <th>10</th>\n",
       "      <td>6857.086686</td>\n",
       "      <td>6895.384850</td>\n",
       "      <td>6829.975969</td>\n",
       "      <td>6885.852255</td>\n",
       "      <td>105.546272</td>\n",
       "      <td>33288.513553</td>\n",
       "      <td>6819.092439</td>\n",
       "      <td>2016.0</td>\n",
       "      <td>16.0</td>\n",
       "    </tr>\n",
       "    <tr>\n",
       "      <th>11</th>\n",
       "      <td>8284.296327</td>\n",
       "      <td>8353.132193</td>\n",
       "      <td>8309.077198</td>\n",
       "      <td>8352.654518</td>\n",
       "      <td>108.116021</td>\n",
       "      <td>48326.484395</td>\n",
       "      <td>7993.300086</td>\n",
       "      <td>2016.0</td>\n",
       "      <td>15.5</td>\n",
       "    </tr>\n",
       "    <tr>\n",
       "      <th>12</th>\n",
       "      <td>10312.347238</td>\n",
       "      <td>10272.413072</td>\n",
       "      <td>10287.867319</td>\n",
       "      <td>10378.804939</td>\n",
       "      <td>93.319793</td>\n",
       "      <td>64393.533435</td>\n",
       "      <td>10046.194968</td>\n",
       "      <td>2015.5</td>\n",
       "      <td>16.0</td>\n",
       "    </tr>\n",
       "  </tbody>\n",
       "</table>\n",
       "</div>"
      ],
      "text/plain": [
       "               Open          High           Low         Close  Volume_(BTC)  \\\n",
       "Month                                                                         \n",
       "1      13511.542034  13506.870276  13393.976179  13612.685967     96.596211   \n",
       "2      15782.119969  16030.102266  15795.157228  15958.271466     98.415057   \n",
       "3      16981.912439  17205.435682  17016.587297  17090.778108     86.794391   \n",
       "4       5135.018102   5128.988142   5124.184008   5175.018088     81.519935   \n",
       "5       6227.180679   6280.815379   6233.192845   6267.484859     75.545739   \n",
       "6       6305.041952   6316.812072   6297.891376   6341.631097     78.965539   \n",
       "7       6925.901283   6920.774511   6907.289905   6938.060660     80.634525   \n",
       "8       7276.331883   7305.319798   7225.835257   7289.375201     82.023775   \n",
       "9       6995.863626   7027.845752   6969.961357   7006.225800     85.266992   \n",
       "10      6857.086686   6895.384850   6829.975969   6885.852255    105.546272   \n",
       "11      8284.296327   8353.132193   8309.077198   8352.654518    108.116021   \n",
       "12     10312.347238  10272.413072  10287.867319  10378.804939     93.319793   \n",
       "\n",
       "       Volume_(Currency)  Weighted_Price    Year   Day  \n",
       "Month                                                   \n",
       "1           91868.089217    13256.843245  2016.5  16.0  \n",
       "2           78006.056264    15065.524006  2016.5  15.0  \n",
       "3           63861.726696    16331.878190  2016.5  16.0  \n",
       "4           32371.956943     5070.352190  2016.0  15.5  \n",
       "5           42414.971341     6101.807992  2016.0  16.0  \n",
       "6           37083.928803     6231.567041  2016.0  15.5  \n",
       "7           39468.825457     6820.400384  2016.0  16.0  \n",
       "8           35237.180112     7147.096006  2016.0  16.0  \n",
       "9           34188.033650     6903.066211  2016.0  15.5  \n",
       "10          33288.513553     6819.092439  2016.0  16.0  \n",
       "11          48326.484395     7993.300086  2016.0  15.5  \n",
       "12          64393.533435    10046.194968  2015.5  16.0  "
      ]
     },
     "execution_count": 89,
     "metadata": {},
     "output_type": "execute_result"
    }
   ],
   "source": [
    "month_values = df.groupby('Month').agg(lambda x: x.unique().mean())\n",
    "month_values"
   ]
  },
  {
   "cell_type": "markdown",
   "metadata": {},
   "source": [
    "# Data Visualization"
   ]
  },
  {
   "cell_type": "code",
   "execution_count": 90,
   "metadata": {},
   "outputs": [
    {
     "data": {
      "image/png": "[encoded data removed]",
      "text/plain": [
       "<Figure size 500x400 with 1 Axes>"
      ]
     },
     "metadata": {
      "needs_background": "light"
     },
     "output_type": "display_data"
    }
   ],
   "source": [
    "fig_pd = plt.figure(figsize=(5,4), dpi=100)\n",
    "axes_pd = fig_pd.add_axes([0.1,0.1,0.9,0.9])\n",
    "\n",
    "axes_pd.plot(df.index, df['Weighted_Price'].astype(int), label = 'Weighted Price')\n",
    "\n",
    "axes_pd.set_xlabel('Date')\n",
    "axes_pd.set_ylabel('Price')\n",
    "axes_pd.set_title('Weighted Price vs Date chart')\n",
    "lines, labels = axes_pd.get_legend_handles_labels()\n",
    "\n",
    "axes_pd.legend(lines, labels, bbox_to_anchor=(1.0, 1.0), loc=0)\n",
    "plt.show()"
   ]
  },
  {
   "cell_type": "code",
   "execution_count": 91,
   "metadata": {},
   "outputs": [
    {
     "data": {
      "text/html": [
       "<div>\n",
       "<style scoped>\n",
       "    .dataframe tbody tr th:only-of-type {\n",
       "        vertical-align: middle;\n",
       "    }\n",
       "\n",
       "    .dataframe tbody tr th {\n",
       "        vertical-align: top;\n",
       "    }\n",
       "\n",
       "    .dataframe thead th {\n",
       "        text-align: right;\n",
       "    }\n",
       "</style>\n",
       "<table border=\"1\" class=\"dataframe\">\n",
       "  <thead>\n",
       "    <tr style=\"text-align: right;\">\n",
       "      <th></th>\n",
       "      <th>Date</th>\n",
       "      <th>Open</th>\n",
       "      <th>High</th>\n",
       "      <th>Low</th>\n",
       "      <th>Close</th>\n",
       "      <th>Volume_(BTC)</th>\n",
       "      <th>Volume_(Currency)</th>\n",
       "      <th>Weighted_Price</th>\n",
       "      <th>Year</th>\n",
       "      <th>Month</th>\n",
       "      <th>Day</th>\n",
       "    </tr>\n",
       "  </thead>\n",
       "  <tbody>\n",
       "    <tr>\n",
       "      <th>0</th>\n",
       "      <td>2011-12-31 07:52:00</td>\n",
       "      <td>4.39</td>\n",
       "      <td>4.39</td>\n",
       "      <td>4.39</td>\n",
       "      <td>4.39</td>\n",
       "      <td>0.46</td>\n",
       "      <td>2.00</td>\n",
       "      <td>4.39</td>\n",
       "      <td>2011</td>\n",
       "      <td>12</td>\n",
       "      <td>31</td>\n",
       "    </tr>\n",
       "    <tr>\n",
       "      <th>478</th>\n",
       "      <td>2011-12-31 15:50:00</td>\n",
       "      <td>4.39</td>\n",
       "      <td>4.39</td>\n",
       "      <td>4.39</td>\n",
       "      <td>4.39</td>\n",
       "      <td>48.00</td>\n",
       "      <td>210.72</td>\n",
       "      <td>4.39</td>\n",
       "      <td>2011</td>\n",
       "      <td>12</td>\n",
       "      <td>31</td>\n",
       "    </tr>\n",
       "    <tr>\n",
       "      <th>547</th>\n",
       "      <td>2011-12-31 16:59:00</td>\n",
       "      <td>4.50</td>\n",
       "      <td>4.57</td>\n",
       "      <td>4.50</td>\n",
       "      <td>4.57</td>\n",
       "      <td>37.86</td>\n",
       "      <td>171.38</td>\n",
       "      <td>4.53</td>\n",
       "      <td>2011</td>\n",
       "      <td>12</td>\n",
       "      <td>31</td>\n",
       "    </tr>\n",
       "    <tr>\n",
       "      <th>548</th>\n",
       "      <td>2011-12-31 17:00:00</td>\n",
       "      <td>4.58</td>\n",
       "      <td>4.58</td>\n",
       "      <td>4.58</td>\n",
       "      <td>4.58</td>\n",
       "      <td>9.00</td>\n",
       "      <td>41.22</td>\n",
       "      <td>4.58</td>\n",
       "      <td>2011</td>\n",
       "      <td>12</td>\n",
       "      <td>31</td>\n",
       "    </tr>\n",
       "    <tr>\n",
       "      <th>1224</th>\n",
       "      <td>2012-01-01 04:16:00</td>\n",
       "      <td>4.58</td>\n",
       "      <td>4.58</td>\n",
       "      <td>4.58</td>\n",
       "      <td>4.58</td>\n",
       "      <td>1.50</td>\n",
       "      <td>6.88</td>\n",
       "      <td>4.58</td>\n",
       "      <td>2012</td>\n",
       "      <td>1</td>\n",
       "      <td>1</td>\n",
       "    </tr>\n",
       "    <tr>\n",
       "      <th>...</th>\n",
       "      <td>...</td>\n",
       "      <td>...</td>\n",
       "      <td>...</td>\n",
       "      <td>...</td>\n",
       "      <td>...</td>\n",
       "      <td>...</td>\n",
       "      <td>...</td>\n",
       "      <td>...</td>\n",
       "      <td>...</td>\n",
       "      <td>...</td>\n",
       "      <td>...</td>\n",
       "    </tr>\n",
       "    <tr>\n",
       "      <th>4857372</th>\n",
       "      <td>2021-03-30 23:56:00</td>\n",
       "      <td>58714.31</td>\n",
       "      <td>58714.31</td>\n",
       "      <td>58686.00</td>\n",
       "      <td>58686.00</td>\n",
       "      <td>1.38</td>\n",
       "      <td>81259.37</td>\n",
       "      <td>58692.75</td>\n",
       "      <td>2021</td>\n",
       "      <td>3</td>\n",
       "      <td>30</td>\n",
       "    </tr>\n",
       "    <tr>\n",
       "      <th>4857373</th>\n",
       "      <td>2021-03-30 23:57:00</td>\n",
       "      <td>58683.97</td>\n",
       "      <td>58693.43</td>\n",
       "      <td>58683.97</td>\n",
       "      <td>58685.81</td>\n",
       "      <td>7.29</td>\n",
       "      <td>428158.15</td>\n",
       "      <td>58693.23</td>\n",
       "      <td>2021</td>\n",
       "      <td>3</td>\n",
       "      <td>30</td>\n",
       "    </tr>\n",
       "    <tr>\n",
       "      <th>4857374</th>\n",
       "      <td>2021-03-30 23:58:00</td>\n",
       "      <td>58693.43</td>\n",
       "      <td>58723.84</td>\n",
       "      <td>58693.43</td>\n",
       "      <td>58723.84</td>\n",
       "      <td>1.71</td>\n",
       "      <td>100117.07</td>\n",
       "      <td>58696.20</td>\n",
       "      <td>2021</td>\n",
       "      <td>3</td>\n",
       "      <td>30</td>\n",
       "    </tr>\n",
       "    <tr>\n",
       "      <th>4857375</th>\n",
       "      <td>2021-03-30 23:59:00</td>\n",
       "      <td>58742.18</td>\n",
       "      <td>58770.38</td>\n",
       "      <td>58742.18</td>\n",
       "      <td>58760.59</td>\n",
       "      <td>0.72</td>\n",
       "      <td>42332.96</td>\n",
       "      <td>58761.87</td>\n",
       "      <td>2021</td>\n",
       "      <td>3</td>\n",
       "      <td>30</td>\n",
       "    </tr>\n",
       "    <tr>\n",
       "      <th>4857376</th>\n",
       "      <td>2021-03-31 00:00:00</td>\n",
       "      <td>58767.75</td>\n",
       "      <td>58778.18</td>\n",
       "      <td>58755.97</td>\n",
       "      <td>58778.18</td>\n",
       "      <td>2.71</td>\n",
       "      <td>159417.75</td>\n",
       "      <td>58764.35</td>\n",
       "      <td>2021</td>\n",
       "      <td>3</td>\n",
       "      <td>31</td>\n",
       "    </tr>\n",
       "  </tbody>\n",
       "</table>\n",
       "<p>3613769 rows × 11 columns</p>\n",
       "</div>"
      ],
      "text/plain": [
       "                       Date      Open      High       Low     Close  \\\n",
       "0       2011-12-31 07:52:00      4.39      4.39      4.39      4.39   \n",
       "478     2011-12-31 15:50:00      4.39      4.39      4.39      4.39   \n",
       "547     2011-12-31 16:59:00      4.50      4.57      4.50      4.57   \n",
       "548     2011-12-31 17:00:00      4.58      4.58      4.58      4.58   \n",
       "1224    2012-01-01 04:16:00      4.58      4.58      4.58      4.58   \n",
       "...                     ...       ...       ...       ...       ...   \n",
       "4857372 2021-03-30 23:56:00  58714.31  58714.31  58686.00  58686.00   \n",
       "4857373 2021-03-30 23:57:00  58683.97  58693.43  58683.97  58685.81   \n",
       "4857374 2021-03-30 23:58:00  58693.43  58723.84  58693.43  58723.84   \n",
       "4857375 2021-03-30 23:59:00  58742.18  58770.38  58742.18  58760.59   \n",
       "4857376 2021-03-31 00:00:00  58767.75  58778.18  58755.97  58778.18   \n",
       "\n",
       "         Volume_(BTC)  Volume_(Currency)  Weighted_Price  Year  Month  Day  \n",
       "0                0.46               2.00            4.39  2011     12   31  \n",
       "478             48.00             210.72            4.39  2011     12   31  \n",
       "547             37.86             171.38            4.53  2011     12   31  \n",
       "548              9.00              41.22            4.58  2011     12   31  \n",
       "1224             1.50               6.88            4.58  2012      1    1  \n",
       "...               ...                ...             ...   ...    ...  ...  \n",
       "4857372          1.38           81259.37        58692.75  2021      3   30  \n",
       "4857373          7.29          428158.15        58693.23  2021      3   30  \n",
       "4857374          1.71          100117.07        58696.20  2021      3   30  \n",
       "4857375          0.72           42332.96        58761.87  2021      3   30  \n",
       "4857376          2.71          159417.75        58764.35  2021      3   31  \n",
       "\n",
       "[3613769 rows x 11 columns]"
      ]
     },
     "execution_count": 91,
     "metadata": {},
     "output_type": "execute_result"
    }
   ],
   "source": [
    "df"
   ]
  },
  {
   "cell_type": "code",
   "execution_count": null,
   "metadata": {},
   "outputs": [],
   "source": []
  },
  {
   "cell_type": "code",
   "execution_count": 92,
   "metadata": {},
   "outputs": [
    {
     "data": {
      "image/png": "[encoded data removed]",
      "text/plain": [
       "<Figure size 576x360 with 1 Axes>"
      ]
     },
     "metadata": {
      "needs_background": "light"
     },
     "output_type": "display_data"
    }
   ],
   "source": [
    "fig = plt.figure(figsize=(8,5))\n",
    "ax= fig.add_axes([0.1,0.1,0.9,0.9])\n",
    "\n",
    "ax.plot(month_values.index, month_values, label = [month_values.index.astype(int)])\n",
    "\n",
    "ax.set_xlabel('Date')\n",
    "ax.set_ylabel('AVG Values')\n",
    "ax.set_title('avg for every month')\n",
    "\n",
    "lines, labels = ax.get_legend_handles_labels()\n",
    "ax.legend(lines, labels, bbox_to_anchor=(1.1, 1.0), loc=0)\n",
    "ax.grid()\n",
    "plt.show()"
   ]
  },
  {
   "cell_type": "code",
   "execution_count": 110,
   "metadata": {},
   "outputs": [],
   "source": [
    "import seaborn as sns\n",
    "sns.set_style(\"darkgrid\")\n",
    "%matplotlib inline"
   ]
  },
  {
   "cell_type": "code",
   "execution_count": 93,
   "metadata": {
    "scrolled": true
   },
   "outputs": [
    {
     "data": {
      "text/plain": [
       "<AxesSubplot:ylabel='Count'>"
      ]
     },
     "execution_count": 93,
     "metadata": {},
     "output_type": "execute_result"
    },
    {
     "data": {
      "image/png": "[encoded data removed]",
      "text/plain": [
       "<Figure size 432x288 with 1 Axes>"
      ]
     },
     "metadata": {
      "needs_background": "light"
     },
     "output_type": "display_data"
    }
   ],
   "source": [
    "sns.histplot(month_values)"
   ]
  },
  {
   "cell_type": "code",
   "execution_count": 94,
   "metadata": {},
   "outputs": [
    {
     "name": "stdout",
     "output_type": "stream",
     "text": [
      "<class 'pandas.core.frame.DataFrame'>\n",
      "Int64Index: 3613769 entries, 0 to 4857376\n",
      "Data columns (total 11 columns):\n",
      " #   Column             Dtype         \n",
      "---  ------             -----         \n",
      " 0   Date               datetime64[ns]\n",
      " 1   Open               float64       \n",
      " 2   High               float64       \n",
      " 3   Low                float64       \n",
      " 4   Close              float64       \n",
      " 5   Volume_(BTC)       float64       \n",
      " 6   Volume_(Currency)  float64       \n",
      " 7   Weighted_Price     float64       \n",
      " 8   Year               int64         \n",
      " 9   Month              int64         \n",
      " 10  Day                int64         \n",
      "dtypes: datetime64[ns](1), float64(7), int64(3)\n",
      "memory usage: 459.9 MB\n"
     ]
    }
   ],
   "source": [
    "df.info()"
   ]
  },
  {
   "cell_type": "code",
   "execution_count": 95,
   "metadata": {},
   "outputs": [
    {
     "data": {
      "text/plain": [
       "<AxesSubplot:xlabel='Month', ylabel='Count'>"
      ]
     },
     "execution_count": 95,
     "metadata": {},
     "output_type": "execute_result"
    },
    {
     "data": {
      "image/png": "[encoded data removed]",
      "text/plain": [
       "<Figure size 432x288 with 1 Axes>"
      ]
     },
     "metadata": {
      "needs_background": "light"
     },
     "output_type": "display_data"
    }
   ],
   "source": [
    "sns.histplot(df['Month'])"
   ]
  },
  {
   "cell_type": "code",
   "execution_count": 96,
   "metadata": {
    "scrolled": true
   },
   "outputs": [
    {
     "name": "stdout",
     "output_type": "stream",
     "text": [
      "<class 'pandas.core.frame.DataFrame'>\n",
      "Int64Index: 3613769 entries, 0 to 4857376\n",
      "Data columns (total 11 columns):\n",
      " #   Column             Dtype         \n",
      "---  ------             -----         \n",
      " 0   Date               datetime64[ns]\n",
      " 1   Open               float64       \n",
      " 2   High               float64       \n",
      " 3   Low                float64       \n",
      " 4   Close              float64       \n",
      " 5   Volume_(BTC)       float64       \n",
      " 6   Volume_(Currency)  float64       \n",
      " 7   Weighted_Price     float64       \n",
      " 8   Year               int64         \n",
      " 9   Month              int64         \n",
      " 10  Day                int64         \n",
      "dtypes: datetime64[ns](1), float64(7), int64(3)\n",
      "memory usage: 459.9 MB\n"
     ]
    }
   ],
   "source": [
    "df.info()"
   ]
  },
  {
   "cell_type": "code",
   "execution_count": 99,
   "metadata": {
    "colab": {
     "base_uri": "https://localhost:8080/",
     "height": 282
    },
    "id": "kQT83XsJmR8T",
    "outputId": "6c6c591b-112c-43c8-f3a1-59a9b33aec63"
   },
   "outputs": [
    {
     "data": {
      "text/plain": [
       "<matplotlib.legend.Legend at 0x1638b643250>"
      ]
     },
     "execution_count": 99,
     "metadata": {},
     "output_type": "execute_result"
    },
    {
     "data": {
      "image/png": "[encoded data removed]",
      "text/plain": [
       "<Figure size 432x288 with 1 Axes>"
      ]
     },
     "metadata": {
      "needs_background": "light"
     },
     "output_type": "display_data"
    }
   ],
   "source": [
    "df[:1].plot(kind='barh').legend(loc=0, bbox_to_anchor=(1.0, 1.0))"
   ]
  },
  {
   "cell_type": "code",
   "execution_count": 100,
   "metadata": {
    "colab": {
     "base_uri": "https://localhost:8080/"
    },
    "id": "DSxdJouFDY4N",
    "outputId": "65ce1c16-6b9b-471c-821e-f4c0cf53dad8"
   },
   "outputs": [
    {
     "data": {
      "text/plain": [
       "pandas.core.indexes.numeric.Int64Index"
      ]
     },
     "execution_count": 100,
     "metadata": {},
     "output_type": "execute_result"
    }
   ],
   "source": [
    "type(df.index)"
   ]
  },
  {
   "cell_type": "code",
   "execution_count": 101,
   "metadata": {
    "colab": {
     "base_uri": "https://localhost:8080/",
     "height": 450
    },
    "id": "1Aaya7TLrDNC",
    "outputId": "695e186f-4f5f-4cab-d805-9ddaada4beb6"
   },
   "outputs": [
    {
     "data": {
      "text/html": [
       "<div>\n",
       "<style scoped>\n",
       "    .dataframe tbody tr th:only-of-type {\n",
       "        vertical-align: middle;\n",
       "    }\n",
       "\n",
       "    .dataframe tbody tr th {\n",
       "        vertical-align: top;\n",
       "    }\n",
       "\n",
       "    .dataframe thead th {\n",
       "        text-align: right;\n",
       "    }\n",
       "</style>\n",
       "<table border=\"1\" class=\"dataframe\">\n",
       "  <thead>\n",
       "    <tr style=\"text-align: right;\">\n",
       "      <th></th>\n",
       "      <th>Date</th>\n",
       "      <th>Open</th>\n",
       "      <th>High</th>\n",
       "      <th>Low</th>\n",
       "      <th>Close</th>\n",
       "      <th>Volume_(BTC)</th>\n",
       "      <th>Volume_(Currency)</th>\n",
       "      <th>Weighted_Price</th>\n",
       "      <th>Year</th>\n",
       "      <th>Month</th>\n",
       "      <th>Day</th>\n",
       "    </tr>\n",
       "  </thead>\n",
       "  <tbody>\n",
       "    <tr>\n",
       "      <th>0</th>\n",
       "      <td>2011-12-31 07:52:00</td>\n",
       "      <td>4.39</td>\n",
       "      <td>4.39</td>\n",
       "      <td>4.39</td>\n",
       "      <td>4.39</td>\n",
       "      <td>0.46</td>\n",
       "      <td>2.00</td>\n",
       "      <td>4.39</td>\n",
       "      <td>2011</td>\n",
       "      <td>12</td>\n",
       "      <td>31</td>\n",
       "    </tr>\n",
       "    <tr>\n",
       "      <th>478</th>\n",
       "      <td>2011-12-31 15:50:00</td>\n",
       "      <td>4.39</td>\n",
       "      <td>4.39</td>\n",
       "      <td>4.39</td>\n",
       "      <td>4.39</td>\n",
       "      <td>48.00</td>\n",
       "      <td>210.72</td>\n",
       "      <td>4.39</td>\n",
       "      <td>2011</td>\n",
       "      <td>12</td>\n",
       "      <td>31</td>\n",
       "    </tr>\n",
       "    <tr>\n",
       "      <th>547</th>\n",
       "      <td>2011-12-31 16:59:00</td>\n",
       "      <td>4.50</td>\n",
       "      <td>4.57</td>\n",
       "      <td>4.50</td>\n",
       "      <td>4.57</td>\n",
       "      <td>37.86</td>\n",
       "      <td>171.38</td>\n",
       "      <td>4.53</td>\n",
       "      <td>2011</td>\n",
       "      <td>12</td>\n",
       "      <td>31</td>\n",
       "    </tr>\n",
       "    <tr>\n",
       "      <th>548</th>\n",
       "      <td>2011-12-31 17:00:00</td>\n",
       "      <td>4.58</td>\n",
       "      <td>4.58</td>\n",
       "      <td>4.58</td>\n",
       "      <td>4.58</td>\n",
       "      <td>9.00</td>\n",
       "      <td>41.22</td>\n",
       "      <td>4.58</td>\n",
       "      <td>2011</td>\n",
       "      <td>12</td>\n",
       "      <td>31</td>\n",
       "    </tr>\n",
       "    <tr>\n",
       "      <th>1224</th>\n",
       "      <td>2012-01-01 04:16:00</td>\n",
       "      <td>4.58</td>\n",
       "      <td>4.58</td>\n",
       "      <td>4.58</td>\n",
       "      <td>4.58</td>\n",
       "      <td>1.50</td>\n",
       "      <td>6.88</td>\n",
       "      <td>4.58</td>\n",
       "      <td>2012</td>\n",
       "      <td>1</td>\n",
       "      <td>1</td>\n",
       "    </tr>\n",
       "    <tr>\n",
       "      <th>...</th>\n",
       "      <td>...</td>\n",
       "      <td>...</td>\n",
       "      <td>...</td>\n",
       "      <td>...</td>\n",
       "      <td>...</td>\n",
       "      <td>...</td>\n",
       "      <td>...</td>\n",
       "      <td>...</td>\n",
       "      <td>...</td>\n",
       "      <td>...</td>\n",
       "      <td>...</td>\n",
       "    </tr>\n",
       "    <tr>\n",
       "      <th>4857372</th>\n",
       "      <td>2021-03-30 23:56:00</td>\n",
       "      <td>58714.31</td>\n",
       "      <td>58714.31</td>\n",
       "      <td>58686.00</td>\n",
       "      <td>58686.00</td>\n",
       "      <td>1.38</td>\n",
       "      <td>81259.37</td>\n",
       "      <td>58692.75</td>\n",
       "      <td>2021</td>\n",
       "      <td>3</td>\n",
       "      <td>30</td>\n",
       "    </tr>\n",
       "    <tr>\n",
       "      <th>4857373</th>\n",
       "      <td>2021-03-30 23:57:00</td>\n",
       "      <td>58683.97</td>\n",
       "      <td>58693.43</td>\n",
       "      <td>58683.97</td>\n",
       "      <td>58685.81</td>\n",
       "      <td>7.29</td>\n",
       "      <td>428158.15</td>\n",
       "      <td>58693.23</td>\n",
       "      <td>2021</td>\n",
       "      <td>3</td>\n",
       "      <td>30</td>\n",
       "    </tr>\n",
       "    <tr>\n",
       "      <th>4857374</th>\n",
       "      <td>2021-03-30 23:58:00</td>\n",
       "      <td>58693.43</td>\n",
       "      <td>58723.84</td>\n",
       "      <td>58693.43</td>\n",
       "      <td>58723.84</td>\n",
       "      <td>1.71</td>\n",
       "      <td>100117.07</td>\n",
       "      <td>58696.20</td>\n",
       "      <td>2021</td>\n",
       "      <td>3</td>\n",
       "      <td>30</td>\n",
       "    </tr>\n",
       "    <tr>\n",
       "      <th>4857375</th>\n",
       "      <td>2021-03-30 23:59:00</td>\n",
       "      <td>58742.18</td>\n",
       "      <td>58770.38</td>\n",
       "      <td>58742.18</td>\n",
       "      <td>58760.59</td>\n",
       "      <td>0.72</td>\n",
       "      <td>42332.96</td>\n",
       "      <td>58761.87</td>\n",
       "      <td>2021</td>\n",
       "      <td>3</td>\n",
       "      <td>30</td>\n",
       "    </tr>\n",
       "    <tr>\n",
       "      <th>4857376</th>\n",
       "      <td>2021-03-31 00:00:00</td>\n",
       "      <td>58767.75</td>\n",
       "      <td>58778.18</td>\n",
       "      <td>58755.97</td>\n",
       "      <td>58778.18</td>\n",
       "      <td>2.71</td>\n",
       "      <td>159417.75</td>\n",
       "      <td>58764.35</td>\n",
       "      <td>2021</td>\n",
       "      <td>3</td>\n",
       "      <td>31</td>\n",
       "    </tr>\n",
       "  </tbody>\n",
       "</table>\n",
       "<p>3613769 rows × 11 columns</p>\n",
       "</div>"
      ],
      "text/plain": [
       "                       Date      Open      High       Low     Close  \\\n",
       "0       2011-12-31 07:52:00      4.39      4.39      4.39      4.39   \n",
       "478     2011-12-31 15:50:00      4.39      4.39      4.39      4.39   \n",
       "547     2011-12-31 16:59:00      4.50      4.57      4.50      4.57   \n",
       "548     2011-12-31 17:00:00      4.58      4.58      4.58      4.58   \n",
       "1224    2012-01-01 04:16:00      4.58      4.58      4.58      4.58   \n",
       "...                     ...       ...       ...       ...       ...   \n",
       "4857372 2021-03-30 23:56:00  58714.31  58714.31  58686.00  58686.00   \n",
       "4857373 2021-03-30 23:57:00  58683.97  58693.43  58683.97  58685.81   \n",
       "4857374 2021-03-30 23:58:00  58693.43  58723.84  58693.43  58723.84   \n",
       "4857375 2021-03-30 23:59:00  58742.18  58770.38  58742.18  58760.59   \n",
       "4857376 2021-03-31 00:00:00  58767.75  58778.18  58755.97  58778.18   \n",
       "\n",
       "         Volume_(BTC)  Volume_(Currency)  Weighted_Price  Year  Month  Day  \n",
       "0                0.46               2.00            4.39  2011     12   31  \n",
       "478             48.00             210.72            4.39  2011     12   31  \n",
       "547             37.86             171.38            4.53  2011     12   31  \n",
       "548              9.00              41.22            4.58  2011     12   31  \n",
       "1224             1.50               6.88            4.58  2012      1    1  \n",
       "...               ...                ...             ...   ...    ...  ...  \n",
       "4857372          1.38           81259.37        58692.75  2021      3   30  \n",
       "4857373          7.29          428158.15        58693.23  2021      3   30  \n",
       "4857374          1.71          100117.07        58696.20  2021      3   30  \n",
       "4857375          0.72           42332.96        58761.87  2021      3   30  \n",
       "4857376          2.71          159417.75        58764.35  2021      3   31  \n",
       "\n",
       "[3613769 rows x 11 columns]"
      ]
     },
     "execution_count": 101,
     "metadata": {},
     "output_type": "execute_result"
    }
   ],
   "source": [
    "df.loc[:]"
   ]
  },
  {
   "cell_type": "code",
   "execution_count": 102,
   "metadata": {
    "colab": {
     "base_uri": "https://localhost:8080/",
     "height": 450
    },
    "id": "L8Bf-Q1TpHJy",
    "outputId": "aada6f8b-3fdb-430f-f0c7-3c65645a6d3b"
   },
   "outputs": [
    {
     "data": {
      "text/html": [
       "<div>\n",
       "<style scoped>\n",
       "    .dataframe tbody tr th:only-of-type {\n",
       "        vertical-align: middle;\n",
       "    }\n",
       "\n",
       "    .dataframe tbody tr th {\n",
       "        vertical-align: top;\n",
       "    }\n",
       "\n",
       "    .dataframe thead th {\n",
       "        text-align: right;\n",
       "    }\n",
       "</style>\n",
       "<table border=\"1\" class=\"dataframe\">\n",
       "  <thead>\n",
       "    <tr style=\"text-align: right;\">\n",
       "      <th></th>\n",
       "      <th>High</th>\n",
       "    </tr>\n",
       "  </thead>\n",
       "  <tbody>\n",
       "    <tr>\n",
       "      <th>4832698</th>\n",
       "      <td>61781.83</td>\n",
       "    </tr>\n",
       "    <tr>\n",
       "      <th>4832697</th>\n",
       "      <td>61781.80</td>\n",
       "    </tr>\n",
       "    <tr>\n",
       "      <th>4832696</th>\n",
       "      <td>61750.00</td>\n",
       "    </tr>\n",
       "    <tr>\n",
       "      <th>4832699</th>\n",
       "      <td>61747.76</td>\n",
       "    </tr>\n",
       "    <tr>\n",
       "      <th>4832700</th>\n",
       "      <td>61714.48</td>\n",
       "    </tr>\n",
       "    <tr>\n",
       "      <th>...</th>\n",
       "      <td>...</td>\n",
       "    </tr>\n",
       "    <tr>\n",
       "      <th>68291</th>\n",
       "      <td>4.15</td>\n",
       "    </tr>\n",
       "    <tr>\n",
       "      <th>71071</th>\n",
       "      <td>4.14</td>\n",
       "    </tr>\n",
       "    <tr>\n",
       "      <th>71070</th>\n",
       "      <td>4.14</td>\n",
       "    </tr>\n",
       "    <tr>\n",
       "      <th>45313</th>\n",
       "      <td>3.80</td>\n",
       "    </tr>\n",
       "    <tr>\n",
       "      <th>38526</th>\n",
       "      <td>3.80</td>\n",
       "    </tr>\n",
       "  </tbody>\n",
       "</table>\n",
       "<p>3613769 rows × 1 columns</p>\n",
       "</div>"
      ],
      "text/plain": [
       "             High\n",
       "4832698  61781.83\n",
       "4832697  61781.80\n",
       "4832696  61750.00\n",
       "4832699  61747.76\n",
       "4832700  61714.48\n",
       "...           ...\n",
       "68291        4.15\n",
       "71071        4.14\n",
       "71070        4.14\n",
       "45313        3.80\n",
       "38526        3.80\n",
       "\n",
       "[3613769 rows x 1 columns]"
      ]
     },
     "execution_count": 102,
     "metadata": {},
     "output_type": "execute_result"
    }
   ],
   "source": [
    "highest_price_date = df.loc[:, ['High']].sort_values(by='High', ascending=False)\n",
    "highest_price_date"
   ]
  },
  {
   "cell_type": "markdown",
   "metadata": {
    "id": "HlSC9Im0sRM_"
   },
   "source": [
    "d.plotting.register_matplotlib_converters()"
   ]
  },
  {
   "cell_type": "code",
   "execution_count": 103,
   "metadata": {
    "colab": {
     "base_uri": "https://localhost:8080/",
     "height": 386
    },
    "id": "KeDTOWyRpHDL",
    "outputId": "20849ef7-f9bd-4b5f-c67a-211136619d49"
   },
   "outputs": [
    {
     "data": {
      "text/plain": [
       "<seaborn.axisgrid.FacetGrid at 0x163907d9f10>"
      ]
     },
     "execution_count": 103,
     "metadata": {},
     "output_type": "execute_result"
    },
    {
     "data": {
      "image/png": "[encoded data removed]",
      "text/plain": [
       "<Figure size 360x360 with 1 Axes>"
      ]
     },
     "metadata": {
      "needs_background": "light"
     },
     "output_type": "display_data"
    }
   ],
   "source": [
    "var_btc= df['Volume_(BTC)']\n",
    "sns.displot(var_btc[:1000])"
   ]
  },
  {
   "cell_type": "markdown",
   "metadata": {
    "id": "wIjka1yadcUi"
   },
   "source": [
    "#### mathplot grid price vs date"
   ]
  },
  {
   "cell_type": "code",
   "execution_count": 104,
   "metadata": {
    "colab": {
     "base_uri": "https://localhost:8080/",
     "height": 462
    },
    "id": "-2qS-Dn1ZOUt",
    "outputId": "0451be32-01a4-46f3-b994-ce802389f21c"
   },
   "outputs": [
    {
     "data": {
      "image/png": "[encoded data removed]",
      "text/plain": [
       "<Figure size 500x400 with 1 Axes>"
      ]
     },
     "metadata": {
      "needs_background": "light"
     },
     "output_type": "display_data"
    }
   ],
   "source": [
    "fig_pd = plt.figure(figsize=(5,4), dpi=100)\n",
    "axes_pd = fig_pd.add_axes([0.1,0.1,0.9,0.9])\n",
    "\n",
    "axes_pd.plot(df.index, df['Weighted_Price'].astype(int), label = 'Weighted Price')\n",
    "\n",
    "axes_pd.set_xlabel('Date')\n",
    "axes_pd.set_ylabel('Price')\n",
    "axes_pd.set_title('Weighted Price vs Date chart')\n",
    "lines, labels = axes_pd.get_legend_handles_labels()\n",
    "\n",
    "axes_pd.legend(lines, labels, bbox_to_anchor=(1.0, 1.0), loc=0)\n",
    "plt.show()"
   ]
  },
  {
   "cell_type": "code",
   "execution_count": 105,
   "metadata": {
    "colab": {
     "base_uri": "https://localhost:8080/"
    },
    "id": "-cTpVqQ8pHAj",
    "outputId": "89ba1703-d275-4a71-8a71-a02e6b6a252c"
   },
   "outputs": [
    {
     "name": "stderr",
     "output_type": "stream",
     "text": [
      "D:\\anaconda\\lib\\site-packages\\pandas\\core\\generic.py:5494: SettingWithCopyWarning:\n",
      "\n",
      "\n",
      "A value is trying to be set on a copy of a slice from a DataFrame.\n",
      "Try using .loc[row_indexer,col_indexer] = value instead\n",
      "\n",
      "See the caveats in the documentation: https://pandas.pydata.org/pandas-docs/stable/user_guide/indexing.html#returning-a-view-versus-a-copy\n",
      "\n"
     ]
    },
    {
     "data": {
      "text/plain": [
       "4743404    13900672\n",
       "4734151    11629357\n",
       "4794157    11492484\n",
       "4796206    10910999\n",
       "4804951    10633100\n",
       "             ...   \n",
       "910201            0\n",
       "908055            0\n",
       "907646            0\n",
       "835131            0\n",
       "2082919           0\n",
       "Name: Volume_(Currency), Length: 3613769, dtype: int32"
      ]
     },
     "execution_count": 105,
     "metadata": {},
     "output_type": "execute_result"
    }
   ],
   "source": [
    "df.Weighted_Price = df.Weighted_Price.round(2)\n",
    "df['Volume_(Currency)'].sort_values(ascending=False).astype(int)"
   ]
  },
  {
   "cell_type": "markdown",
   "metadata": {},
   "source": [
    "#### average of top 50 prices"
   ]
  },
  {
   "cell_type": "code",
   "execution_count": 106,
   "metadata": {
    "colab": {
     "base_uri": "https://localhost:8080/",
     "height": 497
    },
    "id": "HVnOYIVwpG7u",
    "outputId": "09e57b10-26db-4a73-8664-61869e59d848"
   },
   "outputs": [
    {
     "data": {
      "text/plain": [
       "[<matplotlib.lines.Line2D at 0x16390b58640>]"
      ]
     },
     "execution_count": 106,
     "metadata": {},
     "output_type": "execute_result"
    },
    {
     "data": {
      "image/png": "[encoded data removed]",
      "text/plain": [
       "<Figure size 500x400 with 1 Axes>"
      ]
     },
     "metadata": {
      "needs_background": "light"
     },
     "output_type": "display_data"
    }
   ],
   "source": [
    "fig_avg = plt.figure(figsize=(5,4), dpi=100)\n",
    "axes_avg = fig_avg.add_axes([0.1,0.1,3,1])\n",
    "axes_avg.set_xlabel('Date')\n",
    "axes_avg.set_ylabel('Highest Price')\n",
    "axes_avg.plot(df.index[-50:], df['High'][-50:], color='red')"
   ]
  },
  {
   "cell_type": "code",
   "execution_count": 107,
   "metadata": {
    "colab": {
     "base_uri": "https://localhost:8080/"
    },
    "id": "kzw_7LkZr008",
    "outputId": "a1b21c59-1c7f-42c9-b2ee-503fe4481f64"
   },
   "outputs": [
    {
     "data": {
      "text/plain": [
       "Int64Index([4857325, 4857326, 4857327, 4857328, 4857329, 4857330, 4857331,\n",
       "            4857332, 4857333, 4857334, 4857335, 4857336, 4857337, 4857338,\n",
       "            4857339, 4857341, 4857342, 4857343, 4857344, 4857345, 4857346,\n",
       "            4857347, 4857348, 4857349, 4857350, 4857351, 4857352, 4857353,\n",
       "            4857354, 4857355, 4857356, 4857357, 4857358, 4857359, 4857360,\n",
       "            4857361, 4857362, 4857363, 4857364, 4857365, 4857366, 4857367,\n",
       "            4857369, 4857370, 4857371, 4857372, 4857373, 4857374, 4857375,\n",
       "            4857376],\n",
       "           dtype='int64')"
      ]
     },
     "execution_count": 107,
     "metadata": {},
     "output_type": "execute_result"
    }
   ],
   "source": [
    "df.index[-50:]"
   ]
  },
  {
   "cell_type": "code",
   "execution_count": 108,
   "metadata": {
    "colab": {
     "base_uri": "https://localhost:8080/",
     "height": 450
    },
    "id": "C0_2DdAWXJCy",
    "outputId": "00e48a2a-fc4e-4016-85ef-b4434a35e3c8"
   },
   "outputs": [
    {
     "data": {
      "text/html": [
       "<div>\n",
       "<style scoped>\n",
       "    .dataframe tbody tr th:only-of-type {\n",
       "        vertical-align: middle;\n",
       "    }\n",
       "\n",
       "    .dataframe tbody tr th {\n",
       "        vertical-align: top;\n",
       "    }\n",
       "\n",
       "    .dataframe thead th {\n",
       "        text-align: right;\n",
       "    }\n",
       "</style>\n",
       "<table border=\"1\" class=\"dataframe\">\n",
       "  <thead>\n",
       "    <tr style=\"text-align: right;\">\n",
       "      <th></th>\n",
       "      <th>Date</th>\n",
       "      <th>Open</th>\n",
       "      <th>High</th>\n",
       "      <th>Low</th>\n",
       "      <th>Close</th>\n",
       "      <th>Volume_(BTC)</th>\n",
       "      <th>Volume_(Currency)</th>\n",
       "      <th>Weighted_Price</th>\n",
       "      <th>Year</th>\n",
       "      <th>Month</th>\n",
       "      <th>Day</th>\n",
       "    </tr>\n",
       "  </thead>\n",
       "  <tbody>\n",
       "    <tr>\n",
       "      <th>0</th>\n",
       "      <td>2011-12-31 07:52:00</td>\n",
       "      <td>4.39</td>\n",
       "      <td>4.39</td>\n",
       "      <td>4.39</td>\n",
       "      <td>4.39</td>\n",
       "      <td>0.46</td>\n",
       "      <td>2.00</td>\n",
       "      <td>4.39</td>\n",
       "      <td>2011</td>\n",
       "      <td>12</td>\n",
       "      <td>31</td>\n",
       "    </tr>\n",
       "    <tr>\n",
       "      <th>478</th>\n",
       "      <td>2011-12-31 15:50:00</td>\n",
       "      <td>4.39</td>\n",
       "      <td>4.39</td>\n",
       "      <td>4.39</td>\n",
       "      <td>4.39</td>\n",
       "      <td>48.00</td>\n",
       "      <td>210.72</td>\n",
       "      <td>4.39</td>\n",
       "      <td>2011</td>\n",
       "      <td>12</td>\n",
       "      <td>31</td>\n",
       "    </tr>\n",
       "    <tr>\n",
       "      <th>547</th>\n",
       "      <td>2011-12-31 16:59:00</td>\n",
       "      <td>4.50</td>\n",
       "      <td>4.57</td>\n",
       "      <td>4.50</td>\n",
       "      <td>4.57</td>\n",
       "      <td>37.86</td>\n",
       "      <td>171.38</td>\n",
       "      <td>4.53</td>\n",
       "      <td>2011</td>\n",
       "      <td>12</td>\n",
       "      <td>31</td>\n",
       "    </tr>\n",
       "    <tr>\n",
       "      <th>548</th>\n",
       "      <td>2011-12-31 17:00:00</td>\n",
       "      <td>4.58</td>\n",
       "      <td>4.58</td>\n",
       "      <td>4.58</td>\n",
       "      <td>4.58</td>\n",
       "      <td>9.00</td>\n",
       "      <td>41.22</td>\n",
       "      <td>4.58</td>\n",
       "      <td>2011</td>\n",
       "      <td>12</td>\n",
       "      <td>31</td>\n",
       "    </tr>\n",
       "    <tr>\n",
       "      <th>1224</th>\n",
       "      <td>2012-01-01 04:16:00</td>\n",
       "      <td>4.58</td>\n",
       "      <td>4.58</td>\n",
       "      <td>4.58</td>\n",
       "      <td>4.58</td>\n",
       "      <td>1.50</td>\n",
       "      <td>6.88</td>\n",
       "      <td>4.58</td>\n",
       "      <td>2012</td>\n",
       "      <td>1</td>\n",
       "      <td>1</td>\n",
       "    </tr>\n",
       "    <tr>\n",
       "      <th>...</th>\n",
       "      <td>...</td>\n",
       "      <td>...</td>\n",
       "      <td>...</td>\n",
       "      <td>...</td>\n",
       "      <td>...</td>\n",
       "      <td>...</td>\n",
       "      <td>...</td>\n",
       "      <td>...</td>\n",
       "      <td>...</td>\n",
       "      <td>...</td>\n",
       "      <td>...</td>\n",
       "    </tr>\n",
       "    <tr>\n",
       "      <th>4857372</th>\n",
       "      <td>2021-03-30 23:56:00</td>\n",
       "      <td>58714.31</td>\n",
       "      <td>58714.31</td>\n",
       "      <td>58686.00</td>\n",
       "      <td>58686.00</td>\n",
       "      <td>1.38</td>\n",
       "      <td>81259.37</td>\n",
       "      <td>58692.75</td>\n",
       "      <td>2021</td>\n",
       "      <td>3</td>\n",
       "      <td>30</td>\n",
       "    </tr>\n",
       "    <tr>\n",
       "      <th>4857373</th>\n",
       "      <td>2021-03-30 23:57:00</td>\n",
       "      <td>58683.97</td>\n",
       "      <td>58693.43</td>\n",
       "      <td>58683.97</td>\n",
       "      <td>58685.81</td>\n",
       "      <td>7.29</td>\n",
       "      <td>428158.15</td>\n",
       "      <td>58693.23</td>\n",
       "      <td>2021</td>\n",
       "      <td>3</td>\n",
       "      <td>30</td>\n",
       "    </tr>\n",
       "    <tr>\n",
       "      <th>4857374</th>\n",
       "      <td>2021-03-30 23:58:00</td>\n",
       "      <td>58693.43</td>\n",
       "      <td>58723.84</td>\n",
       "      <td>58693.43</td>\n",
       "      <td>58723.84</td>\n",
       "      <td>1.71</td>\n",
       "      <td>100117.07</td>\n",
       "      <td>58696.20</td>\n",
       "      <td>2021</td>\n",
       "      <td>3</td>\n",
       "      <td>30</td>\n",
       "    </tr>\n",
       "    <tr>\n",
       "      <th>4857375</th>\n",
       "      <td>2021-03-30 23:59:00</td>\n",
       "      <td>58742.18</td>\n",
       "      <td>58770.38</td>\n",
       "      <td>58742.18</td>\n",
       "      <td>58760.59</td>\n",
       "      <td>0.72</td>\n",
       "      <td>42332.96</td>\n",
       "      <td>58761.87</td>\n",
       "      <td>2021</td>\n",
       "      <td>3</td>\n",
       "      <td>30</td>\n",
       "    </tr>\n",
       "    <tr>\n",
       "      <th>4857376</th>\n",
       "      <td>2021-03-31 00:00:00</td>\n",
       "      <td>58767.75</td>\n",
       "      <td>58778.18</td>\n",
       "      <td>58755.97</td>\n",
       "      <td>58778.18</td>\n",
       "      <td>2.71</td>\n",
       "      <td>159417.75</td>\n",
       "      <td>58764.35</td>\n",
       "      <td>2021</td>\n",
       "      <td>3</td>\n",
       "      <td>31</td>\n",
       "    </tr>\n",
       "  </tbody>\n",
       "</table>\n",
       "<p>3613769 rows × 11 columns</p>\n",
       "</div>"
      ],
      "text/plain": [
       "                       Date      Open      High       Low     Close  \\\n",
       "0       2011-12-31 07:52:00      4.39      4.39      4.39      4.39   \n",
       "478     2011-12-31 15:50:00      4.39      4.39      4.39      4.39   \n",
       "547     2011-12-31 16:59:00      4.50      4.57      4.50      4.57   \n",
       "548     2011-12-31 17:00:00      4.58      4.58      4.58      4.58   \n",
       "1224    2012-01-01 04:16:00      4.58      4.58      4.58      4.58   \n",
       "...                     ...       ...       ...       ...       ...   \n",
       "4857372 2021-03-30 23:56:00  58714.31  58714.31  58686.00  58686.00   \n",
       "4857373 2021-03-30 23:57:00  58683.97  58693.43  58683.97  58685.81   \n",
       "4857374 2021-03-30 23:58:00  58693.43  58723.84  58693.43  58723.84   \n",
       "4857375 2021-03-30 23:59:00  58742.18  58770.38  58742.18  58760.59   \n",
       "4857376 2021-03-31 00:00:00  58767.75  58778.18  58755.97  58778.18   \n",
       "\n",
       "         Volume_(BTC)  Volume_(Currency)  Weighted_Price  Year  Month  Day  \n",
       "0                0.46               2.00            4.39  2011     12   31  \n",
       "478             48.00             210.72            4.39  2011     12   31  \n",
       "547             37.86             171.38            4.53  2011     12   31  \n",
       "548              9.00              41.22            4.58  2011     12   31  \n",
       "1224             1.50               6.88            4.58  2012      1    1  \n",
       "...               ...                ...             ...   ...    ...  ...  \n",
       "4857372          1.38           81259.37        58692.75  2021      3   30  \n",
       "4857373          7.29          428158.15        58693.23  2021      3   30  \n",
       "4857374          1.71          100117.07        58696.20  2021      3   30  \n",
       "4857375          0.72           42332.96        58761.87  2021      3   30  \n",
       "4857376          2.71          159417.75        58764.35  2021      3   31  \n",
       "\n",
       "[3613769 rows x 11 columns]"
      ]
     },
     "execution_count": 108,
     "metadata": {},
     "output_type": "execute_result"
    }
   ],
   "source": [
    "df"
   ]
  },
  {
   "cell_type": "markdown",
   "metadata": {
    "id": "MTU-YpNqV9AA"
   },
   "source": [
    "#### chart price vs volume"
   ]
  },
  {
   "cell_type": "code",
   "execution_count": 109,
   "metadata": {
    "colab": {
     "base_uri": "https://localhost:8080/",
     "height": 295
    },
    "id": "_1fqb_RQttAz",
    "outputId": "a3560c32-1382-4708-c0a4-7a2bda0479bc"
   },
   "outputs": [
    {
     "data": {
      "image/png": "[encoded data removed]",
      "text/plain": [
       "<Figure size 432x288 with 2 Axes>"
      ]
     },
     "metadata": {
      "needs_background": "light"
     },
     "output_type": "display_data"
    }
   ],
   "source": [
    "fig = plt.figure()\n",
    "ax= fig.add_subplot()\n",
    "ax2=ax.twinx()\n",
    "\n",
    "ax.plot(df.index, df['Weighted_Price'], color='red', label='Weighted Price')\n",
    "ax2.plot(df.index, df['Volume_(BTC)'], 'g-', label='Volume BTC', alpha=0.45)\n",
    "ax.set_xlabel('Date')\n",
    "ax.set_ylabel('Weighted Price')\n",
    "ax.set_title('Weighted Price vs Volume BTC')\n",
    "ax2.set_xlabel('')\n",
    "ax2.set_ylabel('Volume BTC')\n",
    "\n",
    "lines, labels = ax.get_legend_handles_labels()\n",
    "lines2, labels2 = ax2.get_legend_handles_labels()\n",
    "\n",
    "ax.legend(lines + lines2, labels + labels2, bbox_to_anchor=(1.1, 1.0), loc=0)\n",
    "ax.grid()\n",
    "plt.show()"
   ]
  },
  {
   "cell_type": "markdown",
   "metadata": {
    "id": "ZMCIv3QTajhr"
   },
   "source": [
    "weekly resample"
   ]
  }
 ],
 "metadata": {
  "colab": {
   "collapsed_sections": [],
   "name": "Bitcoin Historical Data Analysis.ipynb",
   "provenance": []
  },
  "kernelspec": {
   "display_name": "Python 3",
   "language": "python",
   "name": "python3"
  },
  "language_info": {
   "codemirror_mode": {
    "name": "ipython",
    "version": 3
   },
   "file_extension": ".py",
   "mimetype": "text/x-python",
   "name": "python",
   "nbconvert_exporter": "python",
   "pygments_lexer": "ipython3",
   "version": "3.8.8"
  }
 },
 "nbformat": 4,
 "nbformat_minor": 1
}

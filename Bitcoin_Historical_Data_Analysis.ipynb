{
  "nbformat": 4,
  "nbformat_minor": 0,
  "metadata": {
    "colab": {
      "name": "Bitcoin Historical Data Analysis.ipynb",
      "provenance": [],
      "collapsed_sections": []
    },
    "kernelspec": {
      "name": "python3",
      "display_name": "Python 3"
    },
    "language_info": {
      "name": "python"
    }
  },
  "cells": [
    {
      "cell_type": "markdown",
      "metadata": {
        "id": "ea62DKx-mSgT"
      },
      "source": [
        "# BItcoin Historical Data Analysis\n",
        "\n",
        "### TODO - Analizirati podatke, napraviti grafove \n",
        "### O datasetu\n",
        "####   - Izvor Kaggle\n",
        "####   - Sadrzi istorijske podate bitcoina\n",
        "####   - Moze se koristiti za uvid istorijskih cena bitcoina"
      ]
    },
    {
      "cell_type": "markdown",
      "metadata": {
        "id": "c08eX5nRoR-M"
      },
      "source": [
        "### Preuzimanje podataka s kaggle sajta"
      ]
    },
    {
      "cell_type": "markdown",
      "metadata": {
        "id": "5A4bl7N8sb3J"
      },
      "source": [
        "### O podacima u tabeli - https://www.kaggle.com/mczielinski/bitcoin-historical-data\n",
        "  - Timestamp - Start time of time window (60s window), in Unix time\n",
        "  - Open - Open price at start time window\n",
        "  - High - High price within time window\n",
        "  - Low - Low price within time window\n",
        "  - Close - Close price at end of time window\n",
        "  - Volume_(BTC) - Volume of BTC transacted in this window\n",
        "  - Volume_(Currency) - Volume of corresponding currency transacted in this window\n",
        "  - Weighted_Price - VWAP- Volume Weighted Average Price"
      ]
    },
    {
      "cell_type": "code",
      "metadata": {
        "id": "GSj8bFDcohxR"
      },
      "source": [
        "pip install opendatasets --upgrade --quiet"
      ],
      "execution_count": 1,
      "outputs": []
    },
    {
      "cell_type": "code",
      "metadata": {
        "colab": {
          "base_uri": "https://localhost:8080/"
        },
        "id": "SI4xmi8FmSSe",
        "outputId": "38cbb6e5-023e-478f-83db-89fce6a45a0d"
      },
      "source": [
        "import opendatasets as od\n",
        "\n",
        "download_url='https://www.kaggle.com/mczielinski/bitcoin-historical-data'\n",
        "od.download(download_url)"
      ],
      "execution_count": 2,
      "outputs": [
        {
          "output_type": "stream",
          "name": "stdout",
          "text": [
            "Please provide your Kaggle credentials to download this dataset. Learn more: http://bit.ly/kaggle-creds\n",
            "Your Kaggle username: salexdxd\n",
            "Your Kaggle Key: ··········\n",
            "Downloading bitcoin-historical-data.zip to ./bitcoin-historical-data\n"
          ]
        },
        {
          "output_type": "stream",
          "name": "stderr",
          "text": [
            "100%|██████████| 100M/100M [00:00<00:00, 113MB/s] \n"
          ]
        },
        {
          "output_type": "stream",
          "name": "stdout",
          "text": [
            "\n"
          ]
        }
      ]
    },
    {
      "cell_type": "code",
      "metadata": {
        "id": "DEMi6wBtmSQV"
      },
      "source": [
        "data_filename = './bitcoin-historical-data/bitstampUSD_1-min_data_2012-01-01_to_2021-03-31.csv'"
      ],
      "execution_count": 3,
      "outputs": []
    },
    {
      "cell_type": "markdown",
      "metadata": {
        "id": "E0Puwf7EpH18"
      },
      "source": [
        "###Pripremanje podataka i ciscenje"
      ]
    },
    {
      "cell_type": "code",
      "metadata": {
        "id": "dH7WRY1ZmSOI"
      },
      "source": [
        "import pandas as pd"
      ],
      "execution_count": 4,
      "outputs": []
    },
    {
      "cell_type": "code",
      "metadata": {
        "id": "j7lPjTEFDU1K"
      },
      "source": [
        "df = pd.read_csv(data_filename)"
      ],
      "execution_count": 5,
      "outputs": []
    },
    {
      "cell_type": "code",
      "metadata": {
        "colab": {
          "base_uri": "https://localhost:8080/",
          "height": 419
        },
        "id": "GtGhtvUimSLx",
        "outputId": "643416f1-19eb-4923-aa8f-13cc41f6e932"
      },
      "source": [
        "df"
      ],
      "execution_count": 6,
      "outputs": [
        {
          "output_type": "execute_result",
          "data": {
            "text/html": [
              "<div>\n",
              "<style scoped>\n",
              "    .dataframe tbody tr th:only-of-type {\n",
              "        vertical-align: middle;\n",
              "    }\n",
              "\n",
              "    .dataframe tbody tr th {\n",
              "        vertical-align: top;\n",
              "    }\n",
              "\n",
              "    .dataframe thead th {\n",
              "        text-align: right;\n",
              "    }\n",
              "</style>\n",
              "<table border=\"1\" class=\"dataframe\">\n",
              "  <thead>\n",
              "    <tr style=\"text-align: right;\">\n",
              "      <th></th>\n",
              "      <th>Timestamp</th>\n",
              "      <th>Open</th>\n",
              "      <th>High</th>\n",
              "      <th>Low</th>\n",
              "      <th>Close</th>\n",
              "      <th>Volume_(BTC)</th>\n",
              "      <th>Volume_(Currency)</th>\n",
              "      <th>Weighted_Price</th>\n",
              "    </tr>\n",
              "  </thead>\n",
              "  <tbody>\n",
              "    <tr>\n",
              "      <th>0</th>\n",
              "      <td>1325317920</td>\n",
              "      <td>4.39</td>\n",
              "      <td>4.39</td>\n",
              "      <td>4.39</td>\n",
              "      <td>4.39</td>\n",
              "      <td>0.455581</td>\n",
              "      <td>2.000000</td>\n",
              "      <td>4.390000</td>\n",
              "    </tr>\n",
              "    <tr>\n",
              "      <th>1</th>\n",
              "      <td>1325317980</td>\n",
              "      <td>NaN</td>\n",
              "      <td>NaN</td>\n",
              "      <td>NaN</td>\n",
              "      <td>NaN</td>\n",
              "      <td>NaN</td>\n",
              "      <td>NaN</td>\n",
              "      <td>NaN</td>\n",
              "    </tr>\n",
              "    <tr>\n",
              "      <th>2</th>\n",
              "      <td>1325318040</td>\n",
              "      <td>NaN</td>\n",
              "      <td>NaN</td>\n",
              "      <td>NaN</td>\n",
              "      <td>NaN</td>\n",
              "      <td>NaN</td>\n",
              "      <td>NaN</td>\n",
              "      <td>NaN</td>\n",
              "    </tr>\n",
              "    <tr>\n",
              "      <th>3</th>\n",
              "      <td>1325318100</td>\n",
              "      <td>NaN</td>\n",
              "      <td>NaN</td>\n",
              "      <td>NaN</td>\n",
              "      <td>NaN</td>\n",
              "      <td>NaN</td>\n",
              "      <td>NaN</td>\n",
              "      <td>NaN</td>\n",
              "    </tr>\n",
              "    <tr>\n",
              "      <th>4</th>\n",
              "      <td>1325318160</td>\n",
              "      <td>NaN</td>\n",
              "      <td>NaN</td>\n",
              "      <td>NaN</td>\n",
              "      <td>NaN</td>\n",
              "      <td>NaN</td>\n",
              "      <td>NaN</td>\n",
              "      <td>NaN</td>\n",
              "    </tr>\n",
              "    <tr>\n",
              "      <th>...</th>\n",
              "      <td>...</td>\n",
              "      <td>...</td>\n",
              "      <td>...</td>\n",
              "      <td>...</td>\n",
              "      <td>...</td>\n",
              "      <td>...</td>\n",
              "      <td>...</td>\n",
              "      <td>...</td>\n",
              "    </tr>\n",
              "    <tr>\n",
              "      <th>4857372</th>\n",
              "      <td>1617148560</td>\n",
              "      <td>58714.31</td>\n",
              "      <td>58714.31</td>\n",
              "      <td>58686.00</td>\n",
              "      <td>58686.00</td>\n",
              "      <td>1.384487</td>\n",
              "      <td>81259.372187</td>\n",
              "      <td>58692.753339</td>\n",
              "    </tr>\n",
              "    <tr>\n",
              "      <th>4857373</th>\n",
              "      <td>1617148620</td>\n",
              "      <td>58683.97</td>\n",
              "      <td>58693.43</td>\n",
              "      <td>58683.97</td>\n",
              "      <td>58685.81</td>\n",
              "      <td>7.294848</td>\n",
              "      <td>428158.146640</td>\n",
              "      <td>58693.226508</td>\n",
              "    </tr>\n",
              "    <tr>\n",
              "      <th>4857374</th>\n",
              "      <td>1617148680</td>\n",
              "      <td>58693.43</td>\n",
              "      <td>58723.84</td>\n",
              "      <td>58693.43</td>\n",
              "      <td>58723.84</td>\n",
              "      <td>1.705682</td>\n",
              "      <td>100117.070370</td>\n",
              "      <td>58696.198496</td>\n",
              "    </tr>\n",
              "    <tr>\n",
              "      <th>4857375</th>\n",
              "      <td>1617148740</td>\n",
              "      <td>58742.18</td>\n",
              "      <td>58770.38</td>\n",
              "      <td>58742.18</td>\n",
              "      <td>58760.59</td>\n",
              "      <td>0.720415</td>\n",
              "      <td>42332.958633</td>\n",
              "      <td>58761.866202</td>\n",
              "    </tr>\n",
              "    <tr>\n",
              "      <th>4857376</th>\n",
              "      <td>1617148800</td>\n",
              "      <td>58767.75</td>\n",
              "      <td>58778.18</td>\n",
              "      <td>58755.97</td>\n",
              "      <td>58778.18</td>\n",
              "      <td>2.712831</td>\n",
              "      <td>159417.751000</td>\n",
              "      <td>58764.349363</td>\n",
              "    </tr>\n",
              "  </tbody>\n",
              "</table>\n",
              "<p>4857377 rows × 8 columns</p>\n",
              "</div>"
            ],
            "text/plain": [
              "          Timestamp      Open  ...  Volume_(Currency)  Weighted_Price\n",
              "0        1325317920      4.39  ...           2.000000        4.390000\n",
              "1        1325317980       NaN  ...                NaN             NaN\n",
              "2        1325318040       NaN  ...                NaN             NaN\n",
              "3        1325318100       NaN  ...                NaN             NaN\n",
              "4        1325318160       NaN  ...                NaN             NaN\n",
              "...             ...       ...  ...                ...             ...\n",
              "4857372  1617148560  58714.31  ...       81259.372187    58692.753339\n",
              "4857373  1617148620  58683.97  ...      428158.146640    58693.226508\n",
              "4857374  1617148680  58693.43  ...      100117.070370    58696.198496\n",
              "4857375  1617148740  58742.18  ...       42332.958633    58761.866202\n",
              "4857376  1617148800  58767.75  ...      159417.751000    58764.349363\n",
              "\n",
              "[4857377 rows x 8 columns]"
            ]
          },
          "metadata": {},
          "execution_count": 6
        }
      ]
    },
    {
      "cell_type": "markdown",
      "metadata": {
        "id": "jmmsO1x_tWKC"
      },
      "source": [
        "Broj podataka koji nedostaju"
      ]
    },
    {
      "cell_type": "code",
      "metadata": {
        "id": "HRDBhLllmSJU"
      },
      "source": [
        "missing_value_percentages = df.isna().sum().sort_values(ascending=False) / len(df)\n",
        "miss = missing_value_percentages[missing_value_percentages != 0]"
      ],
      "execution_count": 7,
      "outputs": []
    },
    {
      "cell_type": "markdown",
      "metadata": {
        "id": "AV5orD63Vj9f"
      },
      "source": [
        "Nedostaje >25% podataka"
      ]
    },
    {
      "cell_type": "code",
      "metadata": {
        "colab": {
          "base_uri": "https://localhost:8080/"
        },
        "id": "IPUi7BVfr8Y3",
        "outputId": "46481546-8220-4796-d39e-1a72a3f74963"
      },
      "source": [
        "missing_value_percentages"
      ],
      "execution_count": 8,
      "outputs": [
        {
          "output_type": "execute_result",
          "data": {
            "text/plain": [
              "Weighted_Price       0.256025\n",
              "Volume_(Currency)    0.256025\n",
              "Volume_(BTC)         0.256025\n",
              "Close                0.256025\n",
              "Low                  0.256025\n",
              "High                 0.256025\n",
              "Open                 0.256025\n",
              "Timestamp            0.000000\n",
              "dtype: float64"
            ]
          },
          "metadata": {},
          "execution_count": 8
        }
      ]
    },
    {
      "cell_type": "code",
      "metadata": {
        "colab": {
          "base_uri": "https://localhost:8080/"
        },
        "id": "BtZvfGkftx3o",
        "outputId": "1d639f3f-58fa-42c0-a129-aad6836d629e"
      },
      "source": [
        "miss"
      ],
      "execution_count": 9,
      "outputs": [
        {
          "output_type": "execute_result",
          "data": {
            "text/plain": [
              "Weighted_Price       0.256025\n",
              "Volume_(Currency)    0.256025\n",
              "Volume_(BTC)         0.256025\n",
              "Close                0.256025\n",
              "Low                  0.256025\n",
              "High                 0.256025\n",
              "Open                 0.256025\n",
              "dtype: float64"
            ]
          },
          "metadata": {},
          "execution_count": 9
        }
      ]
    },
    {
      "cell_type": "code",
      "metadata": {
        "colab": {
          "base_uri": "https://localhost:8080/",
          "height": 282
        },
        "id": "txjoNYpbtx1Q",
        "outputId": "17f3d737-c1de-4a90-8e87-f3270b36c1ee"
      },
      "source": [
        "miss.plot(kind='barh')"
      ],
      "execution_count": 10,
      "outputs": [
        {
          "output_type": "execute_result",
          "data": {
            "text/plain": [
              "<matplotlib.axes._subplots.AxesSubplot at 0x7ff829a57e50>"
            ]
          },
          "metadata": {},
          "execution_count": 10
        },
        {
          "output_type": "display_data",
          "data": {
            "image/png": "[encoded data removed]",
            "text/plain": [
              "<Figure size 432x288 with 1 Axes>"
            ]
          },
          "metadata": {
            "needs_background": "light"
          }
        }
      ]
    },
    {
      "cell_type": "code",
      "metadata": {
        "id": "0WobceN4txy8",
        "colab": {
          "base_uri": "https://localhost:8080/"
        },
        "outputId": "9b763e48-e112-4d93-ec3d-14a66e91975a"
      },
      "source": [
        "checknan = df.isnull().values.any()\n",
        "checknan"
      ],
      "execution_count": 11,
      "outputs": [
        {
          "output_type": "execute_result",
          "data": {
            "text/plain": [
              "True"
            ]
          },
          "metadata": {},
          "execution_count": 11
        }
      ]
    },
    {
      "cell_type": "code",
      "metadata": {
        "colab": {
          "base_uri": "https://localhost:8080/",
          "height": 419
        },
        "id": "Luet5nRotxxK",
        "outputId": "13d402ca-4cd0-4c93-924f-3ba673c2c560"
      },
      "source": [
        "df_fix = df.dropna(how='any')\n",
        "df_fix"
      ],
      "execution_count": 12,
      "outputs": [
        {
          "output_type": "execute_result",
          "data": {
            "text/html": [
              "<div>\n",
              "<style scoped>\n",
              "    .dataframe tbody tr th:only-of-type {\n",
              "        vertical-align: middle;\n",
              "    }\n",
              "\n",
              "    .dataframe tbody tr th {\n",
              "        vertical-align: top;\n",
              "    }\n",
              "\n",
              "    .dataframe thead th {\n",
              "        text-align: right;\n",
              "    }\n",
              "</style>\n",
              "<table border=\"1\" class=\"dataframe\">\n",
              "  <thead>\n",
              "    <tr style=\"text-align: right;\">\n",
              "      <th></th>\n",
              "      <th>Timestamp</th>\n",
              "      <th>Open</th>\n",
              "      <th>High</th>\n",
              "      <th>Low</th>\n",
              "      <th>Close</th>\n",
              "      <th>Volume_(BTC)</th>\n",
              "      <th>Volume_(Currency)</th>\n",
              "      <th>Weighted_Price</th>\n",
              "    </tr>\n",
              "  </thead>\n",
              "  <tbody>\n",
              "    <tr>\n",
              "      <th>0</th>\n",
              "      <td>1325317920</td>\n",
              "      <td>4.39</td>\n",
              "      <td>4.39</td>\n",
              "      <td>4.39</td>\n",
              "      <td>4.39</td>\n",
              "      <td>0.455581</td>\n",
              "      <td>2.000000</td>\n",
              "      <td>4.390000</td>\n",
              "    </tr>\n",
              "    <tr>\n",
              "      <th>478</th>\n",
              "      <td>1325346600</td>\n",
              "      <td>4.39</td>\n",
              "      <td>4.39</td>\n",
              "      <td>4.39</td>\n",
              "      <td>4.39</td>\n",
              "      <td>48.000000</td>\n",
              "      <td>210.720000</td>\n",
              "      <td>4.390000</td>\n",
              "    </tr>\n",
              "    <tr>\n",
              "      <th>547</th>\n",
              "      <td>1325350740</td>\n",
              "      <td>4.50</td>\n",
              "      <td>4.57</td>\n",
              "      <td>4.50</td>\n",
              "      <td>4.57</td>\n",
              "      <td>37.862297</td>\n",
              "      <td>171.380338</td>\n",
              "      <td>4.526411</td>\n",
              "    </tr>\n",
              "    <tr>\n",
              "      <th>548</th>\n",
              "      <td>1325350800</td>\n",
              "      <td>4.58</td>\n",
              "      <td>4.58</td>\n",
              "      <td>4.58</td>\n",
              "      <td>4.58</td>\n",
              "      <td>9.000000</td>\n",
              "      <td>41.220000</td>\n",
              "      <td>4.580000</td>\n",
              "    </tr>\n",
              "    <tr>\n",
              "      <th>1224</th>\n",
              "      <td>1325391360</td>\n",
              "      <td>4.58</td>\n",
              "      <td>4.58</td>\n",
              "      <td>4.58</td>\n",
              "      <td>4.58</td>\n",
              "      <td>1.502000</td>\n",
              "      <td>6.879160</td>\n",
              "      <td>4.580000</td>\n",
              "    </tr>\n",
              "    <tr>\n",
              "      <th>...</th>\n",
              "      <td>...</td>\n",
              "      <td>...</td>\n",
              "      <td>...</td>\n",
              "      <td>...</td>\n",
              "      <td>...</td>\n",
              "      <td>...</td>\n",
              "      <td>...</td>\n",
              "      <td>...</td>\n",
              "    </tr>\n",
              "    <tr>\n",
              "      <th>4857372</th>\n",
              "      <td>1617148560</td>\n",
              "      <td>58714.31</td>\n",
              "      <td>58714.31</td>\n",
              "      <td>58686.00</td>\n",
              "      <td>58686.00</td>\n",
              "      <td>1.384487</td>\n",
              "      <td>81259.372187</td>\n",
              "      <td>58692.753339</td>\n",
              "    </tr>\n",
              "    <tr>\n",
              "      <th>4857373</th>\n",
              "      <td>1617148620</td>\n",
              "      <td>58683.97</td>\n",
              "      <td>58693.43</td>\n",
              "      <td>58683.97</td>\n",
              "      <td>58685.81</td>\n",
              "      <td>7.294848</td>\n",
              "      <td>428158.146640</td>\n",
              "      <td>58693.226508</td>\n",
              "    </tr>\n",
              "    <tr>\n",
              "      <th>4857374</th>\n",
              "      <td>1617148680</td>\n",
              "      <td>58693.43</td>\n",
              "      <td>58723.84</td>\n",
              "      <td>58693.43</td>\n",
              "      <td>58723.84</td>\n",
              "      <td>1.705682</td>\n",
              "      <td>100117.070370</td>\n",
              "      <td>58696.198496</td>\n",
              "    </tr>\n",
              "    <tr>\n",
              "      <th>4857375</th>\n",
              "      <td>1617148740</td>\n",
              "      <td>58742.18</td>\n",
              "      <td>58770.38</td>\n",
              "      <td>58742.18</td>\n",
              "      <td>58760.59</td>\n",
              "      <td>0.720415</td>\n",
              "      <td>42332.958633</td>\n",
              "      <td>58761.866202</td>\n",
              "    </tr>\n",
              "    <tr>\n",
              "      <th>4857376</th>\n",
              "      <td>1617148800</td>\n",
              "      <td>58767.75</td>\n",
              "      <td>58778.18</td>\n",
              "      <td>58755.97</td>\n",
              "      <td>58778.18</td>\n",
              "      <td>2.712831</td>\n",
              "      <td>159417.751000</td>\n",
              "      <td>58764.349363</td>\n",
              "    </tr>\n",
              "  </tbody>\n",
              "</table>\n",
              "<p>3613769 rows × 8 columns</p>\n",
              "</div>"
            ],
            "text/plain": [
              "          Timestamp      Open  ...  Volume_(Currency)  Weighted_Price\n",
              "0        1325317920      4.39  ...           2.000000        4.390000\n",
              "478      1325346600      4.39  ...         210.720000        4.390000\n",
              "547      1325350740      4.50  ...         171.380338        4.526411\n",
              "548      1325350800      4.58  ...          41.220000        4.580000\n",
              "1224     1325391360      4.58  ...           6.879160        4.580000\n",
              "...             ...       ...  ...                ...             ...\n",
              "4857372  1617148560  58714.31  ...       81259.372187    58692.753339\n",
              "4857373  1617148620  58683.97  ...      428158.146640    58693.226508\n",
              "4857374  1617148680  58693.43  ...      100117.070370    58696.198496\n",
              "4857375  1617148740  58742.18  ...       42332.958633    58761.866202\n",
              "4857376  1617148800  58767.75  ...      159417.751000    58764.349363\n",
              "\n",
              "[3613769 rows x 8 columns]"
            ]
          },
          "metadata": {},
          "execution_count": 12
        }
      ]
    },
    {
      "cell_type": "code",
      "metadata": {
        "colab": {
          "base_uri": "https://localhost:8080/"
        },
        "id": "RGiKOS3PwUZo",
        "outputId": "daf05acc-cedf-4d5f-88dc-8013422ef937"
      },
      "source": [
        "checknan2 = df_fix.Timestamp.isna().values.any()\n",
        "checknan2"
      ],
      "execution_count": 13,
      "outputs": [
        {
          "output_type": "execute_result",
          "data": {
            "text/plain": [
              "False"
            ]
          },
          "metadata": {},
          "execution_count": 13
        }
      ]
    },
    {
      "cell_type": "code",
      "metadata": {
        "colab": {
          "base_uri": "https://localhost:8080/"
        },
        "id": "uC3LVLRB7OWY",
        "outputId": "4416f0eb-db4b-49a8-8d77-30d0348f3c00"
      },
      "source": [
        "len(df_fix.High)"
      ],
      "execution_count": 14,
      "outputs": [
        {
          "output_type": "execute_result",
          "data": {
            "text/plain": [
              "3613769"
            ]
          },
          "metadata": {},
          "execution_count": 14
        }
      ]
    },
    {
      "cell_type": "code",
      "metadata": {
        "id": "01_C98GFz7p5"
      },
      "source": [
        "from datetime import datetime as dt"
      ],
      "execution_count": 15,
      "outputs": []
    },
    {
      "cell_type": "code",
      "metadata": {
        "id": "RdI2YzzfwsmY"
      },
      "source": [
        "import matplotlib.pyplot as plt"
      ],
      "execution_count": 16,
      "outputs": []
    },
    {
      "cell_type": "code",
      "metadata": {
        "id": "I_40DHbpwski"
      },
      "source": [
        "import numpy as np"
      ],
      "execution_count": 17,
      "outputs": []
    },
    {
      "cell_type": "code",
      "metadata": {
        "colab": {
          "base_uri": "https://localhost:8080/",
          "height": 521
        },
        "id": "7Iu1QQQ0z_iR",
        "outputId": "1fd4d5f8-9175-4e4a-ec3d-5d668cc7ed32"
      },
      "source": [
        "df_date = pd.to_datetime(df_fix.Timestamp, unit='s').dt.date\n",
        "df_date = df_date[df_date != 0]\n",
        "df_fix.Timestamp = df_date\n",
        "df_fix"
      ],
      "execution_count": 18,
      "outputs": [
        {
          "output_type": "stream",
          "name": "stderr",
          "text": [
            "/usr/local/lib/python3.7/dist-packages/pandas/core/generic.py:5170: SettingWithCopyWarning: \n",
            "A value is trying to be set on a copy of a slice from a DataFrame.\n",
            "Try using .loc[row_indexer,col_indexer] = value instead\n",
            "\n",
            "See the caveats in the documentation: https://pandas.pydata.org/pandas-docs/stable/user_guide/indexing.html#returning-a-view-versus-a-copy\n",
            "  self[name] = value\n"
          ]
        },
        {
          "output_type": "execute_result",
          "data": {
            "text/html": [
              "<div>\n",
              "<style scoped>\n",
              "    .dataframe tbody tr th:only-of-type {\n",
              "        vertical-align: middle;\n",
              "    }\n",
              "\n",
              "    .dataframe tbody tr th {\n",
              "        vertical-align: top;\n",
              "    }\n",
              "\n",
              "    .dataframe thead th {\n",
              "        text-align: right;\n",
              "    }\n",
              "</style>\n",
              "<table border=\"1\" class=\"dataframe\">\n",
              "  <thead>\n",
              "    <tr style=\"text-align: right;\">\n",
              "      <th></th>\n",
              "      <th>Timestamp</th>\n",
              "      <th>Open</th>\n",
              "      <th>High</th>\n",
              "      <th>Low</th>\n",
              "      <th>Close</th>\n",
              "      <th>Volume_(BTC)</th>\n",
              "      <th>Volume_(Currency)</th>\n",
              "      <th>Weighted_Price</th>\n",
              "    </tr>\n",
              "  </thead>\n",
              "  <tbody>\n",
              "    <tr>\n",
              "      <th>0</th>\n",
              "      <td>2011-12-31</td>\n",
              "      <td>4.39</td>\n",
              "      <td>4.39</td>\n",
              "      <td>4.39</td>\n",
              "      <td>4.39</td>\n",
              "      <td>0.455581</td>\n",
              "      <td>2.000000</td>\n",
              "      <td>4.390000</td>\n",
              "    </tr>\n",
              "    <tr>\n",
              "      <th>478</th>\n",
              "      <td>2011-12-31</td>\n",
              "      <td>4.39</td>\n",
              "      <td>4.39</td>\n",
              "      <td>4.39</td>\n",
              "      <td>4.39</td>\n",
              "      <td>48.000000</td>\n",
              "      <td>210.720000</td>\n",
              "      <td>4.390000</td>\n",
              "    </tr>\n",
              "    <tr>\n",
              "      <th>547</th>\n",
              "      <td>2011-12-31</td>\n",
              "      <td>4.50</td>\n",
              "      <td>4.57</td>\n",
              "      <td>4.50</td>\n",
              "      <td>4.57</td>\n",
              "      <td>37.862297</td>\n",
              "      <td>171.380338</td>\n",
              "      <td>4.526411</td>\n",
              "    </tr>\n",
              "    <tr>\n",
              "      <th>548</th>\n",
              "      <td>2011-12-31</td>\n",
              "      <td>4.58</td>\n",
              "      <td>4.58</td>\n",
              "      <td>4.58</td>\n",
              "      <td>4.58</td>\n",
              "      <td>9.000000</td>\n",
              "      <td>41.220000</td>\n",
              "      <td>4.580000</td>\n",
              "    </tr>\n",
              "    <tr>\n",
              "      <th>1224</th>\n",
              "      <td>2012-01-01</td>\n",
              "      <td>4.58</td>\n",
              "      <td>4.58</td>\n",
              "      <td>4.58</td>\n",
              "      <td>4.58</td>\n",
              "      <td>1.502000</td>\n",
              "      <td>6.879160</td>\n",
              "      <td>4.580000</td>\n",
              "    </tr>\n",
              "    <tr>\n",
              "      <th>...</th>\n",
              "      <td>...</td>\n",
              "      <td>...</td>\n",
              "      <td>...</td>\n",
              "      <td>...</td>\n",
              "      <td>...</td>\n",
              "      <td>...</td>\n",
              "      <td>...</td>\n",
              "      <td>...</td>\n",
              "    </tr>\n",
              "    <tr>\n",
              "      <th>4857372</th>\n",
              "      <td>2021-03-30</td>\n",
              "      <td>58714.31</td>\n",
              "      <td>58714.31</td>\n",
              "      <td>58686.00</td>\n",
              "      <td>58686.00</td>\n",
              "      <td>1.384487</td>\n",
              "      <td>81259.372187</td>\n",
              "      <td>58692.753339</td>\n",
              "    </tr>\n",
              "    <tr>\n",
              "      <th>4857373</th>\n",
              "      <td>2021-03-30</td>\n",
              "      <td>58683.97</td>\n",
              "      <td>58693.43</td>\n",
              "      <td>58683.97</td>\n",
              "      <td>58685.81</td>\n",
              "      <td>7.294848</td>\n",
              "      <td>428158.146640</td>\n",
              "      <td>58693.226508</td>\n",
              "    </tr>\n",
              "    <tr>\n",
              "      <th>4857374</th>\n",
              "      <td>2021-03-30</td>\n",
              "      <td>58693.43</td>\n",
              "      <td>58723.84</td>\n",
              "      <td>58693.43</td>\n",
              "      <td>58723.84</td>\n",
              "      <td>1.705682</td>\n",
              "      <td>100117.070370</td>\n",
              "      <td>58696.198496</td>\n",
              "    </tr>\n",
              "    <tr>\n",
              "      <th>4857375</th>\n",
              "      <td>2021-03-30</td>\n",
              "      <td>58742.18</td>\n",
              "      <td>58770.38</td>\n",
              "      <td>58742.18</td>\n",
              "      <td>58760.59</td>\n",
              "      <td>0.720415</td>\n",
              "      <td>42332.958633</td>\n",
              "      <td>58761.866202</td>\n",
              "    </tr>\n",
              "    <tr>\n",
              "      <th>4857376</th>\n",
              "      <td>2021-03-31</td>\n",
              "      <td>58767.75</td>\n",
              "      <td>58778.18</td>\n",
              "      <td>58755.97</td>\n",
              "      <td>58778.18</td>\n",
              "      <td>2.712831</td>\n",
              "      <td>159417.751000</td>\n",
              "      <td>58764.349363</td>\n",
              "    </tr>\n",
              "  </tbody>\n",
              "</table>\n",
              "<p>3613769 rows × 8 columns</p>\n",
              "</div>"
            ],
            "text/plain": [
              "          Timestamp      Open  ...  Volume_(Currency)  Weighted_Price\n",
              "0        2011-12-31      4.39  ...           2.000000        4.390000\n",
              "478      2011-12-31      4.39  ...         210.720000        4.390000\n",
              "547      2011-12-31      4.50  ...         171.380338        4.526411\n",
              "548      2011-12-31      4.58  ...          41.220000        4.580000\n",
              "1224     2012-01-01      4.58  ...           6.879160        4.580000\n",
              "...             ...       ...  ...                ...             ...\n",
              "4857372  2021-03-30  58714.31  ...       81259.372187    58692.753339\n",
              "4857373  2021-03-30  58683.97  ...      428158.146640    58693.226508\n",
              "4857374  2021-03-30  58693.43  ...      100117.070370    58696.198496\n",
              "4857375  2021-03-30  58742.18  ...       42332.958633    58761.866202\n",
              "4857376  2021-03-31  58767.75  ...      159417.751000    58764.349363\n",
              "\n",
              "[3613769 rows x 8 columns]"
            ]
          },
          "metadata": {},
          "execution_count": 18
        }
      ]
    },
    {
      "cell_type": "code",
      "metadata": {
        "colab": {
          "base_uri": "https://localhost:8080/"
        },
        "id": "cWKGjj1I5kgt",
        "outputId": "8e4dc0fb-964c-42ab-9013-3b06ccdf5da2"
      },
      "source": [
        "len(df_fix.Timestamp)"
      ],
      "execution_count": 19,
      "outputs": [
        {
          "output_type": "execute_result",
          "data": {
            "text/plain": [
              "3613769"
            ]
          },
          "metadata": {},
          "execution_count": 19
        }
      ]
    },
    {
      "cell_type": "code",
      "metadata": {
        "colab": {
          "base_uri": "https://localhost:8080/"
        },
        "id": "V5TL6aBOmSHI",
        "outputId": "c66886da-2332-4cd9-bded-c4516c8657ce"
      },
      "source": [
        "len(df_fix.Open)"
      ],
      "execution_count": 20,
      "outputs": [
        {
          "output_type": "execute_result",
          "data": {
            "text/plain": [
              "3613769"
            ]
          },
          "metadata": {},
          "execution_count": 20
        }
      ]
    },
    {
      "cell_type": "code",
      "metadata": {
        "colab": {
          "base_uri": "https://localhost:8080/",
          "height": 297
        },
        "id": "AZ0A4Z1ImSEh",
        "outputId": "cb140488-042f-4230-a9f2-425c8bbb864a"
      },
      "source": [
        "df_fix.describe()"
      ],
      "execution_count": 21,
      "outputs": [
        {
          "output_type": "execute_result",
          "data": {
            "text/html": [
              "<div>\n",
              "<style scoped>\n",
              "    .dataframe tbody tr th:only-of-type {\n",
              "        vertical-align: middle;\n",
              "    }\n",
              "\n",
              "    .dataframe tbody tr th {\n",
              "        vertical-align: top;\n",
              "    }\n",
              "\n",
              "    .dataframe thead th {\n",
              "        text-align: right;\n",
              "    }\n",
              "</style>\n",
              "<table border=\"1\" class=\"dataframe\">\n",
              "  <thead>\n",
              "    <tr style=\"text-align: right;\">\n",
              "      <th></th>\n",
              "      <th>Open</th>\n",
              "      <th>High</th>\n",
              "      <th>Low</th>\n",
              "      <th>Close</th>\n",
              "      <th>Volume_(BTC)</th>\n",
              "      <th>Volume_(Currency)</th>\n",
              "      <th>Weighted_Price</th>\n",
              "    </tr>\n",
              "  </thead>\n",
              "  <tbody>\n",
              "    <tr>\n",
              "      <th>count</th>\n",
              "      <td>3.613769e+06</td>\n",
              "      <td>3.613769e+06</td>\n",
              "      <td>3.613769e+06</td>\n",
              "      <td>3.613769e+06</td>\n",
              "      <td>3.613769e+06</td>\n",
              "      <td>3.613769e+06</td>\n",
              "      <td>3.613769e+06</td>\n",
              "    </tr>\n",
              "    <tr>\n",
              "      <th>mean</th>\n",
              "      <td>6.009024e+03</td>\n",
              "      <td>6.013357e+03</td>\n",
              "      <td>6.004488e+03</td>\n",
              "      <td>6.009014e+03</td>\n",
              "      <td>9.323249e+00</td>\n",
              "      <td>4.176284e+04</td>\n",
              "      <td>6.008935e+03</td>\n",
              "    </tr>\n",
              "    <tr>\n",
              "      <th>std</th>\n",
              "      <td>8.996247e+03</td>\n",
              "      <td>9.003521e+03</td>\n",
              "      <td>8.988778e+03</td>\n",
              "      <td>8.996360e+03</td>\n",
              "      <td>3.054989e+01</td>\n",
              "      <td>1.518248e+05</td>\n",
              "      <td>8.995992e+03</td>\n",
              "    </tr>\n",
              "    <tr>\n",
              "      <th>min</th>\n",
              "      <td>3.800000e+00</td>\n",
              "      <td>3.800000e+00</td>\n",
              "      <td>1.500000e+00</td>\n",
              "      <td>1.500000e+00</td>\n",
              "      <td>0.000000e+00</td>\n",
              "      <td>0.000000e+00</td>\n",
              "      <td>3.800000e+00</td>\n",
              "    </tr>\n",
              "    <tr>\n",
              "      <th>25%</th>\n",
              "      <td>4.438600e+02</td>\n",
              "      <td>4.440000e+02</td>\n",
              "      <td>4.435200e+02</td>\n",
              "      <td>4.438600e+02</td>\n",
              "      <td>4.097759e-01</td>\n",
              "      <td>4.521422e+02</td>\n",
              "      <td>4.438306e+02</td>\n",
              "    </tr>\n",
              "    <tr>\n",
              "      <th>50%</th>\n",
              "      <td>3.596970e+03</td>\n",
              "      <td>3.598190e+03</td>\n",
              "      <td>3.595620e+03</td>\n",
              "      <td>3.597000e+03</td>\n",
              "      <td>1.979811e+00</td>\n",
              "      <td>3.810124e+03</td>\n",
              "      <td>3.596804e+03</td>\n",
              "    </tr>\n",
              "    <tr>\n",
              "      <th>75%</th>\n",
              "      <td>8.627270e+03</td>\n",
              "      <td>8.632980e+03</td>\n",
              "      <td>8.621090e+03</td>\n",
              "      <td>8.627160e+03</td>\n",
              "      <td>7.278216e+00</td>\n",
              "      <td>2.569821e+04</td>\n",
              "      <td>8.627637e+03</td>\n",
              "    </tr>\n",
              "    <tr>\n",
              "      <th>max</th>\n",
              "      <td>6.176356e+04</td>\n",
              "      <td>6.178183e+04</td>\n",
              "      <td>6.167355e+04</td>\n",
              "      <td>6.178180e+04</td>\n",
              "      <td>5.853852e+03</td>\n",
              "      <td>1.390067e+07</td>\n",
              "      <td>6.171621e+04</td>\n",
              "    </tr>\n",
              "  </tbody>\n",
              "</table>\n",
              "</div>"
            ],
            "text/plain": [
              "               Open          High  ...  Volume_(Currency)  Weighted_Price\n",
              "count  3.613769e+06  3.613769e+06  ...       3.613769e+06    3.613769e+06\n",
              "mean   6.009024e+03  6.013357e+03  ...       4.176284e+04    6.008935e+03\n",
              "std    8.996247e+03  9.003521e+03  ...       1.518248e+05    8.995992e+03\n",
              "min    3.800000e+00  3.800000e+00  ...       0.000000e+00    3.800000e+00\n",
              "25%    4.438600e+02  4.440000e+02  ...       4.521422e+02    4.438306e+02\n",
              "50%    3.596970e+03  3.598190e+03  ...       3.810124e+03    3.596804e+03\n",
              "75%    8.627270e+03  8.632980e+03  ...       2.569821e+04    8.627637e+03\n",
              "max    6.176356e+04  6.178183e+04  ...       1.390067e+07    6.171621e+04\n",
              "\n",
              "[8 rows x 7 columns]"
            ]
          },
          "metadata": {},
          "execution_count": 21
        }
      ]
    },
    {
      "cell_type": "code",
      "metadata": {
        "colab": {
          "base_uri": "https://localhost:8080/"
        },
        "id": "BbcZHcz9mSBs",
        "outputId": "07e99706-e706-4207-ec07-178bd6bf9a59"
      },
      "source": [
        "df.info()"
      ],
      "execution_count": 22,
      "outputs": [
        {
          "output_type": "stream",
          "name": "stdout",
          "text": [
            "<class 'pandas.core.frame.DataFrame'>\n",
            "RangeIndex: 4857377 entries, 0 to 4857376\n",
            "Data columns (total 8 columns):\n",
            " #   Column             Dtype  \n",
            "---  ------             -----  \n",
            " 0   Timestamp          int64  \n",
            " 1   Open               float64\n",
            " 2   High               float64\n",
            " 3   Low                float64\n",
            " 4   Close              float64\n",
            " 5   Volume_(BTC)       float64\n",
            " 6   Volume_(Currency)  float64\n",
            " 7   Weighted_Price     float64\n",
            "dtypes: float64(7), int64(1)\n",
            "memory usage: 296.5 MB\n"
          ]
        }
      ]
    },
    {
      "cell_type": "markdown",
      "metadata": {
        "id": "nCM-XZHXVsN2"
      },
      "source": [
        "# Vizualizacija podataka"
      ]
    },
    {
      "cell_type": "code",
      "metadata": {
        "id": "c42es1j6A7-y"
      },
      "source": [
        "import seaborn as sns\n",
        "sns.set_style(\"darkgrid\")"
      ],
      "execution_count": 23,
      "outputs": []
    },
    {
      "cell_type": "code",
      "metadata": {
        "colab": {
          "base_uri": "https://localhost:8080/"
        },
        "id": "DB0xhFZSn65P",
        "outputId": "d6b51377-9af2-4fb4-f2ea-34a82e3697d0"
      },
      "source": [
        "pip install mplfinance --upgrade --quiet"
      ],
      "execution_count": 24,
      "outputs": [
        {
          "output_type": "stream",
          "name": "stdout",
          "text": [
            "\u001b[?25l\r\u001b[K     |█████▎                          | 10 kB 20.9 MB/s eta 0:00:01\r\u001b[K     |██████████▌                     | 20 kB 25.1 MB/s eta 0:00:01\r\u001b[K     |███████████████▊                | 30 kB 18.8 MB/s eta 0:00:01\r\u001b[K     |█████████████████████           | 40 kB 12.6 MB/s eta 0:00:01\r\u001b[K     |██████████████████████████▎     | 51 kB 5.7 MB/s eta 0:00:01\r\u001b[K     |███████████████████████████████▌| 61 kB 5.8 MB/s eta 0:00:01\r\u001b[K     |████████████████████████████████| 62 kB 677 kB/s \n",
            "\u001b[?25h"
          ]
        }
      ]
    },
    {
      "cell_type": "code",
      "metadata": {
        "id": "-Pov66oVn7ZN"
      },
      "source": [
        "import mplfinance as mpf\n",
        "%matplotlib inline"
      ],
      "execution_count": 25,
      "outputs": []
    },
    {
      "cell_type": "code",
      "metadata": {
        "id": "gL_W1y7On7XC"
      },
      "source": [
        "df_fix.set_index('Timestamp', inplace=True)"
      ],
      "execution_count": 26,
      "outputs": []
    },
    {
      "cell_type": "code",
      "metadata": {
        "colab": {
          "base_uri": "https://localhost:8080/"
        },
        "id": "UspP9baYn7UZ",
        "outputId": "460de8a8-63ea-48c8-e9c5-2325b31ad417"
      },
      "source": [
        "df_fix.index = pd.to_datetime(df_fix.index)\n",
        "df_fix.index"
      ],
      "execution_count": 27,
      "outputs": [
        {
          "output_type": "execute_result",
          "data": {
            "text/plain": [
              "DatetimeIndex(['2011-12-31', '2011-12-31', '2011-12-31', '2011-12-31',\n",
              "               '2012-01-01', '2012-01-01', '2012-01-01', '2012-01-02',\n",
              "               '2012-01-03', '2012-01-03',\n",
              "               ...\n",
              "               '2021-03-30', '2021-03-30', '2021-03-30', '2021-03-30',\n",
              "               '2021-03-30', '2021-03-30', '2021-03-30', '2021-03-30',\n",
              "               '2021-03-30', '2021-03-31'],\n",
              "              dtype='datetime64[ns]', name='Timestamp', length=3613769, freq=None)"
            ]
          },
          "metadata": {},
          "execution_count": 27
        }
      ]
    },
    {
      "cell_type": "code",
      "metadata": {
        "id": "1BqMH5H3olT3"
      },
      "source": [
        ""
      ],
      "execution_count": 27,
      "outputs": []
    },
    {
      "cell_type": "code",
      "metadata": {
        "id": "jx8MFrEyolOD"
      },
      "source": [
        ""
      ],
      "execution_count": 27,
      "outputs": []
    },
    {
      "cell_type": "code",
      "metadata": {
        "id": "JdM4kSXyn7KT"
      },
      "source": [
        ""
      ],
      "execution_count": 27,
      "outputs": []
    },
    {
      "cell_type": "code",
      "metadata": {
        "id": "kQT83XsJmR8T",
        "colab": {
          "base_uri": "https://localhost:8080/",
          "height": 282
        },
        "outputId": "6c6c591b-112c-43c8-f3a1-59a9b33aec63"
      },
      "source": [
        "df_fix[:1].plot(kind='barh').legend(loc=0, bbox_to_anchor=(1.0, 1.0))"
      ],
      "execution_count": 28,
      "outputs": [
        {
          "output_type": "execute_result",
          "data": {
            "text/plain": [
              "<matplotlib.legend.Legend at 0x7ff814199610>"
            ]
          },
          "metadata": {},
          "execution_count": 28
        },
        {
          "output_type": "display_data",
          "data": {
            "image/png": "[encoded data removed]",
            "text/plain": [
              "<Figure size 432x288 with 1 Axes>"
            ]
          },
          "metadata": {
            "needs_background": "light"
          }
        }
      ]
    },
    {
      "cell_type": "code",
      "metadata": {
        "colab": {
          "base_uri": "https://localhost:8080/"
        },
        "id": "DSxdJouFDY4N",
        "outputId": "65ce1c16-6b9b-471c-821e-f4c0cf53dad8"
      },
      "source": [
        "type(df_fix.index)"
      ],
      "execution_count": 29,
      "outputs": [
        {
          "output_type": "execute_result",
          "data": {
            "text/plain": [
              "pandas.core.indexes.datetimes.DatetimeIndex"
            ]
          },
          "metadata": {},
          "execution_count": 29
        }
      ]
    },
    {
      "cell_type": "code",
      "metadata": {
        "colab": {
          "base_uri": "https://localhost:8080/",
          "height": 450
        },
        "id": "1Aaya7TLrDNC",
        "outputId": "695e186f-4f5f-4cab-d805-9ddaada4beb6"
      },
      "source": [
        "df_fix.loc[:]"
      ],
      "execution_count": 30,
      "outputs": [
        {
          "output_type": "execute_result",
          "data": {
            "text/html": [
              "<div>\n",
              "<style scoped>\n",
              "    .dataframe tbody tr th:only-of-type {\n",
              "        vertical-align: middle;\n",
              "    }\n",
              "\n",
              "    .dataframe tbody tr th {\n",
              "        vertical-align: top;\n",
              "    }\n",
              "\n",
              "    .dataframe thead th {\n",
              "        text-align: right;\n",
              "    }\n",
              "</style>\n",
              "<table border=\"1\" class=\"dataframe\">\n",
              "  <thead>\n",
              "    <tr style=\"text-align: right;\">\n",
              "      <th></th>\n",
              "      <th>Open</th>\n",
              "      <th>High</th>\n",
              "      <th>Low</th>\n",
              "      <th>Close</th>\n",
              "      <th>Volume_(BTC)</th>\n",
              "      <th>Volume_(Currency)</th>\n",
              "      <th>Weighted_Price</th>\n",
              "    </tr>\n",
              "    <tr>\n",
              "      <th>Timestamp</th>\n",
              "      <th></th>\n",
              "      <th></th>\n",
              "      <th></th>\n",
              "      <th></th>\n",
              "      <th></th>\n",
              "      <th></th>\n",
              "      <th></th>\n",
              "    </tr>\n",
              "  </thead>\n",
              "  <tbody>\n",
              "    <tr>\n",
              "      <th>2011-12-31</th>\n",
              "      <td>4.39</td>\n",
              "      <td>4.39</td>\n",
              "      <td>4.39</td>\n",
              "      <td>4.39</td>\n",
              "      <td>0.455581</td>\n",
              "      <td>2.000000</td>\n",
              "      <td>4.390000</td>\n",
              "    </tr>\n",
              "    <tr>\n",
              "      <th>2011-12-31</th>\n",
              "      <td>4.39</td>\n",
              "      <td>4.39</td>\n",
              "      <td>4.39</td>\n",
              "      <td>4.39</td>\n",
              "      <td>48.000000</td>\n",
              "      <td>210.720000</td>\n",
              "      <td>4.390000</td>\n",
              "    </tr>\n",
              "    <tr>\n",
              "      <th>2011-12-31</th>\n",
              "      <td>4.50</td>\n",
              "      <td>4.57</td>\n",
              "      <td>4.50</td>\n",
              "      <td>4.57</td>\n",
              "      <td>37.862297</td>\n",
              "      <td>171.380338</td>\n",
              "      <td>4.526411</td>\n",
              "    </tr>\n",
              "    <tr>\n",
              "      <th>2011-12-31</th>\n",
              "      <td>4.58</td>\n",
              "      <td>4.58</td>\n",
              "      <td>4.58</td>\n",
              "      <td>4.58</td>\n",
              "      <td>9.000000</td>\n",
              "      <td>41.220000</td>\n",
              "      <td>4.580000</td>\n",
              "    </tr>\n",
              "    <tr>\n",
              "      <th>2012-01-01</th>\n",
              "      <td>4.58</td>\n",
              "      <td>4.58</td>\n",
              "      <td>4.58</td>\n",
              "      <td>4.58</td>\n",
              "      <td>1.502000</td>\n",
              "      <td>6.879160</td>\n",
              "      <td>4.580000</td>\n",
              "    </tr>\n",
              "    <tr>\n",
              "      <th>...</th>\n",
              "      <td>...</td>\n",
              "      <td>...</td>\n",
              "      <td>...</td>\n",
              "      <td>...</td>\n",
              "      <td>...</td>\n",
              "      <td>...</td>\n",
              "      <td>...</td>\n",
              "    </tr>\n",
              "    <tr>\n",
              "      <th>2021-03-30</th>\n",
              "      <td>58714.31</td>\n",
              "      <td>58714.31</td>\n",
              "      <td>58686.00</td>\n",
              "      <td>58686.00</td>\n",
              "      <td>1.384487</td>\n",
              "      <td>81259.372187</td>\n",
              "      <td>58692.753339</td>\n",
              "    </tr>\n",
              "    <tr>\n",
              "      <th>2021-03-30</th>\n",
              "      <td>58683.97</td>\n",
              "      <td>58693.43</td>\n",
              "      <td>58683.97</td>\n",
              "      <td>58685.81</td>\n",
              "      <td>7.294848</td>\n",
              "      <td>428158.146640</td>\n",
              "      <td>58693.226508</td>\n",
              "    </tr>\n",
              "    <tr>\n",
              "      <th>2021-03-30</th>\n",
              "      <td>58693.43</td>\n",
              "      <td>58723.84</td>\n",
              "      <td>58693.43</td>\n",
              "      <td>58723.84</td>\n",
              "      <td>1.705682</td>\n",
              "      <td>100117.070370</td>\n",
              "      <td>58696.198496</td>\n",
              "    </tr>\n",
              "    <tr>\n",
              "      <th>2021-03-30</th>\n",
              "      <td>58742.18</td>\n",
              "      <td>58770.38</td>\n",
              "      <td>58742.18</td>\n",
              "      <td>58760.59</td>\n",
              "      <td>0.720415</td>\n",
              "      <td>42332.958633</td>\n",
              "      <td>58761.866202</td>\n",
              "    </tr>\n",
              "    <tr>\n",
              "      <th>2021-03-31</th>\n",
              "      <td>58767.75</td>\n",
              "      <td>58778.18</td>\n",
              "      <td>58755.97</td>\n",
              "      <td>58778.18</td>\n",
              "      <td>2.712831</td>\n",
              "      <td>159417.751000</td>\n",
              "      <td>58764.349363</td>\n",
              "    </tr>\n",
              "  </tbody>\n",
              "</table>\n",
              "<p>3613769 rows × 7 columns</p>\n",
              "</div>"
            ],
            "text/plain": [
              "                Open      High  ...  Volume_(Currency)  Weighted_Price\n",
              "Timestamp                       ...                                   \n",
              "2011-12-31      4.39      4.39  ...           2.000000        4.390000\n",
              "2011-12-31      4.39      4.39  ...         210.720000        4.390000\n",
              "2011-12-31      4.50      4.57  ...         171.380338        4.526411\n",
              "2011-12-31      4.58      4.58  ...          41.220000        4.580000\n",
              "2012-01-01      4.58      4.58  ...           6.879160        4.580000\n",
              "...              ...       ...  ...                ...             ...\n",
              "2021-03-30  58714.31  58714.31  ...       81259.372187    58692.753339\n",
              "2021-03-30  58683.97  58693.43  ...      428158.146640    58693.226508\n",
              "2021-03-30  58693.43  58723.84  ...      100117.070370    58696.198496\n",
              "2021-03-30  58742.18  58770.38  ...       42332.958633    58761.866202\n",
              "2021-03-31  58767.75  58778.18  ...      159417.751000    58764.349363\n",
              "\n",
              "[3613769 rows x 7 columns]"
            ]
          },
          "metadata": {},
          "execution_count": 30
        }
      ]
    },
    {
      "cell_type": "code",
      "metadata": {
        "colab": {
          "base_uri": "https://localhost:8080/",
          "height": 450
        },
        "id": "f-oHcJr9qv7x",
        "outputId": "d9641bc4-5ca8-4f02-b494-4e8830c45402"
      },
      "source": [
        "df_fix"
      ],
      "execution_count": 31,
      "outputs": [
        {
          "output_type": "execute_result",
          "data": {
            "text/html": [
              "<div>\n",
              "<style scoped>\n",
              "    .dataframe tbody tr th:only-of-type {\n",
              "        vertical-align: middle;\n",
              "    }\n",
              "\n",
              "    .dataframe tbody tr th {\n",
              "        vertical-align: top;\n",
              "    }\n",
              "\n",
              "    .dataframe thead th {\n",
              "        text-align: right;\n",
              "    }\n",
              "</style>\n",
              "<table border=\"1\" class=\"dataframe\">\n",
              "  <thead>\n",
              "    <tr style=\"text-align: right;\">\n",
              "      <th></th>\n",
              "      <th>Open</th>\n",
              "      <th>High</th>\n",
              "      <th>Low</th>\n",
              "      <th>Close</th>\n",
              "      <th>Volume_(BTC)</th>\n",
              "      <th>Volume_(Currency)</th>\n",
              "      <th>Weighted_Price</th>\n",
              "    </tr>\n",
              "    <tr>\n",
              "      <th>Timestamp</th>\n",
              "      <th></th>\n",
              "      <th></th>\n",
              "      <th></th>\n",
              "      <th></th>\n",
              "      <th></th>\n",
              "      <th></th>\n",
              "      <th></th>\n",
              "    </tr>\n",
              "  </thead>\n",
              "  <tbody>\n",
              "    <tr>\n",
              "      <th>2011-12-31</th>\n",
              "      <td>4.39</td>\n",
              "      <td>4.39</td>\n",
              "      <td>4.39</td>\n",
              "      <td>4.39</td>\n",
              "      <td>0.455581</td>\n",
              "      <td>2.000000</td>\n",
              "      <td>4.390000</td>\n",
              "    </tr>\n",
              "    <tr>\n",
              "      <th>2011-12-31</th>\n",
              "      <td>4.39</td>\n",
              "      <td>4.39</td>\n",
              "      <td>4.39</td>\n",
              "      <td>4.39</td>\n",
              "      <td>48.000000</td>\n",
              "      <td>210.720000</td>\n",
              "      <td>4.390000</td>\n",
              "    </tr>\n",
              "    <tr>\n",
              "      <th>2011-12-31</th>\n",
              "      <td>4.50</td>\n",
              "      <td>4.57</td>\n",
              "      <td>4.50</td>\n",
              "      <td>4.57</td>\n",
              "      <td>37.862297</td>\n",
              "      <td>171.380338</td>\n",
              "      <td>4.526411</td>\n",
              "    </tr>\n",
              "    <tr>\n",
              "      <th>2011-12-31</th>\n",
              "      <td>4.58</td>\n",
              "      <td>4.58</td>\n",
              "      <td>4.58</td>\n",
              "      <td>4.58</td>\n",
              "      <td>9.000000</td>\n",
              "      <td>41.220000</td>\n",
              "      <td>4.580000</td>\n",
              "    </tr>\n",
              "    <tr>\n",
              "      <th>2012-01-01</th>\n",
              "      <td>4.58</td>\n",
              "      <td>4.58</td>\n",
              "      <td>4.58</td>\n",
              "      <td>4.58</td>\n",
              "      <td>1.502000</td>\n",
              "      <td>6.879160</td>\n",
              "      <td>4.580000</td>\n",
              "    </tr>\n",
              "    <tr>\n",
              "      <th>...</th>\n",
              "      <td>...</td>\n",
              "      <td>...</td>\n",
              "      <td>...</td>\n",
              "      <td>...</td>\n",
              "      <td>...</td>\n",
              "      <td>...</td>\n",
              "      <td>...</td>\n",
              "    </tr>\n",
              "    <tr>\n",
              "      <th>2021-03-30</th>\n",
              "      <td>58714.31</td>\n",
              "      <td>58714.31</td>\n",
              "      <td>58686.00</td>\n",
              "      <td>58686.00</td>\n",
              "      <td>1.384487</td>\n",
              "      <td>81259.372187</td>\n",
              "      <td>58692.753339</td>\n",
              "    </tr>\n",
              "    <tr>\n",
              "      <th>2021-03-30</th>\n",
              "      <td>58683.97</td>\n",
              "      <td>58693.43</td>\n",
              "      <td>58683.97</td>\n",
              "      <td>58685.81</td>\n",
              "      <td>7.294848</td>\n",
              "      <td>428158.146640</td>\n",
              "      <td>58693.226508</td>\n",
              "    </tr>\n",
              "    <tr>\n",
              "      <th>2021-03-30</th>\n",
              "      <td>58693.43</td>\n",
              "      <td>58723.84</td>\n",
              "      <td>58693.43</td>\n",
              "      <td>58723.84</td>\n",
              "      <td>1.705682</td>\n",
              "      <td>100117.070370</td>\n",
              "      <td>58696.198496</td>\n",
              "    </tr>\n",
              "    <tr>\n",
              "      <th>2021-03-30</th>\n",
              "      <td>58742.18</td>\n",
              "      <td>58770.38</td>\n",
              "      <td>58742.18</td>\n",
              "      <td>58760.59</td>\n",
              "      <td>0.720415</td>\n",
              "      <td>42332.958633</td>\n",
              "      <td>58761.866202</td>\n",
              "    </tr>\n",
              "    <tr>\n",
              "      <th>2021-03-31</th>\n",
              "      <td>58767.75</td>\n",
              "      <td>58778.18</td>\n",
              "      <td>58755.97</td>\n",
              "      <td>58778.18</td>\n",
              "      <td>2.712831</td>\n",
              "      <td>159417.751000</td>\n",
              "      <td>58764.349363</td>\n",
              "    </tr>\n",
              "  </tbody>\n",
              "</table>\n",
              "<p>3613769 rows × 7 columns</p>\n",
              "</div>"
            ],
            "text/plain": [
              "                Open      High  ...  Volume_(Currency)  Weighted_Price\n",
              "Timestamp                       ...                                   \n",
              "2011-12-31      4.39      4.39  ...           2.000000        4.390000\n",
              "2011-12-31      4.39      4.39  ...         210.720000        4.390000\n",
              "2011-12-31      4.50      4.57  ...         171.380338        4.526411\n",
              "2011-12-31      4.58      4.58  ...          41.220000        4.580000\n",
              "2012-01-01      4.58      4.58  ...           6.879160        4.580000\n",
              "...              ...       ...  ...                ...             ...\n",
              "2021-03-30  58714.31  58714.31  ...       81259.372187    58692.753339\n",
              "2021-03-30  58683.97  58693.43  ...      428158.146640    58693.226508\n",
              "2021-03-30  58693.43  58723.84  ...      100117.070370    58696.198496\n",
              "2021-03-30  58742.18  58770.38  ...       42332.958633    58761.866202\n",
              "2021-03-31  58767.75  58778.18  ...      159417.751000    58764.349363\n",
              "\n",
              "[3613769 rows x 7 columns]"
            ]
          },
          "metadata": {},
          "execution_count": 31
        }
      ]
    },
    {
      "cell_type": "code",
      "metadata": {
        "id": "L8Bf-Q1TpHJy",
        "colab": {
          "base_uri": "https://localhost:8080/",
          "height": 450
        },
        "outputId": "aada6f8b-3fdb-430f-f0c7-3c65645a6d3b"
      },
      "source": [
        "highest_price_date = df_fix.loc[:, ['High']].sort_values(by='High', ascending=False)\n",
        "highest_price_date"
      ],
      "execution_count": 32,
      "outputs": [
        {
          "output_type": "execute_result",
          "data": {
            "text/html": [
              "<div>\n",
              "<style scoped>\n",
              "    .dataframe tbody tr th:only-of-type {\n",
              "        vertical-align: middle;\n",
              "    }\n",
              "\n",
              "    .dataframe tbody tr th {\n",
              "        vertical-align: top;\n",
              "    }\n",
              "\n",
              "    .dataframe thead th {\n",
              "        text-align: right;\n",
              "    }\n",
              "</style>\n",
              "<table border=\"1\" class=\"dataframe\">\n",
              "  <thead>\n",
              "    <tr style=\"text-align: right;\">\n",
              "      <th></th>\n",
              "      <th>High</th>\n",
              "    </tr>\n",
              "    <tr>\n",
              "      <th>Timestamp</th>\n",
              "      <th></th>\n",
              "    </tr>\n",
              "  </thead>\n",
              "  <tbody>\n",
              "    <tr>\n",
              "      <th>2021-03-13</th>\n",
              "      <td>61781.83</td>\n",
              "    </tr>\n",
              "    <tr>\n",
              "      <th>2021-03-13</th>\n",
              "      <td>61781.80</td>\n",
              "    </tr>\n",
              "    <tr>\n",
              "      <th>2021-03-13</th>\n",
              "      <td>61750.00</td>\n",
              "    </tr>\n",
              "    <tr>\n",
              "      <th>2021-03-13</th>\n",
              "      <td>61747.76</td>\n",
              "    </tr>\n",
              "    <tr>\n",
              "      <th>2021-03-13</th>\n",
              "      <td>61714.48</td>\n",
              "    </tr>\n",
              "    <tr>\n",
              "      <th>...</th>\n",
              "      <td>...</td>\n",
              "    </tr>\n",
              "    <tr>\n",
              "      <th>2012-02-16</th>\n",
              "      <td>4.15</td>\n",
              "    </tr>\n",
              "    <tr>\n",
              "      <th>2012-02-18</th>\n",
              "      <td>4.14</td>\n",
              "    </tr>\n",
              "    <tr>\n",
              "      <th>2012-02-18</th>\n",
              "      <td>4.14</td>\n",
              "    </tr>\n",
              "    <tr>\n",
              "      <th>2012-01-31</th>\n",
              "      <td>3.80</td>\n",
              "    </tr>\n",
              "    <tr>\n",
              "      <th>2012-01-27</th>\n",
              "      <td>3.80</td>\n",
              "    </tr>\n",
              "  </tbody>\n",
              "</table>\n",
              "<p>3613769 rows × 1 columns</p>\n",
              "</div>"
            ],
            "text/plain": [
              "                High\n",
              "Timestamp           \n",
              "2021-03-13  61781.83\n",
              "2021-03-13  61781.80\n",
              "2021-03-13  61750.00\n",
              "2021-03-13  61747.76\n",
              "2021-03-13  61714.48\n",
              "...              ...\n",
              "2012-02-16      4.15\n",
              "2012-02-18      4.14\n",
              "2012-02-18      4.14\n",
              "2012-01-31      3.80\n",
              "2012-01-27      3.80\n",
              "\n",
              "[3613769 rows x 1 columns]"
            ]
          },
          "metadata": {},
          "execution_count": 32
        }
      ]
    },
    {
      "cell_type": "markdown",
      "metadata": {
        "id": "HlSC9Im0sRM_"
      },
      "source": [
        "d.plotting.register_matplotlib_converters()"
      ]
    },
    {
      "cell_type": "code",
      "metadata": {
        "id": "KeDTOWyRpHDL",
        "colab": {
          "base_uri": "https://localhost:8080/",
          "height": 386
        },
        "outputId": "20849ef7-f9bd-4b5f-c67a-211136619d49"
      },
      "source": [
        "var_btc= df_fix['Volume_(BTC)']\n",
        "sns.displot(var_btc[:1000])"
      ],
      "execution_count": 33,
      "outputs": [
        {
          "output_type": "execute_result",
          "data": {
            "text/plain": [
              "<seaborn.axisgrid.FacetGrid at 0x7ff829940cd0>"
            ]
          },
          "metadata": {},
          "execution_count": 33
        },
        {
          "output_type": "display_data",
          "data": {
            "image/png": "[encoded data removed]",
            "text/plain": [
              "<Figure size 360x360 with 1 Axes>"
            ]
          },
          "metadata": {
            "needs_background": "light"
          }
        }
      ]
    },
    {
      "cell_type": "markdown",
      "metadata": {
        "id": "wIjka1yadcUi"
      },
      "source": [
        "#### mathplot grid price vs date"
      ]
    },
    {
      "cell_type": "code",
      "metadata": {
        "colab": {
          "base_uri": "https://localhost:8080/",
          "height": 462
        },
        "id": "-2qS-Dn1ZOUt",
        "outputId": "0451be32-01a4-46f3-b994-ce802389f21c"
      },
      "source": [
        "fig_pd = plt.figure(figsize=(5,4), dpi=100)\n",
        "axes_pd = fig_pd.add_axes([0.1,0.1,0.9,0.9])\n",
        "\n",
        "axes_pd.plot(df_fix.index, df_fix['Weighted_Price'].astype(int), label = 'Weighted Price')\n",
        "\n",
        "axes_pd.set_xlabel('Date')\n",
        "axes_pd.set_ylabel('Price')\n",
        "axes_pd.set_title('Weighted Price vs Date chart')\n",
        "lines, labels = axes_pd.get_legend_handles_labels()\n",
        "\n",
        "axes_pd.legend(lines, labels, bbox_to_anchor=(1.0, 1.0), loc=0)\n",
        "plt.show()"
      ],
      "execution_count": 34,
      "outputs": [
        {
          "output_type": "display_data",
          "data": {
            "image/png": "[encoded data removed]",
            "text/plain": [
              "<Figure size 500x400 with 1 Axes>"
            ]
          },
          "metadata": {
            "needs_background": "light"
          }
        }
      ]
    },
    {
      "cell_type": "code",
      "metadata": {
        "id": "-cTpVqQ8pHAj",
        "colab": {
          "base_uri": "https://localhost:8080/"
        },
        "outputId": "89ba1703-d275-4a71-8a71-a02e6b6a252c"
      },
      "source": [
        "df_fix.Weighted_Price = df_fix.Weighted_Price.round(2)\n",
        "df_fix['Volume_(Currency)'].sort_values(ascending=False).astype(int)"
      ],
      "execution_count": 35,
      "outputs": [
        {
          "output_type": "stream",
          "name": "stderr",
          "text": [
            "/usr/local/lib/python3.7/dist-packages/pandas/core/generic.py:5170: SettingWithCopyWarning: \n",
            "A value is trying to be set on a copy of a slice from a DataFrame.\n",
            "Try using .loc[row_indexer,col_indexer] = value instead\n",
            "\n",
            "See the caveats in the documentation: https://pandas.pydata.org/pandas-docs/stable/user_guide/indexing.html#returning-a-view-versus-a-copy\n",
            "  self[name] = value\n"
          ]
        },
        {
          "output_type": "execute_result",
          "data": {
            "text/plain": [
              "Timestamp\n",
              "2021-01-10    13900672\n",
              "2021-01-04    11629357\n",
              "2021-02-15    11492484\n",
              "2021-02-16    10910999\n",
              "2021-02-22    10633100\n",
              "                ...   \n",
              "2013-06-06           0\n",
              "2013-07-04           0\n",
              "2013-06-27           0\n",
              "2014-01-09           0\n",
              "2017-08-14           0\n",
              "Name: Volume_(Currency), Length: 3613769, dtype: int64"
            ]
          },
          "metadata": {},
          "execution_count": 35
        }
      ]
    },
    {
      "cell_type": "code",
      "metadata": {
        "id": "lKQPtC3f__9S"
      },
      "source": [
        "pip install mplfinance --upgrade --quiet"
      ],
      "execution_count": 36,
      "outputs": []
    },
    {
      "cell_type": "code",
      "metadata": {
        "colab": {
          "base_uri": "https://localhost:8080/"
        },
        "id": "Bzo_TJDME-BV",
        "outputId": "c13c7685-adbf-4479-a798-69b9675c0648"
      },
      "source": [
        "df_new = pd.to_datetime(df_fix.index)\n",
        "df_new"
      ],
      "execution_count": 37,
      "outputs": [
        {
          "output_type": "execute_result",
          "data": {
            "text/plain": [
              "DatetimeIndex(['2011-12-31', '2011-12-31', '2011-12-31', '2011-12-31',\n",
              "               '2012-01-01', '2012-01-01', '2012-01-01', '2012-01-02',\n",
              "               '2012-01-03', '2012-01-03',\n",
              "               ...\n",
              "               '2021-03-30', '2021-03-30', '2021-03-30', '2021-03-30',\n",
              "               '2021-03-30', '2021-03-30', '2021-03-30', '2021-03-30',\n",
              "               '2021-03-30', '2021-03-31'],\n",
              "              dtype='datetime64[ns]', name='Timestamp', length=3613769, freq=None)"
            ]
          },
          "metadata": {},
          "execution_count": 37
        }
      ]
    },
    {
      "cell_type": "code",
      "metadata": {
        "id": "HVnOYIVwpG7u",
        "colab": {
          "base_uri": "https://localhost:8080/",
          "height": 497
        },
        "outputId": "09e57b10-26db-4a73-8664-61869e59d848"
      },
      "source": [
        "fig_avg = plt.figure(figsize=(5,4), dpi=100)\n",
        "axes_avg = fig_avg.add_axes([0.1,0.1,3,1])\n",
        "axes_avg.set_xlabel('Date')\n",
        "axes_avg.set_ylabel('Highest Price')\n",
        "axes_avg.plot(df_fix.index[-50:], df_fix['High'][-50:], color='red')"
      ],
      "execution_count": 38,
      "outputs": [
        {
          "output_type": "execute_result",
          "data": {
            "text/plain": [
              "[<matplotlib.lines.Line2D at 0x7ff80b6a9f50>]"
            ]
          },
          "metadata": {},
          "execution_count": 38
        },
        {
          "output_type": "display_data",
          "data": {
            "image/png": "[encoded data removed]",
            "text/plain": [
              "<Figure size 500x400 with 1 Axes>"
            ]
          },
          "metadata": {
            "needs_background": "light"
          }
        }
      ]
    },
    {
      "cell_type": "code",
      "metadata": {
        "id": "kzw_7LkZr008",
        "colab": {
          "base_uri": "https://localhost:8080/"
        },
        "outputId": "a1b21c59-1c7f-42c9-b2ee-503fe4481f64"
      },
      "source": [
        "df_fix.index[-50:]"
      ],
      "execution_count": 39,
      "outputs": [
        {
          "output_type": "execute_result",
          "data": {
            "text/plain": [
              "DatetimeIndex(['2021-03-30', '2021-03-30', '2021-03-30', '2021-03-30',\n",
              "               '2021-03-30', '2021-03-30', '2021-03-30', '2021-03-30',\n",
              "               '2021-03-30', '2021-03-30', '2021-03-30', '2021-03-30',\n",
              "               '2021-03-30', '2021-03-30', '2021-03-30', '2021-03-30',\n",
              "               '2021-03-30', '2021-03-30', '2021-03-30', '2021-03-30',\n",
              "               '2021-03-30', '2021-03-30', '2021-03-30', '2021-03-30',\n",
              "               '2021-03-30', '2021-03-30', '2021-03-30', '2021-03-30',\n",
              "               '2021-03-30', '2021-03-30', '2021-03-30', '2021-03-30',\n",
              "               '2021-03-30', '2021-03-30', '2021-03-30', '2021-03-30',\n",
              "               '2021-03-30', '2021-03-30', '2021-03-30', '2021-03-30',\n",
              "               '2021-03-30', '2021-03-30', '2021-03-30', '2021-03-30',\n",
              "               '2021-03-30', '2021-03-30', '2021-03-30', '2021-03-30',\n",
              "               '2021-03-30', '2021-03-31'],\n",
              "              dtype='datetime64[ns]', name='Timestamp', freq=None)"
            ]
          },
          "metadata": {},
          "execution_count": 39
        }
      ]
    },
    {
      "cell_type": "code",
      "metadata": {
        "colab": {
          "base_uri": "https://localhost:8080/",
          "height": 450
        },
        "id": "C0_2DdAWXJCy",
        "outputId": "00e48a2a-fc4e-4016-85ef-b4434a35e3c8"
      },
      "source": [
        "df_fix"
      ],
      "execution_count": 40,
      "outputs": [
        {
          "output_type": "execute_result",
          "data": {
            "text/html": [
              "<div>\n",
              "<style scoped>\n",
              "    .dataframe tbody tr th:only-of-type {\n",
              "        vertical-align: middle;\n",
              "    }\n",
              "\n",
              "    .dataframe tbody tr th {\n",
              "        vertical-align: top;\n",
              "    }\n",
              "\n",
              "    .dataframe thead th {\n",
              "        text-align: right;\n",
              "    }\n",
              "</style>\n",
              "<table border=\"1\" class=\"dataframe\">\n",
              "  <thead>\n",
              "    <tr style=\"text-align: right;\">\n",
              "      <th></th>\n",
              "      <th>Open</th>\n",
              "      <th>High</th>\n",
              "      <th>Low</th>\n",
              "      <th>Close</th>\n",
              "      <th>Volume_(BTC)</th>\n",
              "      <th>Volume_(Currency)</th>\n",
              "      <th>Weighted_Price</th>\n",
              "    </tr>\n",
              "    <tr>\n",
              "      <th>Timestamp</th>\n",
              "      <th></th>\n",
              "      <th></th>\n",
              "      <th></th>\n",
              "      <th></th>\n",
              "      <th></th>\n",
              "      <th></th>\n",
              "      <th></th>\n",
              "    </tr>\n",
              "  </thead>\n",
              "  <tbody>\n",
              "    <tr>\n",
              "      <th>2011-12-31</th>\n",
              "      <td>4.39</td>\n",
              "      <td>4.39</td>\n",
              "      <td>4.39</td>\n",
              "      <td>4.39</td>\n",
              "      <td>0.455581</td>\n",
              "      <td>2.000000</td>\n",
              "      <td>4.39</td>\n",
              "    </tr>\n",
              "    <tr>\n",
              "      <th>2011-12-31</th>\n",
              "      <td>4.39</td>\n",
              "      <td>4.39</td>\n",
              "      <td>4.39</td>\n",
              "      <td>4.39</td>\n",
              "      <td>48.000000</td>\n",
              "      <td>210.720000</td>\n",
              "      <td>4.39</td>\n",
              "    </tr>\n",
              "    <tr>\n",
              "      <th>2011-12-31</th>\n",
              "      <td>4.50</td>\n",
              "      <td>4.57</td>\n",
              "      <td>4.50</td>\n",
              "      <td>4.57</td>\n",
              "      <td>37.862297</td>\n",
              "      <td>171.380338</td>\n",
              "      <td>4.53</td>\n",
              "    </tr>\n",
              "    <tr>\n",
              "      <th>2011-12-31</th>\n",
              "      <td>4.58</td>\n",
              "      <td>4.58</td>\n",
              "      <td>4.58</td>\n",
              "      <td>4.58</td>\n",
              "      <td>9.000000</td>\n",
              "      <td>41.220000</td>\n",
              "      <td>4.58</td>\n",
              "    </tr>\n",
              "    <tr>\n",
              "      <th>2012-01-01</th>\n",
              "      <td>4.58</td>\n",
              "      <td>4.58</td>\n",
              "      <td>4.58</td>\n",
              "      <td>4.58</td>\n",
              "      <td>1.502000</td>\n",
              "      <td>6.879160</td>\n",
              "      <td>4.58</td>\n",
              "    </tr>\n",
              "    <tr>\n",
              "      <th>...</th>\n",
              "      <td>...</td>\n",
              "      <td>...</td>\n",
              "      <td>...</td>\n",
              "      <td>...</td>\n",
              "      <td>...</td>\n",
              "      <td>...</td>\n",
              "      <td>...</td>\n",
              "    </tr>\n",
              "    <tr>\n",
              "      <th>2021-03-30</th>\n",
              "      <td>58714.31</td>\n",
              "      <td>58714.31</td>\n",
              "      <td>58686.00</td>\n",
              "      <td>58686.00</td>\n",
              "      <td>1.384487</td>\n",
              "      <td>81259.372187</td>\n",
              "      <td>58692.75</td>\n",
              "    </tr>\n",
              "    <tr>\n",
              "      <th>2021-03-30</th>\n",
              "      <td>58683.97</td>\n",
              "      <td>58693.43</td>\n",
              "      <td>58683.97</td>\n",
              "      <td>58685.81</td>\n",
              "      <td>7.294848</td>\n",
              "      <td>428158.146640</td>\n",
              "      <td>58693.23</td>\n",
              "    </tr>\n",
              "    <tr>\n",
              "      <th>2021-03-30</th>\n",
              "      <td>58693.43</td>\n",
              "      <td>58723.84</td>\n",
              "      <td>58693.43</td>\n",
              "      <td>58723.84</td>\n",
              "      <td>1.705682</td>\n",
              "      <td>100117.070370</td>\n",
              "      <td>58696.20</td>\n",
              "    </tr>\n",
              "    <tr>\n",
              "      <th>2021-03-30</th>\n",
              "      <td>58742.18</td>\n",
              "      <td>58770.38</td>\n",
              "      <td>58742.18</td>\n",
              "      <td>58760.59</td>\n",
              "      <td>0.720415</td>\n",
              "      <td>42332.958633</td>\n",
              "      <td>58761.87</td>\n",
              "    </tr>\n",
              "    <tr>\n",
              "      <th>2021-03-31</th>\n",
              "      <td>58767.75</td>\n",
              "      <td>58778.18</td>\n",
              "      <td>58755.97</td>\n",
              "      <td>58778.18</td>\n",
              "      <td>2.712831</td>\n",
              "      <td>159417.751000</td>\n",
              "      <td>58764.35</td>\n",
              "    </tr>\n",
              "  </tbody>\n",
              "</table>\n",
              "<p>3613769 rows × 7 columns</p>\n",
              "</div>"
            ],
            "text/plain": [
              "                Open      High  ...  Volume_(Currency)  Weighted_Price\n",
              "Timestamp                       ...                                   \n",
              "2011-12-31      4.39      4.39  ...           2.000000            4.39\n",
              "2011-12-31      4.39      4.39  ...         210.720000            4.39\n",
              "2011-12-31      4.50      4.57  ...         171.380338            4.53\n",
              "2011-12-31      4.58      4.58  ...          41.220000            4.58\n",
              "2012-01-01      4.58      4.58  ...           6.879160            4.58\n",
              "...              ...       ...  ...                ...             ...\n",
              "2021-03-30  58714.31  58714.31  ...       81259.372187        58692.75\n",
              "2021-03-30  58683.97  58693.43  ...      428158.146640        58693.23\n",
              "2021-03-30  58693.43  58723.84  ...      100117.070370        58696.20\n",
              "2021-03-30  58742.18  58770.38  ...       42332.958633        58761.87\n",
              "2021-03-31  58767.75  58778.18  ...      159417.751000        58764.35\n",
              "\n",
              "[3613769 rows x 7 columns]"
            ]
          },
          "metadata": {},
          "execution_count": 40
        }
      ]
    },
    {
      "cell_type": "markdown",
      "metadata": {
        "id": "MTU-YpNqV9AA"
      },
      "source": [
        "Chart cene u odnosu na kolicinu btc"
      ]
    },
    {
      "cell_type": "code",
      "metadata": {
        "colab": {
          "base_uri": "https://localhost:8080/"
        },
        "id": "EUdFQs-knhBV",
        "outputId": "ec33b7ba-b996-4b91-86e7-b739018e1440"
      },
      "source": [
        "df_fix.index"
      ],
      "execution_count": 41,
      "outputs": [
        {
          "output_type": "execute_result",
          "data": {
            "text/plain": [
              "DatetimeIndex(['2011-12-31', '2011-12-31', '2011-12-31', '2011-12-31',\n",
              "               '2012-01-01', '2012-01-01', '2012-01-01', '2012-01-02',\n",
              "               '2012-01-03', '2012-01-03',\n",
              "               ...\n",
              "               '2021-03-30', '2021-03-30', '2021-03-30', '2021-03-30',\n",
              "               '2021-03-30', '2021-03-30', '2021-03-30', '2021-03-30',\n",
              "               '2021-03-30', '2021-03-31'],\n",
              "              dtype='datetime64[ns]', name='Timestamp', length=3613769, freq=None)"
            ]
          },
          "metadata": {},
          "execution_count": 41
        }
      ]
    },
    {
      "cell_type": "code",
      "metadata": {
        "colab": {
          "base_uri": "https://localhost:8080/",
          "height": 295
        },
        "id": "_1fqb_RQttAz",
        "outputId": "a3560c32-1382-4708-c0a4-7a2bda0479bc"
      },
      "source": [
        "fig = plt.figure()\n",
        "ax= fig.add_subplot()\n",
        "ax2=ax.twinx()\n",
        "\n",
        "ax.plot(df_fix.index, df_fix['Weighted_Price'], color='red', label='Weighted Price')\n",
        "ax2.plot(df_fix.index, df_fix['Volume_(BTC)'], 'g-', label='Volume BTC', alpha=0.45)\n",
        "ax.set_xlabel('Date')\n",
        "ax.set_ylabel('Weighted Price')\n",
        "ax.set_title('Weighted Price vs Volume BTC')\n",
        "ax2.set_xlabel('')\n",
        "ax2.set_ylabel('Volume BTC')\n",
        "\n",
        "lines, labels = ax.get_legend_handles_labels()\n",
        "lines2, labels2 = ax2.get_legend_handles_labels()\n",
        "\n",
        "ax.legend(lines + lines2, labels + labels2, bbox_to_anchor=(1.1, 1.0), loc=0)\n",
        "ax.grid()\n",
        "plt.show()"
      ],
      "execution_count": 42,
      "outputs": [
        {
          "output_type": "display_data",
          "data": {
            "image/png": "[encoded data removed]",
            "text/plain": [
              "<Figure size 432x288 with 2 Axes>"
            ]
          },
          "metadata": {
            "needs_background": "light"
          }
        }
      ]
    },
    {
      "cell_type": "markdown",
      "metadata": {
        "id": "ZMCIv3QTajhr"
      },
      "source": [
        "weekly resample"
      ]
    },
    {
      "cell_type": "code",
      "metadata": {
        "colab": {
          "base_uri": "https://localhost:8080/",
          "height": 450
        },
        "id": "BLCrjHFaYore",
        "outputId": "71e45f77-1979-4d0f-9ef5-9142fec27c19"
      },
      "source": [
        "week = df_fix.resample('W').agg({'Open': 'mean',\n",
        "                          'Close':'mean', \n",
        "                          'High': 'max', \n",
        "                          'Low': 'min', \n",
        "                          'Volume_(BTC)':'sum',\n",
        "                          })\n",
        "week"
      ],
      "execution_count": 43,
      "outputs": [
        {
          "output_type": "execute_result",
          "data": {
            "text/html": [
              "<div>\n",
              "<style scoped>\n",
              "    .dataframe tbody tr th:only-of-type {\n",
              "        vertical-align: middle;\n",
              "    }\n",
              "\n",
              "    .dataframe tbody tr th {\n",
              "        vertical-align: top;\n",
              "    }\n",
              "\n",
              "    .dataframe thead th {\n",
              "        text-align: right;\n",
              "    }\n",
              "</style>\n",
              "<table border=\"1\" class=\"dataframe\">\n",
              "  <thead>\n",
              "    <tr style=\"text-align: right;\">\n",
              "      <th></th>\n",
              "      <th>Open</th>\n",
              "      <th>Close</th>\n",
              "      <th>High</th>\n",
              "      <th>Low</th>\n",
              "      <th>Volume_(BTC)</th>\n",
              "    </tr>\n",
              "    <tr>\n",
              "      <th>Timestamp</th>\n",
              "      <th></th>\n",
              "      <th></th>\n",
              "      <th></th>\n",
              "      <th></th>\n",
              "      <th></th>\n",
              "    </tr>\n",
              "  </thead>\n",
              "  <tbody>\n",
              "    <tr>\n",
              "      <th>2012-01-01</th>\n",
              "      <td>4.611429</td>\n",
              "      <td>4.621429</td>\n",
              "      <td>5.00</td>\n",
              "      <td>4.39</td>\n",
              "      <td>116.919878</td>\n",
              "    </tr>\n",
              "    <tr>\n",
              "      <th>2012-01-08</th>\n",
              "      <td>6.009286</td>\n",
              "      <td>6.017321</td>\n",
              "      <td>7.00</td>\n",
              "      <td>4.93</td>\n",
              "      <td>348.298975</td>\n",
              "    </tr>\n",
              "    <tr>\n",
              "      <th>2012-01-15</th>\n",
              "      <td>6.847168</td>\n",
              "      <td>6.845145</td>\n",
              "      <td>7.38</td>\n",
              "      <td>6.23</td>\n",
              "      <td>399.325314</td>\n",
              "    </tr>\n",
              "    <tr>\n",
              "      <th>2012-01-22</th>\n",
              "      <td>6.332981</td>\n",
              "      <td>6.332019</td>\n",
              "      <td>7.10</td>\n",
              "      <td>5.52</td>\n",
              "      <td>731.836776</td>\n",
              "    </tr>\n",
              "    <tr>\n",
              "      <th>2012-01-29</th>\n",
              "      <td>6.124828</td>\n",
              "      <td>6.125431</td>\n",
              "      <td>6.86</td>\n",
              "      <td>3.80</td>\n",
              "      <td>393.194037</td>\n",
              "    </tr>\n",
              "    <tr>\n",
              "      <th>...</th>\n",
              "      <td>...</td>\n",
              "      <td>...</td>\n",
              "      <td>...</td>\n",
              "      <td>...</td>\n",
              "      <td>...</td>\n",
              "    </tr>\n",
              "    <tr>\n",
              "      <th>2021-03-07</th>\n",
              "      <td>48913.831560</td>\n",
              "      <td>48915.008325</td>\n",
              "      <td>52652.82</td>\n",
              "      <td>45020.25</td>\n",
              "      <td>35430.404648</td>\n",
              "    </tr>\n",
              "    <tr>\n",
              "      <th>2021-03-14</th>\n",
              "      <td>56070.912525</td>\n",
              "      <td>56071.977534</td>\n",
              "      <td>61781.83</td>\n",
              "      <td>49316.98</td>\n",
              "      <td>38099.486052</td>\n",
              "    </tr>\n",
              "    <tr>\n",
              "      <th>2021-03-21</th>\n",
              "      <td>57409.002829</td>\n",
              "      <td>57410.340495</td>\n",
              "      <td>60595.13</td>\n",
              "      <td>53221.00</td>\n",
              "      <td>36350.207453</td>\n",
              "    </tr>\n",
              "    <tr>\n",
              "      <th>2021-03-28</th>\n",
              "      <td>54714.374227</td>\n",
              "      <td>54715.714425</td>\n",
              "      <td>58461.78</td>\n",
              "      <td>50360.00</td>\n",
              "      <td>34671.280242</td>\n",
              "    </tr>\n",
              "    <tr>\n",
              "      <th>2021-04-04</th>\n",
              "      <td>57631.492329</td>\n",
              "      <td>57632.642852</td>\n",
              "      <td>59388.66</td>\n",
              "      <td>54892.42</td>\n",
              "      <td>8755.477113</td>\n",
              "    </tr>\n",
              "  </tbody>\n",
              "</table>\n",
              "<p>484 rows × 5 columns</p>\n",
              "</div>"
            ],
            "text/plain": [
              "                    Open         Close      High       Low  Volume_(BTC)\n",
              "Timestamp                                                               \n",
              "2012-01-01      4.611429      4.621429      5.00      4.39    116.919878\n",
              "2012-01-08      6.009286      6.017321      7.00      4.93    348.298975\n",
              "2012-01-15      6.847168      6.845145      7.38      6.23    399.325314\n",
              "2012-01-22      6.332981      6.332019      7.10      5.52    731.836776\n",
              "2012-01-29      6.124828      6.125431      6.86      3.80    393.194037\n",
              "...                  ...           ...       ...       ...           ...\n",
              "2021-03-07  48913.831560  48915.008325  52652.82  45020.25  35430.404648\n",
              "2021-03-14  56070.912525  56071.977534  61781.83  49316.98  38099.486052\n",
              "2021-03-21  57409.002829  57410.340495  60595.13  53221.00  36350.207453\n",
              "2021-03-28  54714.374227  54715.714425  58461.78  50360.00  34671.280242\n",
              "2021-04-04  57631.492329  57632.642852  59388.66  54892.42   8755.477113\n",
              "\n",
              "[484 rows x 5 columns]"
            ]
          },
          "metadata": {},
          "execution_count": 43
        }
      ]
    },
    {
      "cell_type": "markdown",
      "metadata": {
        "id": "KuH_8hRVcL6q"
      },
      "source": [
        "chart cene za godine 2018 do 2021 - nedeljni resample"
      ]
    },
    {
      "cell_type": "code",
      "metadata": {
        "colab": {
          "base_uri": "https://localhost:8080/",
          "height": 524
        },
        "id": "4OYELta4bW2H",
        "outputId": "028fb5b3-280e-436d-b3ab-176e926b1c58"
      },
      "source": [
        "mpf.plot(week['2018':'2021'], type='candle', mav=(3,5,7))"
      ],
      "execution_count": 44,
      "outputs": [
        {
          "output_type": "display_data",
          "data": {
            "image/png": "[encoded data removed]",
            "text/plain": [
              "<Figure size 800x575 with 2 Axes>"
            ]
          },
          "metadata": {}
        }
      ]
    },
    {
      "cell_type": "code",
      "metadata": {
        "colab": {
          "base_uri": "https://localhost:8080/",
          "height": 468
        },
        "id": "lgdPg3LZdMaI",
        "outputId": "0fec8b8e-c174-4651-97e1-c52c85dad179"
      },
      "source": [
        "fig = plt.figure()\n",
        "ax= fig.add_subplot()\n",
        "\n",
        "week.plot(ax=ax, alpha=0.45)\n",
        "ax.set_xlabel('Date')\n",
        "lines, labels = ax.get_legend_handles_labels()\n",
        "ax.legend(lines, labels, bbox_to_anchor=(1.4, 1.0), loc=0)"
      ],
      "execution_count": 45,
      "outputs": [
        {
          "output_type": "execute_result",
          "data": {
            "text/plain": [
              "<matplotlib.legend.Legend at 0x7ff80b41ff50>"
            ]
          },
          "metadata": {},
          "execution_count": 45
        },
        {
          "output_type": "display_data",
          "data": {
            "image/png": "[encoded data removed]",
            "text/plain": [
              "<Figure size 640x480 with 1 Axes>"
            ]
          },
          "metadata": {}
        }
      ]
    },
    {
      "cell_type": "code",
      "metadata": {
        "colab": {
          "base_uri": "https://localhost:8080/",
          "height": 468
        },
        "id": "piLLzsHjbJEV",
        "outputId": "915a4933-b4e8-4fbd-f9fe-88c16446fcf6"
      },
      "source": [
        "highs = df_fix['High'].resample('D').max()\n",
        "\n",
        "highs.plot(alpha=0.5)"
      ],
      "execution_count": 46,
      "outputs": [
        {
          "output_type": "execute_result",
          "data": {
            "text/plain": [
              "<matplotlib.axes._subplots.AxesSubplot at 0x7ff80b449fd0>"
            ]
          },
          "metadata": {},
          "execution_count": 46
        },
        {
          "output_type": "display_data",
          "data": {
            "image/png": "[encoded data removed]",
            "text/plain": [
              "<Figure size 640x480 with 1 Axes>"
            ]
          },
          "metadata": {}
        }
      ]
    }
  ]
}